{
 "cells": [
  {
   "cell_type": "code",
   "execution_count": null,
   "metadata": {
    "ExecuteTime": {
     "end_time": "2017-07-03T14:23:22.564390Z",
     "start_time": "2017-07-03T14:22:58.824060Z"
    }
   },
   "outputs": [
    {
     "name": "stderr",
     "output_type": "stream",
     "text": [
      "Using TensorFlow backend.\n"
     ]
    }
   ],
   "source": [
    "%matplotlib notebook\n",
    "import keras\n",
    "import tracker3d\n",
    "import pandas as pd\n",
    "import numpy as np\n",
    "import matplotlib.pyplot as plt"
   ]
  },
  {
   "cell_type": "code",
   "execution_count": null,
   "metadata": {
    "ExecuteTime": {
     "end_time": "2017-07-03T14:23:55.112825Z",
     "start_time": "2017-07-03T14:23:25.586871Z"
    },
    "collapsed": true
   },
   "outputs": [],
   "source": [
    "frame = pd.read_csv(\"datasets/standard_curves100MeV.csv\")\n",
    "train, target = tracker3d.loader.dataload(frame, nev=256, tpe=9, ts=6, npe=0)"
   ]
  },
  {
   "cell_type": "code",
   "execution_count": null,
   "metadata": {
    "collapsed": true
   },
   "outputs": [],
   "source": [
    "tracker3d.side_by_side_display"
   ]
  },
  {
   "cell_type": "code",
   "execution_count": null,
   "metadata": {
    "ExecuteTime": {
     "end_time": "2017-07-03T14:30:48.881024Z",
     "start_time": "2017-07-03T14:30:48.777957Z"
    },
    "collapsed": true
   },
   "outputs": [],
   "source": [
    "event_number = np.random.randint(0, train.shape[0])\n",
    "tracker3d.utils.plot3D(train[event_number], target[event_number])"
   ]
  },
  {
   "cell_type": "code",
   "execution_count": null,
   "metadata": {
    "ExecuteTime": {
     "end_time": "2017-06-29T19:11:23.150356Z",
     "start_time": "2017-06-29T19:11:22.990241Z"
    },
    "collapsed": true
   },
   "outputs": [],
   "source": [
    "tracker3d.utils.display_side_by_side(train, target, 2)"
   ]
  },
  {
   "cell_type": "code",
   "execution_count": null,
   "metadata": {
    "ExecuteTime": {
     "end_time": "2017-07-03T14:24:33.782166Z",
     "start_time": "2017-07-03T14:24:33.777160Z"
    },
    "collapsed": true
   },
   "outputs": [],
   "source": [
    "from keras.layers import Dense, LSTM, Dropout\n",
    "from keras.models import Sequential"
   ]
  },
  {
   "cell_type": "code",
   "execution_count": null,
   "metadata": {
    "ExecuteTime": {
     "end_time": "2017-07-03T14:24:42.514389Z",
     "start_time": "2017-07-03T14:24:41.167701Z"
    },
    "collapsed": true
   },
   "outputs": [],
   "source": [
    "input_shape = train[0].shape # Shape of an event.\n",
    "output_shape = len(target[0][0]) # Number of tracks per event\n",
    "\n",
    "batch_size = 32\n",
    "epochs     = 256\n",
    "valsplit   = 0.25\n",
    "opt        = 'rmsprop' # optimizer\n",
    "model = Sequential()\n",
    "model.add(LSTM(64, return_sequences=True, input_shape=input_shape, dropout=.2, recurrent_dropout=.2))\n",
    "model.add(Dense(output_shape, activation='softmax'))\n",
    "\n",
    "model.compile(loss='categorical_crossentropy', optimizer=opt, metrics=['accuracy'])\n",
    "#tracker.model.summary()"
   ]
  },
  {
   "cell_type": "code",
   "execution_count": null,
   "metadata": {
    "ExecuteTime": {
     "end_time": "2017-07-03T14:26:40.475290Z",
     "start_time": "2017-07-03T14:24:48.540238Z"
    },
    "collapsed": true
   },
   "outputs": [],
   "source": [
    "modelpath = 'simple.h5'\n",
    "hist = model.fit(train, target, epochs=epochs, batch_size=batch_size,\n",
    "                         verbose=0, validation_split=valsplit,\n",
    "                         callbacks=[keras.callbacks.ModelCheckpoint(filepath=modelpath, verbose=0)])"
   ]
  },
  {
   "cell_type": "code",
   "execution_count": null,
   "metadata": {
    "ExecuteTime": {
     "end_time": "2017-07-03T14:26:44.310473Z",
     "start_time": "2017-07-03T14:26:44.091326Z"
    },
    "collapsed": true
   },
   "outputs": [],
   "source": [
    "predictions = model.predict(train, batch_size=batch_size)"
   ]
  },
  {
   "cell_type": "code",
   "execution_count": null,
   "metadata": {
    "ExecuteTime": {
     "end_time": "2017-07-03T14:32:59.286564Z",
     "start_time": "2017-07-03T14:32:58.992244Z"
    },
    "collapsed": true,
    "scrolled": false
   },
   "outputs": [],
   "source": [
    "event_number = 4\n",
    "tracker3d.utils.plot3D(train[event_number],\n",
    "                       predictions[event_number],\n",
    "                       target[event_number])\n",
    "tracker3d.utils.display_side_by_side(train[event_number:], predictions[event_number:], 1)"
   ]
  },
  {
   "cell_type": "code",
   "execution_count": null,
   "metadata": {
    "ExecuteTime": {
     "end_time": "2017-07-03T14:28:02.941196Z",
     "start_time": "2017-07-03T14:28:02.588957Z"
    },
    "collapsed": true,
    "scrolled": false
   },
   "outputs": [],
   "source": [
    "tracker3d.utils.print_scores(model, train, target, batch_size)\n",
    "tracker3d.utils.graph_losses([(\"Categorical Cross Entropy\", hist)])"
   ]
  }
 ],
 "metadata": {
  "kernelspec": {
   "display_name": "Python 3",
   "language": "python",
   "name": "python3"
  },
  "language_info": {
   "codemirror_mode": {
    "name": "ipython",
    "version": 3
   },
   "file_extension": ".py",
   "mimetype": "text/x-python",
   "name": "python",
   "nbconvert_exporter": "python",
   "pygments_lexer": "ipython3",
   "version": "3.6.1"
  },
  "toc": {
   "colors": {
    "hover_highlight": "#DAA520",
    "navigate_num": "#000000",
    "navigate_text": "#333333",
    "running_highlight": "#FF0000",
    "selected_highlight": "#FFD700",
    "sidebar_border": "#EEEEEE",
    "wrapper_background": "#FFFFFF"
   },
   "moveMenuLeft": true,
   "nav_menu": {
    "height": "12px",
    "width": "252px"
   },
   "navigate_menu": true,
   "number_sections": true,
   "sideBar": true,
   "threshold": 4,
   "toc_cell": false,
   "toc_section_display": "block",
   "toc_window_display": false,
   "widenNotebook": false
  }
 },
 "nbformat": 4,
 "nbformat_minor": 2
}
