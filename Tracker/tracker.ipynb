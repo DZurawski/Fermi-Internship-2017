{
 "cells": [
  {
   "cell_type": "code",
   "execution_count": null,
   "metadata": {
    "ExecuteTime": {
     "end_time": "2017-06-28T17:07:12.831232Z",
     "start_time": "2017-06-28T17:07:08.777300Z"
    }
   },
   "outputs": [],
   "source": [
    "import tracker3d\n",
    "import pandas as pd"
   ]
  },
  {
   "cell_type": "code",
   "execution_count": null,
   "metadata": {
    "ExecuteTime": {
     "end_time": "2017-06-28T17:07:27.948102Z",
     "start_time": "2017-06-28T17:07:26.143401Z"
    }
   },
   "outputs": [],
   "source": [
    "frame = pd.read_csv(\"datasets/standard_100MeV.csv\")\n",
    "train, target = tracker3d.loader.dataload(frame, nev=10, tpe=8, ts=6, npe=10)"
   ]
  },
  {
   "cell_type": "code",
   "execution_count": null,
   "metadata": {
    "ExecuteTime": {
     "end_time": "2017-06-28T17:07:46.097587Z",
     "start_time": "2017-06-28T17:07:45.827903Z"
    }
   },
   "outputs": [],
   "source": [
    "IDs = tracker3d.utils.from_categorical(target[9])\n",
    "tracker3d.utils.plot3D(train[9], IDs)"
   ]
  }
 ],
 "metadata": {
  "kernelspec": {
   "display_name": "Python 3",
   "language": "python",
   "name": "python3"
  },
  "language_info": {
   "codemirror_mode": {
    "name": "ipython",
    "version": 3
   },
   "file_extension": ".py",
   "mimetype": "text/x-python",
   "name": "python",
   "nbconvert_exporter": "python",
   "pygments_lexer": "ipython3",
   "version": "3.5.1"
  },
  "toc": {
   "colors": {
    "hover_highlight": "#DAA520",
    "navigate_num": "#000000",
    "navigate_text": "#333333",
    "running_highlight": "#FF0000",
    "selected_highlight": "#FFD700",
    "sidebar_border": "#EEEEEE",
    "wrapper_background": "#FFFFFF"
   },
   "moveMenuLeft": true,
   "nav_menu": {
    "height": "12px",
    "width": "252px"
   },
   "navigate_menu": true,
   "number_sections": true,
   "sideBar": true,
   "threshold": 4,
   "toc_cell": false,
   "toc_section_display": "block",
   "toc_window_display": false,
   "widenNotebook": false
  }
 },
 "nbformat": 4,
 "nbformat_minor": 2
}
