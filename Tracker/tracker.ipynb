{
 "cells": [
  {
   "cell_type": "code",
   "execution_count": null,
   "metadata": {
    "ExecuteTime": {
     "end_time": "2017-06-29T14:34:31.095371Z",
     "start_time": "2017-06-29T14:34:26.851534Z"
    }
   },
   "outputs": [],
   "source": [
    "import keras\n",
    "import tracker3d\n",
    "import pandas as pd"
   ]
  },
  {
   "cell_type": "code",
   "execution_count": null,
   "metadata": {
    "ExecuteTime": {
     "end_time": "2017-06-29T14:34:31.592699Z",
     "start_time": "2017-06-29T14:34:31.097366Z"
    },
    "collapsed": true
   },
   "outputs": [],
   "source": [
    "frame = pd.read_csv(\"datasets/standard_linear.csv\")\n",
    "train, target = tracker3d.loader.dataload(frame, nev=3, tpe=8, ts=4, npe=50)"
   ]
  },
  {
   "cell_type": "code",
   "execution_count": null,
   "metadata": {
    "ExecuteTime": {
     "end_time": "2017-06-29T14:34:42.910818Z",
     "start_time": "2017-06-29T14:34:42.630631Z"
    }
   },
   "outputs": [],
   "source": [
    "IDs = tracker3d.utils.from_categorical(target[0])\n",
    "tracker3d.utils.plot3D(train[0], IDs)"
   ]
  },
  {
   "cell_type": "code",
   "execution_count": null,
   "metadata": {
    "ExecuteTime": {
     "end_time": "2017-06-29T14:34:52.478776Z",
     "start_time": "2017-06-29T14:34:52.348690Z"
    }
   },
   "outputs": [],
   "source": [
    "tracker3d.utils.display_side_by_side(train, target, 2)"
   ]
  },
  {
   "cell_type": "code",
   "execution_count": null,
   "metadata": {
    "ExecuteTime": {
     "end_time": "2017-06-29T14:34:57.761334Z",
     "start_time": "2017-06-29T14:34:57.755330Z"
    },
    "collapsed": true
   },
   "outputs": [],
   "source": [
    "from keras.layers import Dense, LSTM, Dropout\n",
    "from keras.models import Sequential"
   ]
  },
  {
   "cell_type": "code",
   "execution_count": null,
   "metadata": {
    "ExecuteTime": {
     "end_time": "2017-06-29T14:35:01.860117Z",
     "start_time": "2017-06-29T14:35:00.880452Z"
    },
    "collapsed": true
   },
   "outputs": [],
   "source": [
    "input_shape = train[0].shape # Shape of an event.\n",
    "output_shape = len(target[0][0]) # Number of tracks per event\n",
    "\n",
    "batch_size = 32\n",
    "epochs     = 64\n",
    "valsplit   = 0.25\n",
    "opt        = 'rmsprop' # optimizer\n",
    "model = Sequential()\n",
    "model.add(LSTM(32, return_sequences=True, input_shape=input_shape, dropout=.2, recurrent_dropout=.2))\n",
    "model.add(Dense(output_shape, activation='softmax'))\n",
    "\n",
    "model.compile(loss='categorical_crossentropy', optimizer=opt, metrics=['accuracy'])\n",
    "#tracker.model.summary()"
   ]
  },
  {
   "cell_type": "code",
   "execution_count": null,
   "metadata": {
    "ExecuteTime": {
     "end_time": "2017-06-29T14:35:17.604835Z",
     "start_time": "2017-06-29T14:35:05.724119Z"
    }
   },
   "outputs": [],
   "source": [
    "modelpath = 'simple.h5'\n",
    "hist = model.fit(train, target, epochs=epochs, batch_size=batch_size,\n",
    "                         verbose=0, validation_split=valsplit,\n",
    "                         callbacks=[keras.callbacks.ModelCheckpoint(filepath=modelpath, verbose=0)])"
   ]
  },
  {
   "cell_type": "code",
   "execution_count": null,
   "metadata": {
    "ExecuteTime": {
     "end_time": "2017-06-29T14:36:16.939779Z",
     "start_time": "2017-06-29T14:36:16.831698Z"
    }
   },
   "outputs": [],
   "source": [
    "predictions = model.predict(train, batch_size=batch_size)"
   ]
  },
  {
   "cell_type": "code",
   "execution_count": null,
   "metadata": {
    "ExecuteTime": {
     "end_time": "2017-06-29T14:36:18.233840Z",
     "start_time": "2017-06-29T14:36:18.155787Z"
    }
   },
   "outputs": [],
   "source": [
    "tracker3d.utils.print_metrics(train, target, predictions)"
   ]
  },
  {
   "cell_type": "code",
   "execution_count": null,
   "metadata": {
    "ExecuteTime": {
     "end_time": "2017-06-29T14:36:49.502167Z",
     "start_time": "2017-06-29T14:36:49.370080Z"
    }
   },
   "outputs": [],
   "source": [
    "tracker3d.utils.display_side_by_side(train, predictions)"
   ]
  }
 ],
 "metadata": {
  "kernelspec": {
   "display_name": "Python 3",
   "language": "python",
   "name": "python3"
  },
  "language_info": {
   "codemirror_mode": {
    "name": "ipython",
    "version": 3
   },
   "file_extension": ".py",
   "mimetype": "text/x-python",
   "name": "python",
   "nbconvert_exporter": "python",
   "pygments_lexer": "ipython3",
   "version": "3.5.1"
  },
  "toc": {
   "colors": {
    "hover_highlight": "#DAA520",
    "navigate_num": "#000000",
    "navigate_text": "#333333",
    "running_highlight": "#FF0000",
    "selected_highlight": "#FFD700",
    "sidebar_border": "#EEEEEE",
    "wrapper_background": "#FFFFFF"
   },
   "moveMenuLeft": true,
   "nav_menu": {
    "height": "12px",
    "width": "252px"
   },
   "navigate_menu": true,
   "number_sections": true,
   "sideBar": true,
   "threshold": 4,
   "toc_cell": false,
   "toc_section_display": "block",
   "toc_window_display": false,
   "widenNotebook": false
  }
 },
 "nbformat": 4,
 "nbformat_minor": 2
}
