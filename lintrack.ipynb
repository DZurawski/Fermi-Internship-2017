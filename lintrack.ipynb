{
 "cells": [
  {
   "cell_type": "code",
   "execution_count": 2,
   "metadata": {
    "collapsed": true
   },
   "outputs": [],
   "source": [
    "import random\n",
    "import pandas as pd\n",
    "import numpy as np"
   ]
  },
  {
   "cell_type": "code",
   "execution_count": 4,
   "metadata": {
    "collapsed": true
   },
   "outputs": [],
   "source": [
    "class LinearTracker():\n",
    "    \"\"\" An object that classifies particles to tracks after an event. \"\"\"    \n",
    "    def __init__(self, dataframe, model=None):\n",
    "        \"\"\" Initialize a LinearTracker.\n",
    "            @param dataframe - pd.DataFrame - used to pick tracks from.\n",
    "                The headers should contain: (\"id\", \"z\", \"r\", \"phi\").\n",
    "            @param model - keras model - A network model that the tracker will\n",
    "                use to classify particles.\n",
    "            @return Nothing\n",
    "        \"\"\"\n",
    "        self.model     = model     # keras model to figure out tracks.\n",
    "        self.dataframe = dataframe # pandas.DataFrame for picking tracks.\n",
    "        self.input     = None      # input to train model on.\n",
    "        self.output    = None      # output to train model on.\n",
    "    # END function __init__\n",
    "    \n",
    "    def load_data(self, num_events=1,\n",
    "                  tracks_per_event=3, track_size=4, noise_per_event=3):\n",
    "        \"\"\" Load input and output data from this object's dataframe.\n",
    "            @param num_events - int - The number of events to generate.\n",
    "            @param tracks_per_event - int - The number of tracks per event.\n",
    "            @param track_size - int - The number of hits per track.\n",
    "            @param noise_per_event - int - The number of hits with no track.\n",
    "            @return Nothing\n",
    "                However, self.input and self.output become numpy arrays.\n",
    "                self.input is collection of hits of shape:\n",
    "                    (num_events, hits_per_event, 3)\n",
    "                self.output is list of probability matrices of shape:\n",
    "                    (num_events, hits_per_event, tracks_per_event)\n",
    "        \"\"\"\n",
    "        hits_per_event = (track_size * tracks_per_event) + noise_per_event\n",
    "        data   = self.dataframe[[\"id\", \"r\", \"phi\", \"z\"]].drop_duplicates()\n",
    "        groups = data.groupby(\"id\")\n",
    "        valids = groups.filter(lambda track: len(track) == track_size)\n",
    "        bads   = groups.filter(lambda track: len(track) != track_size)\n",
    "        labels = [\"phi\", \"r\", \"z\"]\n",
    "        \n",
    "        # Populate input and output with data.\n",
    "        self.input  = np.zeros((num_events, hits_per_event, len(labels)))\n",
    "        self.output = np.zeros((num_events, hits_per_event, tracks_per_event))\n",
    "        for n in range(num_events):\n",
    "            # Retrieve the hits within this event.\n",
    "            sample = random.sample(list(valids.groupby(\"id\")), tracks_per_event)\n",
    "            tracks = [track[1] for track in sample] # Make it not a tuple.\n",
    "            noise  = bads.sample(noise_per_event)\n",
    "            hits   = pd.concat(tracks + [noise])\n",
    "            hits.sort_values(labels, inplace=True)\n",
    "            \n",
    "            # Populate this event's inputs.\n",
    "            self.input[n, :] = hits[labels].values\n",
    "            \n",
    "            # Define a mapping from track ID to probability matrix column.\n",
    "            T2I = dict()\n",
    "            for t, track_ID in enumerate([s[0] for s in sample]):\n",
    "                T2I[track_ID] = t\n",
    "            \n",
    "            # Populate this event's outputs.\n",
    "            for t, track_ID in enumerate(hits[\"id\"]):\n",
    "                index = T2I.get(track_ID)\n",
    "                if index is not None:\n",
    "                    self.output[n, t, index] = 1\n",
    "    # END FUNCTION load_data\n",
    "# END CLASS LinearTracker"
   ]
  },
  {
   "cell_type": "code",
   "execution_count": 8,
   "metadata": {
    "collapsed": true
   },
   "outputs": [],
   "source": [
    "np.random.seed(7)\n",
    "filename  = ('file_o_stuff3.csv')\n",
    "dataframe = pd.read_csv(filename)\n",
    "tracker   = LinearTracker(dataframe)\n",
    "tracker.load_data()"
   ]
  },
  {
   "cell_type": "code",
   "execution_count": 10,
   "metadata": {},
   "outputs": [
    {
     "data": {
      "text/plain": [
       "array([[[   0.44696985,   40.        ,  302.06830031],\n",
       "        [   1.85007444,   40.        ,  -98.64722053],\n",
       "        [   3.10193417,   40.        ,   72.62209593],\n",
       "        [   3.10193417,   70.        ,   72.62209593],\n",
       "        [   3.10193417,  100.        ,   72.62209593],\n",
       "        [   3.10193417,  130.        ,   72.62209593],\n",
       "        [   3.16403018,   40.        , -119.2774456 ],\n",
       "        [   3.16403018,   70.        , -119.2774456 ],\n",
       "        [   3.16403018,  100.        , -119.2774456 ],\n",
       "        [   3.16403018,  130.        , -119.2774456 ],\n",
       "        [   3.67487425,   40.        ,  -36.06940527],\n",
       "        [   3.67487425,   70.        ,  -36.06940527],\n",
       "        [   3.67487425,  100.        ,  -36.06940527],\n",
       "        [   3.67487425,  130.        ,  -36.06940527],\n",
       "        [   5.34199006,  130.        ,  263.49715749]]])"
      ]
     },
     "execution_count": 10,
     "metadata": {},
     "output_type": "execute_result"
    }
   ],
   "source": [
    "tracker.input"
   ]
  },
  {
   "cell_type": "code",
   "execution_count": null,
   "metadata": {
    "collapsed": true
   },
   "outputs": [],
   "source": [
    "tracker.output"
   ]
  }
 ],
 "metadata": {
  "kernelspec": {
   "display_name": "Python 3",
   "language": "python",
   "name": "python3"
  },
  "language_info": {
   "codemirror_mode": {
    "name": "ipython",
    "version": 3
   },
   "file_extension": ".py",
   "mimetype": "text/x-python",
   "name": "python",
   "nbconvert_exporter": "python",
   "pygments_lexer": "ipython3",
   "version": "3.5.1"
  }
 },
 "nbformat": 4,
 "nbformat_minor": 2
}
