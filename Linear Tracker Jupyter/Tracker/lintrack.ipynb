{
 "cells": [
  {
   "cell_type": "markdown",
   "metadata": {},
   "source": [
    "This is a program that will train a model to identify and assign hits to tracks.\n",
    "Written by Daniel Zurawski & Keshav Kapoor for Fermilab Summer 2017 internship."
   ]
  },
  {
   "cell_type": "code",
   "execution_count": null,
   "metadata": {},
   "outputs": [],
   "source": [
    "import keras\n",
    "import random\n",
    "import winsound\n",
    "import tracker3d\n",
    "import pandas as pd\n",
    "import numpy as np\n",
    "import matplotlib.pyplot as plt\n",
    "from mpl_toolkits.mplot3d import Axes3D as ax\n",
    "\n",
    "pd.options.display.float_format = '{:,.2f}'.format"
   ]
  },
  {
   "cell_type": "code",
   "execution_count": null,
   "metadata": {
    "collapsed": true
   },
   "outputs": [],
   "source": [
    "def row_max(modelPredictions):\n",
    "    discreteOut = np.zeros(modelPredictions.size)\n",
    "    maxInd = np.argmax(modelPredictions)\n",
    "    discreteOut[maxInd] = 1\n",
    "    return discreteOut"
   ]
  },
  {
   "cell_type": "code",
   "execution_count": null,
   "metadata": {},
   "outputs": [],
   "source": [
    "filename  = (\"datasets/standard_100MeV.csv\")\n",
    "train, target = tracker3d.loader.dataLoad(pd.read_csv(filename), nev=5, tpe=5, ts=4, npe=0)"
   ]
  },
  {
   "cell_type": "markdown",
   "metadata": {},
   "source": [
    "Let's take a look at the input and output training data."
   ]
  },
  {
   "cell_type": "markdown",
   "metadata": {
    "collapsed": true
   },
   "source": [
    "from IPython.display import display,HTML\n",
    "\n",
    "def multi_column_df_display(list_dfs, cols=2):\n",
    "    \"\"\" Code by David Medenjak responding to StackOverflow question found here:\n",
    "        https://stackoverflow.com/questions/38783027/jupyter-notebook-display-two-pandas-tables-side-by-side\n",
    "        Displays a list of dataframes in IPython as a table with cols number of columns.\n",
    "    \"\"\"\n",
    "    html_table = \"<table style='width:100%; border:0px'>{content}</table>\"\n",
    "    html_row = \"<tr style='border:0px'>{content}</tr>\"\n",
    "    html_cell = \"<td style='width:{width}%;vertical-align:top;border:0px'>{{content}}</td>\"\n",
    "    html_cell = html_cell.format(width=100/cols)\n",
    "\n",
    "    cells = [ html_cell.format(content=df.to_html()) for df in list_dfs ]\n",
    "    cells += (cols - (len(list_dfs)%cols)) * [html_cell.format(content=\"\")] # pad\n",
    "    rows = [ html_row.format(content=\"\".join(cells[i:i+cols])) for i in range(0,len(cells),cols)]\n",
    "    display(HTML(html_table.format(content=\"\".join(rows))))\n",
    "# END FUNCTION multi_column_df_display\n",
    "\n",
    "input_cols  = [\"phi\", \"r\", \"act_z\"]\n",
    "output_cols = [\"T{}\".format(i) for i in range(tracker.output.shape[2] - 1)] + [\"N\"]\n",
    "show_max    = 2\n",
    "\n",
    "if show_max is not None and show_max > 0 and show_max < len(tracker.input):\n",
    "    print(\"Displaying the first {} inputs and outputs.\".format(show_max))\n",
    "    input_frames  = [pd.DataFrame(data=tracker.input[i], columns=input_cols) for i in range(show_max)]\n",
    "    output_frames = [pd.DataFrame(data=tracker.output[i].astype(int), columns=output_cols) for i in range(show_max)]\n",
    "else:\n",
    "    print(\"Displaying all of input and output.\")\n",
    "    input_frames  = [pd.DataFrame(data=matrix, columns=input_cols)  for matrix in tracker.input]\n",
    "    output_frames = [pd.DataFrame(data=matrix.astype(int), columns=output_cols) for matrix in tracker.output]\n",
    "    \n",
    "df_list  = []\n",
    "for i in range(len(input_frames)):    \n",
    "    df_list.append(input_frames[i])\n",
    "    df_list.append(output_frames[i])\n",
    "\n",
    "print(\"Input shape:  {}\".format(tracker.input.shape))\n",
    "print(\"Output shape: {}\".format(tracker.output.shape))\n",
    "multi_column_df_display(df_list)"
   ]
  },
  {
   "cell_type": "markdown",
   "metadata": {},
   "source": [
    "Let's now try to load a model into our tracker."
   ]
  },
  {
   "cell_type": "code",
   "execution_count": null,
   "metadata": {
    "collapsed": true
   },
   "outputs": [],
   "source": [
    "from keras.layers import Dense, LSTM, Dropout\n",
    "from keras.models import Sequential"
   ]
  },
  {
   "cell_type": "code",
   "execution_count": null,
   "metadata": {
    "collapsed": true
   },
   "outputs": [],
   "source": [
    "input_shape = train.shape # Shape of an event.\n",
    "output_shape = len(target[0][0]) # Number of tracks per event\n",
    "\n",
    "batch_size = 32\n",
    "epochs     = 256\n",
    "valsplit   = 0.25\n",
    "opt        = 'rmsprop' # optimizer\n",
    "tracker.model = Sequential()\n",
    "tracker.model.add(GRU(32, return_sequences=True, input_shape=input_shape, dropout=.2, recurrent_dropout=.2))\n",
    "tracker.model.add(Dense(output_shape, activation='softmax'))\n",
    "\n",
    "tracker.model.compile(loss='categorical_crossentropy', optimizer=opt, metrics=['accuracy'])\n",
    "#tracker.model.summary()"
   ]
  },
  {
   "cell_type": "code",
   "execution_count": null,
   "metadata": {
    "collapsed": true
   },
   "outputs": [],
   "source": [
    "modelpath = 'simple.h5'\n",
    "hist = tracker.model.fit(train, target, epochs=epochs, batch_size=batch_size,\n",
    "                         verbose=0, validation_split=valsplit,\n",
    "                         callbacks=[keras.callbacks.ModelCheckpoint(filepath=modelpath, verbose=0)])\n",
    "print(\"Ding! All done.\")\n",
    "winsound.Beep(1000, 1000)\n",
    "winsound.Beep(1800, 1000)\n",
    "winsound.Beep(2200, 1000)"
   ]
  },
  {
   "cell_type": "markdown",
   "metadata": {},
   "source": [
    "It's time to graph the history of the neural network."
   ]
  },
  {
   "cell_type": "code",
   "execution_count": null,
   "metadata": {
    "collapsed": true
   },
   "outputs": [],
   "source": [
    "score, acc = tracker.model.evaluate(tracker.input, tracker.output, batch_size=batch_size)\n",
    "print(\"\\nTest Score:    {}\".format(score))\n",
    "print(\"Test Accuracy: {}\".format(acc))\n",
    "show_losses([(\"Categorical Cross Entropy\", hist)])"
   ]
  },
  {
   "cell_type": "code",
   "execution_count": null,
   "metadata": {
    "collapsed": true
   },
   "outputs": [],
   "source": [
    "predictions = tracker.model.predict(tracker.input[:len(input_frames)], batch_size=batch_size)\n",
    "\n",
    "for i, outMax in enumerate(predictions):\n",
    "    discreteOut = np.apply_along_axis(row_max, axis=1, arr=outMax)\n",
    "    acc = 0\n",
    "    showEvent = False\n",
    "    for j, x in enumerate(discreteOut):\n",
    "        if (any(np.equal(x, tracker.output[i][j].astype(int))==False)):\n",
    "            print(\"The event where the wrong hit took place is:\", i)\n",
    "            print(\"The wrong hit is in row:\", j)\n",
    "            showEvent = True\n",
    "    if showEvent==True:\n",
    "        df = [pd.DataFrame(data=discreteOut), pd.DataFrame(data=tracker.output[i]), pd.DataFrame(input_frames[i])]\n",
    "        multi_column_df_display(df)\n",
    "        acc = acc + np.count_nonzero(np.equal(x, tracker.output[i][j].astype(int)))\n",
    "    percentAcc = acc/(tracker.output[i].size)\n",
    "    print(\"Accuracy: \", percentAcc)\n",
    "    \n",
    "df = []\n",
    "for i in range(len(input_frames)):\n",
    "    df.append(input_frames[i])\n",
    "    df.append(pd.DataFrame(data=predictions[i], columns=output_cols))\n",
    "multi_column_df_display(df)"
   ]
  },
  {
   "cell_type": "code",
   "execution_count": null,
   "metadata": {
    "collapsed": true
   },
   "outputs": [],
   "source": []
  }
 ],
 "metadata": {
  "kernelspec": {
   "display_name": "Python 3",
   "language": "python",
   "name": "python3"
  },
  "language_info": {
   "codemirror_mode": {
    "name": "ipython",
    "version": 3
   },
   "file_extension": ".py",
   "mimetype": "text/x-python",
   "name": "python",
   "nbconvert_exporter": "python",
   "pygments_lexer": "ipython3",
   "version": "3.6.1"
  }
 },
 "nbformat": 4,
 "nbformat_minor": 1
}
