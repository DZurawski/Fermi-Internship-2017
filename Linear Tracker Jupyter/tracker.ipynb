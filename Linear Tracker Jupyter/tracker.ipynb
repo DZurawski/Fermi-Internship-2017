{
 "cells": [
  {
   "cell_type": "code",
   "execution_count": null,
   "metadata": {
    "ExecuteTime": {
     "end_time": "2017-06-28T16:18:42.198036Z",
     "start_time": "2017-06-28T16:18:38.090295Z"
    }
   },
   "outputs": [],
   "source": [
    "%matplotlib notebook\n",
    "import tracker3d\n",
    "import pandas as pd\n",
    "import numpy as np"
   ]
  },
  {
   "cell_type": "code",
   "execution_count": null,
   "metadata": {
    "ExecuteTime": {
     "end_time": "2017-06-28T16:18:48.308787Z",
     "start_time": "2017-06-28T16:18:46.936230Z"
    },
    "collapsed": true
   },
   "outputs": [],
   "source": [
    "frame = pd.read_csv(\"datasets/standard_curves100MeV.csv\")\n",
    "train, target = tracker3d.loader.dataload(frame, nev=256, tpe=, ts=4, npe=0)\n",
    "print(train)\n",
    "print(target)\n",
    "count = 0\n",
    "for event in target:\n",
    "    if np.count_nonzero(event) == 0:\n",
    "        count = count + 1\n",
    "print(\"The number of all 0 matrices:\")\n",
    "print(\"------\", count, \"------\")"
   ]
  },
  {
   "cell_type": "code",
   "execution_count": null,
   "metadata": {
    "collapsed": true
   },
   "outputs": [],
   "source": [
    "from keras.layers import Dense, LSTM, Dropout, GRU\n",
    "from keras.models import Sequential\n",
    "import keras"
   ]
  },
  {
   "cell_type": "code",
   "execution_count": null,
   "metadata": {
    "collapsed": true
   },
   "outputs": [],
   "source": [
    "input_shape = train[0].shape # Shape of an event.\n",
    "output_shape = len(target[0][0]) # Number of tracks per event\n",
    "\n",
    "\n",
    "batch_size = 32\n",
    "epochs     = 256\n",
    "valsplit   = 0.25\n",
    "opt        = 'rmsprop' # optimizer\n",
    "trackerModel = Sequential()\n",
    "trackerModel.add(Dense(2, input_shape=input_shape))\n",
    "trackerModel.add(GRU(32, return_sequences=True, dropout=.3, recurrent_dropout=.2))\n",
    "trackerModel.add(Dense(output_shape, activation='softmax'))\n",
    "\n",
    "\n",
    "trackerModel.compile(loss='categorical_crossentropy', optimizer=opt, metrics=['accuracy'])\n",
    "#tracker.model.summary()"
   ]
  },
  {
   "cell_type": "code",
   "execution_count": null,
   "metadata": {
    "collapsed": true
   },
   "outputs": [],
   "source": [
    "modelpath = 'simple.h5'\n",
    "hist = trackerModel.fit(train, target, epochs=epochs, batch_size=batch_size,\n",
    "                         verbose=0, validation_split=valsplit,\n",
    "                         callbacks=[keras.callbacks.ModelCheckpoint(filepath=modelpath, verbose=0)])\n",
    "print(\"Ding! All done.\")\n"
   ]
  },
  {
   "cell_type": "code",
   "execution_count": null,
   "metadata": {
    "collapsed": true,
    "scrolled": false
   },
   "outputs": [],
   "source": [
    "score, acc = trackerModel.evaluate(train, target, batch_size=batch_size)\n",
    "print(\"\\nTest Score:    {}\".format(score))\n",
    "print(\"Test Accuracy: {}\".format(acc))\n",
    "tracker3d.utils.graph_losses([(\"Categorical Cross Entropy\", hist)])"
   ]
  },
  {
   "cell_type": "code",
   "execution_count": null,
   "metadata": {
    "collapsed": true,
    "scrolled": false
   },
   "outputs": [],
   "source": [
    "predictions = trackerModel.predict(train[:len(train)], batch_size=batch_size)"
   ]
  },
  {
   "cell_type": "code",
   "execution_count": null,
   "metadata": {
    "collapsed": true,
    "scrolled": true
   },
   "outputs": [],
   "source": []
  },
  {
   "cell_type": "code",
   "execution_count": null,
   "metadata": {
    "collapsed": true,
    "scrolled": false
   },
   "outputs": [],
   "source": [
    "tracker3d.utils.check_and_diag(predictions[-10:], target[-10:], train[-10:])"
   ]
  },
  {
   "cell_type": "raw",
   "metadata": {},
   "source": []
  },
  {
   "cell_type": "code",
   "execution_count": null,
   "metadata": {
    "collapsed": true
   },
   "outputs": [],
   "source": [
    "tracker3d.utils.probability_hits_per_track(predictions, 2, 4)"
   ]
  },
  {
   "cell_type": "code",
   "execution_count": null,
   "metadata": {
    "collapsed": true
   },
   "outputs": [],
   "source": [
    "tracker3d.utils.plot3D(train[255], tracker3d.utils.from_categorical(predictions[255]))\n",
    "tracker3d.utils.plot3D(train[255], tracker3d.utils.from_categorical(target[255]))"
   ]
  }
 ],
 "metadata": {
  "kernelspec": {
   "display_name": "Python 3",
   "language": "python",
   "name": "python3"
  },
  "language_info": {
   "codemirror_mode": {
    "name": "ipython",
    "version": 3
   },
   "file_extension": ".py",
   "mimetype": "text/x-python",
   "name": "python",
   "nbconvert_exporter": "python",
   "pygments_lexer": "ipython3",
   "version": "3.6.1"
  },
  "toc": {
   "colors": {
    "hover_highlight": "#DAA520",
    "navigate_num": "#000000",
    "navigate_text": "#333333",
    "running_highlight": "#FF0000",
    "selected_highlight": "#FFD700",
    "sidebar_border": "#EEEEEE",
    "wrapper_background": "#FFFFFF"
   },
   "moveMenuLeft": true,
   "nav_menu": {
    "height": "12px",
    "width": "252px"
   },
   "navigate_menu": true,
   "number_sections": true,
   "sideBar": true,
   "threshold": 4,
   "toc_cell": false,
   "toc_section_display": "block",
   "toc_window_display": false,
   "widenNotebook": false
  }
 },
 "nbformat": 4,
 "nbformat_minor": 2
}
