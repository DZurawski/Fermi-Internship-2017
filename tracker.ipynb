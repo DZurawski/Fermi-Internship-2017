{
 "cells": [
  {
   "cell_type": "markdown",
   "metadata": {},
   "source": [
    "A place to test models"
   ]
  },
  {
   "cell_type": "code",
   "execution_count": null,
   "metadata": {
    "ExecuteTime": {
     "end_time": "2017-07-03T15:52:51.111338Z",
     "start_time": "2017-07-03T15:52:46.921647Z"
    }
   },
   "outputs": [],
   "source": [
    "# Author: Daniel Zurawski\n",
    "# Author: Keshav Kapoor\n",
    "# Organization: Fermilab\n",
    "# Grammar: Python 3.6.1\n",
    "\n",
    "### Choose either (1) or (2).\n",
    "### (1) If you prefer a separate window for plots, uncomment the below.\n",
    "import matplotlib\n",
    "matplotlib.use('qt5agg')\n",
    "\n",
    "### (2) If you prefer plots to display within the notebook, uncomment the below.\n",
    "### WARNING: Plots suffer performance issues and will lag a bit.\n",
    "# %matplotlib notebook\n",
    "\n",
    "import keras # Neural network models\n",
    "import pandas as pd # Data frames\n",
    "import numpy as np  # numerical python\n",
    "from tracker3d import loader, utils, metrics"
   ]
  },
  {
   "cell_type": "code",
   "execution_count": null,
   "metadata": {
    "ExecuteTime": {
     "end_time": "2017-07-03T15:53:17.339823Z",
     "start_time": "2017-07-03T15:52:51.113335Z"
    },
    "scrolled": true
   },
   "outputs": [],
   "source": [
    "%%time\n",
    "\n",
    "# How hit columns should be ordered.\n",
    "order   = (\"phi\", \"r\", \"z\")\n",
    "n_noise = 10\n",
    "code    = order[0][0] + order[1][0] + order[2][0]\n",
    "load_from_file = False  # True if you want to load from .npz file. False if you want to create your own data.\n",
    "\n",
    "# Name of files to save/load train and target data to/from.\n",
    "test_file  = \"datasets/npz/ramp_{0}_n{1}.npz\".format(code, n_noise)  # Data to test models with.\n",
    "train_file = \"datasets/npz/unif_{0}_n{1}.npz\".format(code, n_noise)  # Data to train models with.\n",
    "\n",
    "# Name of .csv files to load train and target data from if you don't want to load from .npz file.\n",
    "test_csv  = \"datasets/raw/ramp_z.csv\"\n",
    "train_csv = \"datasets/raw/unif_25t_4000e.csv\"\n",
    "\n",
    "# Retrieve the data.\n",
    "if load_from_file:  # Much faster than creating your own!\n",
    "    test_data,  test_target  = loader.from_file(test_file)\n",
    "    train_data, train_target = loader.from_file(train_file)\n",
    "else:\n",
    "    # If load_from_file is False, load the data from .csv files and then save\n",
    "    # the data to .npz files.\n",
    "    train_data, train_target = loader.from_frame(\n",
    "            frame=pd.read_csv(train_csv),\n",
    "            nev=99999,\n",
    "            tpe=9999,\n",
    "            ts=9999,\n",
    "            variable_data=True,\n",
    "            verbose=True,\n",
    "            order=order,\n",
    "            n_noise=n_noise\n",
    "    )\n",
    "    test_data, test_target = loader.from_frame(\n",
    "            frame=pd.read_csv(test_csv),\n",
    "            nev=99999,\n",
    "            tpe=9999,\n",
    "            ts=9999,\n",
    "            variable_data=True,\n",
    "            verbose=True,\n",
    "            order=order,\n",
    "            n_noise=n_noise,\n",
    "            preferred_rows=train_target.shape[1],\n",
    "            preferred_tracks=train_target.shape[2]\n",
    "    )\n",
    "    loader.to_file(train_data, train_target, train_file)\n",
    "    loader.to_file(test_data, test_target, test_file)\n",
    "    \n",
    "print(\"Successfully loaded!\")\n",
    "print(\"train_data shape:   {0},\\ntrain_target shape: {1}\".format(train_data.shape, train_target.shape))\n",
    "print(\"test_data shape:    {0},\\ntest_target shape   {1}\".format(test_data.shape, test_target.shape))"
   ]
  },
  {
   "cell_type": "code",
   "execution_count": null,
   "metadata": {
    "ExecuteTime": {
     "end_time": "2017-07-03T15:41:40.643265Z",
     "start_time": "2017-07-03T15:41:40.314054Z"
    },
    "scrolled": false
   },
   "outputs": [],
   "source": [
    "# Get a taste for how an event looks by plotting a random one.\n",
    "train  = train_data\n",
    "target = train_target\n",
    "event_number = np.random.randint(0, len(train))\n",
    "\n",
    "print(\"Event {}\".format(event_number))\n",
    "\n",
    "# Note: This will open up in a different window if using 'qt5agg'.\n",
    "# plot = utils.plot3d(\n",
    "#     train[event_number],\n",
    "#     target[event_number],\n",
    "#     order=ORDERING,\n",
    "#     title=\"Test Ramp {}\".format(event_number),\n",
    "#     flat_ax=None\n",
    "# )\n",
    "plot = utils.plot3d(\n",
    "    test_data[event_number],\n",
    "    test_target[event_number],\n",
    "    order=order,\n",
    "    title=\"Train Uniform {}\".format(event_number),\n",
    "    flat_ax=\"z\"\n",
    ")"
   ]
  },
  {
   "cell_type": "code",
   "execution_count": null,
   "metadata": {
    "ExecuteTime": {
     "end_time": "2017-06-29T19:11:23.150356Z",
     "start_time": "2017-06-29T19:11:22.990241Z"
    },
    "scrolled": true
   },
   "outputs": [],
   "source": [
    "# Display the event's hits and category probability matrix.\n",
    "# Blank entries in the category probability matrix are 0's.\n",
    "train  = train_data\n",
    "target = train_target\n",
    "event_number = np.random.randint(0, len(train))\n",
    "utils.display_side_by_side(\n",
    "    train[event_number],\n",
    "    target[event_number],\n",
    "    target[event_number],\n",
    "    order=order,\n",
    "    display=\"bold\"\n",
    ")"
   ]
  },
  {
   "cell_type": "code",
   "execution_count": null,
   "metadata": {
    "ExecuteTime": {
     "end_time": "2017-07-03T14:24:33.782166Z",
     "start_time": "2017-07-03T14:24:33.777160Z"
    },
    "collapsed": true
   },
   "outputs": [],
   "source": [
    "# To be used when we define our model.\n",
    "from keras.layers import TimeDistributed, Dense, LSTM, Activation\n",
    "from keras.layers import Dropout, GRU, Bidirectional, Conv2D, Conv1D\n",
    "from keras.layers import MaxPooling2D, Flatten\n",
    "from keras.layers.normalization import BatchNormalization\n",
    "from keras.models import Sequential"
   ]
  },
  {
   "cell_type": "code",
   "execution_count": null,
   "metadata": {
    "ExecuteTime": {
     "end_time": "2017-07-03T14:24:42.514389Z",
     "start_time": "2017-07-03T14:24:41.167701Z"
    },
    "collapsed": true
   },
   "outputs": [],
   "source": [
    "%%time\n",
    "\n",
    "# It is time to define parameters for the model.\n",
    "input_shape  = train_data.shape[1:] # Shape of an event.\n",
    "num_classes  = train_target.shape[2] # Number of tracks per event\n",
    "epochs       = 8\n",
    "batch_size   = 20\n",
    "valsplit     = 0\n",
    "opt          = 'rmsprop'\n",
    "\n",
    "# Construct the model.\n",
    "model = Sequential()\n",
    "model.add(Dropout(0.3, input_shape=input_shape))\n",
    "model.add(TimeDistributed(Dense(num_classes, kernel_initializer='uniform', activation='softmax')))\n",
    "\n",
    "# Compile the model.\n",
    "model.compile(loss='categorical_crossentropy', optimizer=opt, metrics=[\"accuracy\"])\n",
    "\n",
    "# Print a summary of the model.\n",
    "print(\"Epochs: {0}, Batch Size: {1}, Validation Split {2}%\".format(\n",
    "    epochs,\n",
    "    batch_size,\n",
    "    valsplit * 100\n",
    "))\n",
    "model.summary()"
   ]
  },
  {
   "cell_type": "code",
   "execution_count": null,
   "metadata": {
    "ExecuteTime": {
     "end_time": "2017-07-03T14:26:40.475290Z",
     "start_time": "2017-07-03T14:24:48.540238Z"
    },
    "collapsed": true,
    "scrolled": true
   },
   "outputs": [],
   "source": [
    "%%time\n",
    "\n",
    "# It is time to train the model.\n",
    "np.random.seed(7) # For reproducibility\n",
    "modelpath = \"my_model.h5\"\n",
    "hist = model.fit (\n",
    "    train_data,\n",
    "    train_target,\n",
    "    epochs=epochs,\n",
    "    batch_size=batch_size,\n",
    "    verbose=1,\n",
    "    #validation_split=valsplit,             \n",
    "    validation_data=(test_data, test_target),\n",
    "    shuffle=False\n",
    ")"
   ]
  },
  {
   "cell_type": "code",
   "execution_count": null,
   "metadata": {
    "ExecuteTime": {
     "end_time": "2017-07-03T14:26:44.310473Z",
     "start_time": "2017-07-03T14:26:44.091326Z"
    },
    "collapsed": true
   },
   "outputs": [],
   "source": [
    "%%time\n",
    "\n",
    "# Give the model the data that it did not train on and ask the model to predict it.\n",
    "predictions = model.predict(test_data, batch_size=batch_size)\n",
    "print(\"Predicted {} events.\".format(predictions.shape[0]))\n",
    "# test_pred   = predictions[test_idx[0]:test_idx[1]]\n",
    "\n",
    "print(\"Discrete Accuracy: {}\".format(\n",
    "    metrics.discrete_accuracy_all(\n",
    "        test_data,\n",
    "        predictions,\n",
    "        test_target,\n",
    "        padding=True  # If we want to not count padding rows, then True.\n",
    "    )\n",
    "))"
   ]
  },
  {
   "cell_type": "code",
   "execution_count": null,
   "metadata": {
    "ExecuteTime": {
     "end_time": "2017-07-03T14:32:59.286564Z",
     "start_time": "2017-07-03T14:32:58.992244Z"
    },
    "collapsed": true,
    "scrolled": false
   },
   "outputs": [],
   "source": [
    "# Plot a prediction with event number being *event_number*.\n",
    "# Within the ramp data set:\n",
    "# Event with most tracks: 3435 (21 tracks)\n",
    "# Events with >19 tracks: 130, 282, 1080, 3023, 3178, 3435, 3445, 3527\n",
    "# Events with 2 tracks: 11, 761, 1238\n",
    "# Event with 1 track: 292, 2415, 3313, 3390\n",
    "# No events have 0 tracks.\n",
    "train  = test_data\n",
    "target = test_target\n",
    "event_number = 130\n",
    "print(\"Event {}\".format(event_number))\n",
    "\n",
    "print(metrics.discrete_accuracy(\n",
    "    train[event_number],\n",
    "    target[event_number]\n",
    "    predictions[event_number],\n",
    "    padding=True\n",
    "))\n",
    "\n",
    "plot = utils.plot3d(\n",
    "    train[event_number],\n",
    "    predictions[event_number],\n",
    "    target[event_number],\n",
    "    order=ORDERING,\n",
    "    title=\"Event {}\".format(event_number),\n",
    "    flat_ax=None\n",
    ")"
   ]
  },
  {
   "cell_type": "code",
   "execution_count": null,
   "metadata": {
    "collapsed": true,
    "scrolled": true
   },
   "outputs": [],
   "source": [
    "# Display the prediction compared to the target matrix.\n",
    "utils.display_side_by_side(\n",
    "    train[event_number],\n",
    "    predictions[event_number],\n",
    "    target[event_number],\n",
    "    order=order,\n",
    "    display=\"bold\"\n",
    ")"
   ]
  },
  {
   "cell_type": "code",
   "execution_count": null,
   "metadata": {
    "ExecuteTime": {
     "end_time": "2017-07-03T14:28:02.941196Z",
     "start_time": "2017-07-03T14:28:02.588957Z"
    },
    "collapsed": true,
    "scrolled": true
   },
   "outputs": [],
   "source": [
    "# Plot a history of losses and accuracy that the model calculated\n",
    "# during the fitting process.\n",
    "utils.print_scores(model, train, target, batch_size)\n",
    "utils.graph_losses([(\"Categorical Cross Entropy\", hist)])"
   ]
  }
 ],
 "metadata": {
  "kernelspec": {
   "display_name": "Python 3",
   "language": "python",
   "name": "python3"
  },
  "language_info": {
   "codemirror_mode": {
    "name": "ipython",
    "version": 3
   },
   "file_extension": ".py",
   "mimetype": "text/x-python",
   "name": "python",
   "nbconvert_exporter": "python",
   "pygments_lexer": "ipython3",
   "version": "3.6.1"
  },
  "toc": {
   "colors": {
    "hover_highlight": "#DAA520",
    "navigate_num": "#000000",
    "navigate_text": "#333333",
    "running_highlight": "#FF0000",
    "selected_highlight": "#FFD700",
    "sidebar_border": "#EEEEEE",
    "wrapper_background": "#FFFFFF"
   },
   "moveMenuLeft": true,
   "nav_menu": {
    "height": "12px",
    "width": "252px"
   },
   "navigate_menu": true,
   "number_sections": true,
   "sideBar": true,
   "threshold": 4,
   "toc_cell": false,
   "toc_section_display": "block",
   "toc_window_display": false,
   "widenNotebook": false
  }
 },
 "nbformat": 4,
 "nbformat_minor": 2
}
