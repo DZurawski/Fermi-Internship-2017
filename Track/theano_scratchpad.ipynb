{
 "cells": [
  {
   "cell_type": "code",
   "execution_count": 1,
   "metadata": {
    "collapsed": true
   },
   "outputs": [],
   "source": [
    "import theano\n",
    "import numpy\n",
    "import theano.tensor as T"
   ]
  },
  {
   "cell_type": "code",
   "execution_count": 7,
   "metadata": {},
   "outputs": [
    {
     "name": "stdout",
     "output_type": "stream",
     "text": [
      "<class 'theano.tensor.sharedvar.TensorSharedVariable'>\n",
      "<TensorType(float64, matrix)>\n",
      "<class 'theano.tensor.var.TensorVariable'>\n"
     ]
    }
   ],
   "source": [
    "x    = theano.shared(numpy.random.randn(3, 4))\n",
    "y    = theano.shared(numpy.random.randn(3, 4))\n",
    "x1   = theano.tensor.matrix()\n",
    "y1   = theano.tensor.matrix()\n",
    "a, b = theano.tensor.dmatrices(2)\n",
    "print(type(x))\n",
    "print(x1)\n",
    "print(type(a))"
   ]
  },
  {
   "cell_type": "code",
   "execution_count": 3,
   "metadata": {
    "collapsed": true
   },
   "outputs": [],
   "source": [
    "kc = [[1, 1], [2, -1], [1, 1]]\n",
    "\n",
    "def f(p):\n",
    "    return (p * kc)"
   ]
  },
  {
   "cell_type": "code",
   "execution_count": 4,
   "metadata": {
    "collapsed": true
   },
   "outputs": [],
   "source": [
    "mything = T.nnet.categorical_crossentropy(x, y)\n",
    "k = 5\n",
    "myfun = theano.function([x1,y1], x1 * y1 + kc * f(x1))"
   ]
  },
  {
   "cell_type": "code",
   "execution_count": 5,
   "metadata": {},
   "outputs": [
    {
     "name": "stdout",
     "output_type": "stream",
     "text": [
      "Elemwise{Composite{((i0 * i1) + (i2 * i0 * i2))}} [id A] ''   0\n",
      " |<TensorType(float64, matrix)> [id B]\n",
      " |<TensorType(float64, matrix)> [id C]\n",
      " |TensorConstant{[[ 1.  1.]..[ 1.  1.]]} [id D]\n"
     ]
    },
    {
     "data": {
      "text/plain": [
       "theano.gof.graph.Apply"
      ]
     },
     "execution_count": 5,
     "metadata": {},
     "output_type": "execute_result"
    }
   ],
   "source": [
    "T.printing.debugprint(myfun)\n",
    "theano.pp(mything)\n",
    "type(mything.owner)"
   ]
  },
  {
   "cell_type": "code",
   "execution_count": 6,
   "metadata": {},
   "outputs": [
    {
     "data": {
      "text/plain": [
       "array([[  11.,   42.],\n",
       "       [ 102.,  164.],\n",
       "       [ 255.,  366.]])"
      ]
     },
     "execution_count": 6,
     "metadata": {},
     "output_type": "execute_result"
    }
   ],
   "source": [
    "u = [[1, 2],\n",
    "     [3, 4],\n",
    "     [5, 6]]\n",
    "v = [[10, 20],\n",
    "     [30, 40],\n",
    "     [50, 60]]\n",
    "myfun(u, v)"
   ]
  }
 ],
 "metadata": {
  "kernelspec": {
   "display_name": "Python 3",
   "language": "python",
   "name": "python3"
  },
  "language_info": {
   "codemirror_mode": {
    "name": "ipython",
    "version": 3
   },
   "file_extension": ".py",
   "mimetype": "text/x-python",
   "name": "python",
   "nbconvert_exporter": "python",
   "pygments_lexer": "ipython3",
   "version": "3.6.2"
  }
 },
 "nbformat": 4,
 "nbformat_minor": 2
}
