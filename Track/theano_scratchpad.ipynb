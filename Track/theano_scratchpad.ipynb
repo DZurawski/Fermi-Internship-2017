{
 "cells": [
  {
   "cell_type": "code",
   "execution_count": 1,
   "metadata": {},
   "outputs": [
    {
     "name": "stderr",
     "output_type": "stream",
     "text": [
      "Using cuDNN version 5110 on context None\n",
      "Mapped name None to device cuda: GeForce GTX 1080 (0000:04:00.0)\n"
     ]
    }
   ],
   "source": [
    "import numpy as np\n",
    "import theano\n",
    "import theano.tensor as T"
   ]
  },
  {
   "cell_type": "code",
   "execution_count": null,
   "metadata": {
    "collapsed": true
   },
   "outputs": [],
   "source": [
    "################################################################################\n",
    "class LogisticRegression(object):\n",
    "    def __init__(\n",
    "            self, \n",
    "            input : T.TensorType, \n",
    "            n_in  : int, \n",
    "            n_out : int,\n",
    "            ) -> None:\n",
    "        zeros  = np.zeros((n_in, n_out), dtype=theano.config.floatX)\n",
    "        self.W = theano.shared(value=zeros, name=\"W\", borrow=True)\n",
    "        \n",
    "        zeros  = np.zeros((n_out,), dtype=theano.config.floatX)\n",
    "        self.b = theano.shared(value=zeros, name=\"b\", borrow=True)\n",
    "        \n",
    "        self.p_y_given_x = T.nnet.softmax(T.dot(input, self.W) + self.b)\n",
    "        \n",
    "        self.y_pred = T.argmax(self.p_y_given_x, axis=1)\n",
    "        \n",
    "        self.params = [self.W, self.b]\n",
    "        \n",
    "        self.input = input\n",
    "        \n",
    "    def negative_log_likelihood(\n",
    "            self,\n",
    "            y : T.TensorType\n",
    "            ) -> None:\n",
    "        return -T.mean(T.log(self.p_y_given_x)[T.arange(y.shape[0]), y])\n",
    "    \n",
    "    def errors(self, y: T.TensorType) -> None:\n",
    "        if y.ndim != self.y_pred.ndim:\n",
    "            raise TypeError(\n",
    "                \"y should have the same shape as self.y_pred\",\n",
    "                (\"y\", y.type, \"y_pred\", self.y_pred.type)\n",
    "            )\n",
    "        "
   ]
  }
 ],
 "metadata": {
  "kernelspec": {
   "display_name": "Python 3",
   "language": "python",
   "name": "python3"
  },
  "language_info": {
   "codemirror_mode": {
    "name": "ipython",
    "version": 3
   },
   "file_extension": ".py",
   "mimetype": "text/x-python",
   "name": "python",
   "nbconvert_exporter": "python",
   "pygments_lexer": "ipython3",
   "version": "3.6.3"
  }
 },
 "nbformat": 4,
 "nbformat_minor": 2
}
