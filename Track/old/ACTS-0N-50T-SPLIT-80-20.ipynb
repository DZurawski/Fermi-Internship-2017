{
 "cells": [
  {
   "cell_type": "markdown",
   "metadata": {},
   "source": [
    "# 50 Tracks"
   ]
  },
  {
   "cell_type": "code",
   "execution_count": 1,
   "metadata": {
    "scrolled": true
   },
   "outputs": [
    {
     "name": "stdout",
     "output_type": "stream",
     "text": [
      "Wed Sep 20 15:09:51 2017       \n",
      "+-----------------------------------------------------------------------------+\n",
      "| NVIDIA-SMI 375.66                 Driver Version: 375.66                    |\n",
      "|-------------------------------+----------------------+----------------------+\n",
      "| GPU  Name        Persistence-M| Bus-Id        Disp.A | Volatile Uncorr. ECC |\n",
      "| Fan  Temp  Perf  Pwr:Usage/Cap|         Memory-Usage | GPU-Util  Compute M. |\n",
      "|===============================+======================+======================|\n",
      "|   0  GeForce GTX 1080    Off  | 0000:04:00.0     Off |                  N/A |\n",
      "| 40%   56C    P8    11W / 180W |    235MiB /  8114MiB |      0%      Default |\n",
      "+-------------------------------+----------------------+----------------------+\n",
      "|   1  GeForce GTX 1080    Off  | 0000:05:00.0     Off |                  N/A |\n",
      "| 27%   35C    P8     9W / 180W |    235MiB /  8114MiB |      0%      Default |\n",
      "+-------------------------------+----------------------+----------------------+\n",
      "|   2  GeForce GTX 1080    Off  | 0000:06:00.0     Off |                  N/A |\n",
      "| 27%   34C    P8    10W / 180W |    557MiB /  8114MiB |      0%      Default |\n",
      "+-------------------------------+----------------------+----------------------+\n",
      "|   3  GeForce GTX 1080    Off  | 0000:07:00.0     Off |                  N/A |\n",
      "| 27%   33C    P8     9W / 180W |    557MiB /  8114MiB |      0%      Default |\n",
      "+-------------------------------+----------------------+----------------------+\n",
      "|   4  GeForce GTX 1080    Off  | 0000:0B:00.0     Off |                  N/A |\n",
      "| 27%   34C    P8    10W / 180W |      2MiB /  8114MiB |      0%      Default |\n",
      "+-------------------------------+----------------------+----------------------+\n",
      "|   5  GeForce GTX 1080    Off  | 0000:0C:00.0     Off |                  N/A |\n",
      "| 38%   57C    P2    55W / 180W |    714MiB /  8114MiB |     48%      Default |\n",
      "+-------------------------------+----------------------+----------------------+\n",
      "|   6  GeForce GTX 1080    Off  | 0000:0D:00.0     Off |                  N/A |\n",
      "| 35%   53C    P2    54W / 180W |    505MiB /  8114MiB |     28%      Default |\n",
      "+-------------------------------+----------------------+----------------------+\n",
      "|   7  GeForce GTX 1080    Off  | 0000:0E:00.0     Off |                  N/A |\n",
      "| 36%   54C    P2    59W / 180W |    816MiB /  8114MiB |     55%      Default |\n",
      "+-------------------------------+----------------------+----------------------+\n",
      "                                                                               \n",
      "+-----------------------------------------------------------------------------+\n",
      "| Processes:                                                       GPU Memory |\n",
      "|  GPU       PID  Type  Process name                               Usage      |\n",
      "|=============================================================================|\n",
      "+-----------------------------------------------------------------------------+\n"
     ]
    }
   ],
   "source": [
    "!nvidia-smi"
   ]
  },
  {
   "cell_type": "code",
   "execution_count": 2,
   "metadata": {},
   "outputs": [
    {
     "name": "stderr",
     "output_type": "stream",
     "text": [
      "Using Theano backend.\n",
      "Using cuDNN version 5110 on context None\n",
      "Mapped name None to device cuda: GeForce GTX 1080 (0000:04:00.0)\n"
     ]
    }
   ],
   "source": [
    "import os\n",
    "os.environ[\"CUDA_VISIBLE_DEVICES\"] = \"0\"\n",
    "%matplotlib notebook\n",
    "import importlib\n",
    "import numpy as np\n",
    "import pandas as pd\n",
    "import keras\n",
    "import sys\n",
    "from keras.layers import TimeDistributed, Dense, Dropout, GRU, Bidirectional\n",
    "from keras.models import Sequential\n",
    "from tracker import extractor as ext, utils, metrics, visuals"
   ]
  },
  {
   "cell_type": "markdown",
   "metadata": {},
   "source": [
    "### Load in the data."
   ]
  },
  {
   "cell_type": "code",
   "execution_count": null,
   "metadata": {
    "collapsed": true
   },
   "outputs": [],
   "source": [
    "%%time\n",
    "# This is how the ACTS data was cleaned.\n",
    "# Don't run this cell unless you want to overwrite the current cleaned data.\n",
    "mapper = {}\n",
    "for key in range(  30,   35): mapper[key] = 32\n",
    "for key in range(  70,   75): mapper[key] = 72\n",
    "for key in range( 115,  120): mapper[key] = 117\n",
    "for key in range( 170,  175): mapper[key] = 172\n",
    "for key in range( 255,  270): mapper[key] = 260\n",
    "for key in range( 355,  370): mapper[key] = 360\n",
    "for key in range( 495,  510): mapper[key] = 500\n",
    "for key in range( 655,  670): mapper[key] = 660\n",
    "for key in range( 815,  830): mapper[key] = 820\n",
    "for key in range(1010, 1030): mapper[key] = 1020\n",
    "\n",
    "print(\"Loading in the frame.\")\n",
    "filepath   = \"data/sets/progenitors/ACTS.gz\"\n",
    "events     = utils.list_of_groups(pd.read_csv(filepath), \"event_id\")\n",
    "frame      = pd.concat([event for event in events if metrics.number_of_tracks(event) <= 50])\n",
    "frame[\"r\"] = frame[\"r\"].round().map(mapper)\n",
    "frame.drop_duplicates([\"event_id\", \"cluster_id\", \"r\"], keep=\"first\", inplace=True)\n",
    "print(\"Preparing the frame.\")\n",
    "frame = ext.prepare_frame(frame, n_tracks=50, n_rows=500, n_noise=0)\n",
    "frame = frame.sample(frac=1)  # Shuffle the set.\n",
    "print(frame[\"cluster_id\"].max())\n",
    "print(\"Saving the frame.\")\n",
    "frame.to_csv(\"data/sets/ACTS-50T-500R.gz\", compression=\"gzip\")"
   ]
  },
  {
   "cell_type": "code",
   "execution_count": 3,
   "metadata": {},
   "outputs": [
    {
     "name": "stdout",
     "output_type": "stream",
     "text": [
      "36713\n",
      "Train is list of 29370 events.\n",
      "Test is list of 7343 events.\n",
      "Train takes up 235024 bytes.\n",
      "Test takes up 58808 bytes.\n",
      "CPU times: user 23.2 s, sys: 18.3 s, total: 41.5 s\n",
      "Wall time: 41.5 s\n"
     ]
    }
   ],
   "source": [
    "%%time\n",
    "modelpath = \"data/models/ACTS-50T-500R.h5\"\n",
    "filepath  = \"data/sets/ACTS-50T-500R.gz\"\n",
    "frame     = pd.read_csv(filepath)\n",
    "events    = [event for (_, event) in frame.groupby(\"event_id\", sort=False)]\n",
    "print(len(events))\n",
    "percent   = 0.8\n",
    "cutoff    = int(percent * len(events))\n",
    "train, test = events[:cutoff], events[cutoff:]\n",
    "print(\"Train is list of {} events.\".format(len(train)))\n",
    "print(\"Test is list of {} events.\".format(len(test)))\n",
    "print(\"Train takes up {} bytes.\".format(sys.getsizeof(train)))\n",
    "print(\"Test takes up {} bytes.\".format(sys.getsizeof(test)))\n",
    "if (not utils.is_prepared(train[0])) or (not utils.is_prepared(test[0])):\n",
    "    print(\"Warning: frame is not prepared.\")\n",
    "    print(\"Look at the prepare_frame() function in tracker/extractor.py\")\n",
    "else:\n",
    "    del frame\n",
    "    del events"
   ]
  },
  {
   "cell_type": "code",
   "execution_count": 4,
   "metadata": {
    "collapsed": true
   },
   "outputs": [],
   "source": [
    "order = [\"phi\", \"r\", \"z\"]"
   ]
  },
  {
   "cell_type": "markdown",
   "metadata": {},
   "source": [
    "### Get an idea for how the tracks are distributed among the events."
   ]
  },
  {
   "cell_type": "code",
   "execution_count": null,
   "metadata": {
    "collapsed": true,
    "scrolled": true
   },
   "outputs": [],
   "source": [
    "dist = metrics.distributions(pd.concat(train))\n",
    "for i in range(len(dist[0])):\n",
    "    print(\"There are {0} events with {1} tracks.\".format(dist[1][i], dist[0][i]))"
   ]
  },
  {
   "cell_type": "code",
   "execution_count": null,
   "metadata": {
    "collapsed": true,
    "scrolled": true
   },
   "outputs": [],
   "source": [
    "dist = metrics.distributions(pd.concat(test))\n",
    "for i in range(len(dist[0])):\n",
    "    print(\"There are {0} events with {1} tracks.\".format(dist[1][i], dist[0][i]))"
   ]
  },
  {
   "cell_type": "markdown",
   "metadata": {},
   "source": [
    "### Show an example of the data."
   ]
  },
  {
   "cell_type": "code",
   "execution_count": null,
   "metadata": {
    "collapsed": true,
    "scrolled": true
   },
   "outputs": [],
   "source": [
    "n = np.random.randint(len(train))\n",
    "print(\"Train {}\".format(n))\n",
    "print(\"Number of Hits: {}\".format(metrics.number_of_hits(train[n])))\n",
    "print(\"Number of Tracks: {}\".format(metrics.number_of_tracks(train[n])))\n",
    "visuals.Plot2D(train[n], order).plot(mode=\"zr\", title=\"Train {}\".format(n))\n",
    "visuals.Plot2D(train[n], order).plot(mode=\"xy\", title=\"Train {}\".format(n))"
   ]
  },
  {
   "cell_type": "code",
   "execution_count": null,
   "metadata": {
    "collapsed": true
   },
   "outputs": [],
   "source": [
    "visuals.display(train[n], order)"
   ]
  },
  {
   "cell_type": "markdown",
   "metadata": {},
   "source": [
    "### Create the model."
   ]
  },
  {
   "cell_type": "code",
   "execution_count": 5,
   "metadata": {
    "collapsed": true
   },
   "outputs": [],
   "source": [
    "input_shape  = (500, 3)\n",
    "n_categories = 50 + 2\n",
    "optimizer    = keras.optimizers.RMSprop(lr=0.001)\n",
    "histories    = []"
   ]
  },
  {
   "cell_type": "code",
   "execution_count": null,
   "metadata": {},
   "outputs": [
    {
     "name": "stderr",
     "output_type": "stream",
     "text": [
      "WARNING (theano.configdefaults): install mkl with `conda install mkl-service`: No module named 'mkl'\n"
     ]
    }
   ],
   "source": [
    "model = keras.models.load_model(modelpath)"
   ]
  },
  {
   "cell_type": "code",
   "execution_count": null,
   "metadata": {
    "collapsed": true
   },
   "outputs": [],
   "source": [
    "model = Sequential()\n",
    "model.add(Bidirectional(\n",
    "    GRU(units=256, return_sequences=True, recurrent_dropout=1/2, implementation=2),\n",
    "    merge_mode=\"mul\",\n",
    "    input_shape=input_shape))\n",
    "model.add(Dropout(rate=1/2))\n",
    "model.add(Bidirectional(\n",
    "    GRU(units=256, return_sequences=True, recurrent_dropout=1/2, implementation=2),\n",
    "    merge_mode=\"mul\"))\n",
    "model.add(Dropout(rate=1/2))\n",
    "model.add(Bidirectional(\n",
    "    GRU(units=256, return_sequences=True, recurrent_dropout=1/2, implementation=2),\n",
    "    merge_mode=\"mul\"))\n",
    "model.add(Dropout(rate=1/2))\n",
    "model.add(TimeDistributed(Dense(units=n_categories, kernel_initializer=\"uniform\", activation=\"softmax\")))\n",
    "model.compile(loss='categorical_crossentropy', optimizer=optimizer, metrics=['accuracy'])\n",
    "model.summary()"
   ]
  },
  {
   "cell_type": "markdown",
   "metadata": {},
   "source": [
    "### Fit the model."
   ]
  },
  {
   "cell_type": "code",
   "execution_count": null,
   "metadata": {
    "scrolled": true
   },
   "outputs": [
    {
     "name": "stdout",
     "output_type": "stream",
     "text": [
      "Epoch 1/256\n",
      "293/293 [==============================] - 776s - loss: 0.1702 - acc: 0.9492 - val_loss: 0.1044 - val_acc: 0.9697\n",
      "Epoch 2/256\n",
      "293/293 [==============================] - 748s - loss: 0.1568 - acc: 0.9537 - val_loss: 0.0980 - val_acc: 0.9715\n",
      "Epoch 3/256\n",
      "293/293 [==============================] - 747s - loss: 0.1534 - acc: 0.9551 - val_loss: 0.0958 - val_acc: 0.9724\n",
      "Epoch 4/256\n",
      "293/293 [==============================] - 745s - loss: 0.1517 - acc: 0.9557 - val_loss: 0.0927 - val_acc: 0.9734\n",
      "Epoch 5/256\n",
      "293/293 [==============================] - 749s - loss: 0.1495 - acc: 0.9566 - val_loss: 0.0946 - val_acc: 0.9730\n",
      "Epoch 6/256\n",
      "293/293 [==============================] - 755s - loss: 0.1505 - acc: 0.9565 - val_loss: 0.0987 - val_acc: 0.9720\n",
      "Epoch 7/256\n",
      "293/293 [==============================] - 761s - loss: 0.1952 - acc: 0.9441 - val_loss: 0.1057 - val_acc: 0.9699\n",
      "Epoch 8/256\n",
      "293/293 [==============================] - 753s - loss: 0.1822 - acc: 0.9474 - val_loss: 0.1016 - val_acc: 0.9711\n",
      "Epoch 9/256\n",
      "293/293 [==============================] - 768s - loss: 0.1708 - acc: 0.9508 - val_loss: 0.0946 - val_acc: 0.9733\n",
      "Epoch 10/256\n",
      "293/293 [==============================] - 750s - loss: 0.1444 - acc: 0.9585 - val_loss: 0.0893 - val_acc: 0.9751\n",
      "Epoch 11/256\n",
      "293/293 [==============================] - 749s - loss: 0.1355 - acc: 0.9611 - val_loss: 0.0827 - val_acc: 0.9767\n",
      "Epoch 12/256\n",
      "293/293 [==============================] - 751s - loss: 0.1288 - acc: 0.9631 - val_loss: 0.0794 - val_acc: 0.9777\n",
      "Epoch 13/256\n",
      "293/293 [==============================] - 759s - loss: 0.1269 - acc: 0.9638 - val_loss: 0.0808 - val_acc: 0.9773\n",
      "Epoch 14/256\n",
      "293/293 [==============================] - 757s - loss: 0.1237 - acc: 0.9649 - val_loss: 0.0755 - val_acc: 0.9790\n",
      "Epoch 15/256\n",
      "293/293 [==============================] - 774s - loss: 0.1183 - acc: 0.9664 - val_loss: 0.0744 - val_acc: 0.9795\n",
      "Epoch 16/256\n",
      "293/293 [==============================] - 754s - loss: 0.1145 - acc: 0.9677 - val_loss: 0.0723 - val_acc: 0.9802\n",
      "Epoch 17/256\n",
      "293/293 [==============================] - 758s - loss: 0.1161 - acc: 0.9672 - val_loss: 0.0738 - val_acc: 0.9797\n",
      "Epoch 18/256\n",
      "293/293 [==============================] - 752s - loss: 0.1356 - acc: 0.9617 - val_loss: 0.0795 - val_acc: 0.9780\n",
      "Epoch 19/256\n",
      " 33/293 [==>...........................] - ETA: 571s - loss: 0.1359 - acc: 0.9614"
     ]
    }
   ],
   "source": [
    "%%time\n",
    "epochs     = 256\n",
    "batch_size = 100\n",
    "histories.append(model.fit_generator(\n",
    "    ext.input_output_generator(train, batch_size, order),\n",
    "    steps_per_epoch=len(train) // batch_size,\n",
    "    epochs=epochs,\n",
    "    verbose=1,\n",
    "    validation_data=ext.input_output_generator(test, batch_size, order),\n",
    "    validation_steps=len(test) // batch_size,\n",
    "    callbacks=[\n",
    "        keras.callbacks.ModelCheckpoint(\n",
    "            filepath=modelpath,\n",
    "            save_best_only=True,\n",
    "            verbose=0,),\n",
    "        keras.callbacks.EarlyStopping(patience=10, verbose=1),\n",
    "        keras.callbacks.ReduceLROnPlateau(patience=5, verbose=1)]))"
   ]
  },
  {
   "cell_type": "markdown",
   "metadata": {},
   "source": [
    "### Display information about the model after fitting it."
   ]
  },
  {
   "cell_type": "code",
   "execution_count": null,
   "metadata": {
    "collapsed": true
   },
   "outputs": [],
   "source": [
    "%%time\n",
    "guesses          = model.predict(ext.extract_input(test, order))\n",
    "hits_correct     = metrics.percent_of_hits_assigned_correctly(test, guesses=guesses, order=order)\n",
    "tracks_correct   = metrics.percent_of_tracks_assigned_correctly(test, guesses=guesses, order=order, percent=1.0)\n",
    "n_tracks_correct = metrics.percent_of_events_with_correct_number_of_tracks(test, guesses=guesses, order=order)\n",
    "print(\"Percent of hits assigned correctly: {}%\".format(hits_correct * 100))\n",
    "print(\"Percent of tracks assigned correctly: {}%\".format(tracks_correct * 100))\n",
    "print(\"Percent of events with the correct number of tracks: {}%\".format(n_tracks_correct * 100))"
   ]
  },
  {
   "cell_type": "markdown",
   "metadata": {},
   "source": [
    "### Display how one of the model's predictions looks."
   ]
  },
  {
   "cell_type": "code",
   "execution_count": null,
   "metadata": {
    "collapsed": true,
    "scrolled": true
   },
   "outputs": [],
   "source": [
    "n  = 3138  # np.random.randint(len(test))\n",
    "print(\"Percent of hits assigned correctly: {}%\".format(\n",
    "    metrics.percent_of_hits_assigned_correctly(test[n], guesses[n], order) * 100))\n",
    "print(\"Percent of tracks assigned correctly: {}%\".format(\n",
    "    metrics.percent_of_tracks_assigned_correctly(test[n], guesses[n], order) * 100))\n",
    "_ = visuals.Plot2D(test[n], order, guesses[n]).plot(mode=\"zr\", title=\"Prediction {}\".format(n))\n",
    "_ = visuals.Plot2D(test[n], order).plot(mode=\"zr\", title=\"Answer {}\".format(n))\n",
    "_ = visuals.Plot2D(test[n], order, guesses[n]).plot(mode=\"xy\", title=\"Prediction {}\".format(n))\n",
    "_ = visuals.Plot2D(test[n], order).plot(mode=\"xy\", title=\"Answer {}\".format(n))"
   ]
  },
  {
   "cell_type": "code",
   "execution_count": null,
   "metadata": {
    "collapsed": true
   },
   "outputs": [],
   "source": [
    "visuals.display(test[n], order, guesses[n], mode=\"discrete pairs\")"
   ]
  },
  {
   "cell_type": "code",
   "execution_count": null,
   "metadata": {
    "collapsed": true,
    "scrolled": true
   },
   "outputs": [],
   "source": [
    "%%time\n",
    "n_tracks, accuracy = metrics.accuracy_vs_tracks(test, guesses, order)\n",
    "r = range(n_tracks.min(), n_tracks.max() + 1)\n",
    "boxes = [[] for _ in r]\n",
    "for i in range(len(n_tracks)):\n",
    "    boxes[n_tracks[i] - n_tracks.min()].append(accuracy[i])\n",
    "visuals.boxplot(boxes, \"ACTS-0N-SPLIT-80-20\", \"Number of Tracks\", \"Discrete Accuracy\", xticks=list(r))"
   ]
  },
  {
   "cell_type": "code",
   "execution_count": null,
   "metadata": {
    "collapsed": true
   },
   "outputs": [],
   "source": [
    "%%time\n",
    "n_tracks, accuracy = metrics.accuracy_vs_tracks(test, guesses, order)\n",
    "r = range(n_tracks.min(), n_tracks.max() + 1)\n",
    "boxes = [[] for _ in r]\n",
    "for i in range(len(n_tracks)):\n",
    "    boxes[n_tracks[i] - n_tracks.min()].append(accuracy[i])\n",
    "visuals.boxplot(boxes, \"ACTS-0N-SPLIT-80-20\", \"Number of Tracks\", \"Discrete Accuracy\", xticks=list(r))"
   ]
  },
  {
   "cell_type": "code",
   "execution_count": null,
   "metadata": {
    "collapsed": true
   },
   "outputs": [],
   "source": [
    "%%time\n",
    "for percent in [0.3, 0.5, 0.75, 1.0]:\n",
    "    c_tracks = [metrics.percent_of_tracks_assigned_correctly(test[n], guesses[n], order, percent=percent)\n",
    "                for n in range(len(guesses))]\n",
    "    boxes = [[] for _ in r]\n",
    "    for i in range(len(c_tracks)):\n",
    "        index = metrics.number_of_tracks(test[i]) - 1\n",
    "        boxes[index].append(c_tracks[i])\n",
    "    visuals.boxplot(\n",
    "        boxes, \"ACTS-0N-SPLIT-80-20\", \"Number of Tracks\",\n",
    "        \"Percent of Tracks Correctly Assigned ({})\".format(percent), xticks=list(r))"
   ]
  },
  {
   "cell_type": "code",
   "execution_count": null,
   "metadata": {
    "collapsed": true
   },
   "outputs": [],
   "source": [
    "%%time\n",
    "thresholds = [i / 10 for i in range(11)]\n",
    "threshold_metrics = [[metrics.threshold_metrics(test[i], guesses[i], n, order)\n",
    "                      for i in range(len(guesses))] for n in thresholds]\n",
    "boxes_correct   = [[m[0] for m in metric] for metric in threshold_metrics]\n",
    "boxes_incorrect = [[m[1] for m in metric] for metric in threshold_metrics]\n",
    "boxes_multi     = [[m[2] for m in metric] for metric in threshold_metrics]\n",
    "boxes_none      = [[m[3] for m in metric] for metric in threshold_metrics]\n",
    "visuals.boxplot(\n",
    "    boxes_correct, \n",
    "    \"ACTS-0N-SPLIT-80-20\", \"Number of Tracks\", \"Prob[hit assigned to correct track]\", xticks=thresholds)\n",
    "visuals.boxplot(\n",
    "    boxes_incorrect, \n",
    "    \"ACTS-0N-SPLIT-80-20\", \"Number of Tracks\", \"Prob[hit assigned to an incorrect track]\", xticks=thresholds)\n",
    "visuals.boxplot(\n",
    "    boxes_multi, \n",
    "    \"ACTS-0N-SPLIT-80-20\", \"Number of Tracks\", \"Prob[hit assigned to multiple tracks]\", xticks=thresholds)\n",
    "visuals.boxplot(\n",
    "    boxes_none, \n",
    "    \"ACTS-0N-SPLIT-80-20\", \"Number of Tracks\", \"Prob[hit assigned to no tracks]\", xticks=thresholds)"
   ]
  },
  {
   "cell_type": "code",
   "execution_count": null,
   "metadata": {
    "collapsed": true
   },
   "outputs": [],
   "source": []
  }
 ],
 "metadata": {
  "kernelspec": {
   "display_name": "Python 3",
   "language": "python",
   "name": "python3"
  },
  "language_info": {
   "codemirror_mode": {
    "name": "ipython",
    "version": 3
   },
   "file_extension": ".py",
   "mimetype": "text/x-python",
   "name": "python",
   "nbconvert_exporter": "python",
   "pygments_lexer": "ipython3",
   "version": "3.6.3"
  }
 },
 "nbformat": 4,
 "nbformat_minor": 2
}
