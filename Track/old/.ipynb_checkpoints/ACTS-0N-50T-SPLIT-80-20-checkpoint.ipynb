{
 "cells": [
  {
   "cell_type": "markdown",
   "metadata": {},
   "source": [
    "# 50 Tracks"
   ]
  },
  {
   "cell_type": "code",
   "execution_count": 1,
   "metadata": {
    "scrolled": true
   },
   "outputs": [
    {
     "name": "stdout",
     "output_type": "stream",
     "text": [
      "Tue Sep 19 18:01:19 2017       \n",
      "+-----------------------------------------------------------------------------+\n",
      "| NVIDIA-SMI 375.66                 Driver Version: 375.66                    |\n",
      "|-------------------------------+----------------------+----------------------+\n",
      "| GPU  Name        Persistence-M| Bus-Id        Disp.A | Volatile Uncorr. ECC |\n",
      "| Fan  Temp  Perf  Pwr:Usage/Cap|         Memory-Usage | GPU-Util  Compute M. |\n",
      "|===============================+======================+======================|\n",
      "|   0  GeForce GTX 1080    Off  | 0000:04:00.0     Off |                  N/A |\n",
      "| 27%   34C    P8    10W / 180W |    235MiB /  8114MiB |      0%      Default |\n",
      "+-------------------------------+----------------------+----------------------+\n",
      "|   1  GeForce GTX 1080    Off  | 0000:05:00.0     Off |                  N/A |\n",
      "| 27%   35C    P8     9W / 180W |      2MiB /  8114MiB |      0%      Default |\n",
      "+-------------------------------+----------------------+----------------------+\n",
      "|   2  GeForce GTX 1080    Off  | 0000:06:00.0     Off |                  N/A |\n",
      "| 27%   33C    P8     9W / 180W |    557MiB /  8114MiB |      0%      Default |\n",
      "+-------------------------------+----------------------+----------------------+\n",
      "|   3  GeForce GTX 1080    Off  | 0000:07:00.0     Off |                  N/A |\n",
      "| 27%   33C    P8     9W / 180W |    557MiB /  8114MiB |      0%      Default |\n",
      "+-------------------------------+----------------------+----------------------+\n",
      "|   4  GeForce GTX 1080    Off  | 0000:0B:00.0     Off |                  N/A |\n",
      "| 27%   34C    P8    10W / 180W |      2MiB /  8114MiB |      0%      Default |\n",
      "+-------------------------------+----------------------+----------------------+\n",
      "|   5  GeForce GTX 1080    Off  | 0000:0C:00.0     Off |                  N/A |\n",
      "| 38%   57C    P2    52W / 180W |    505MiB /  8114MiB |     25%      Default |\n",
      "+-------------------------------+----------------------+----------------------+\n",
      "|   6  GeForce GTX 1080    Off  | 0000:0D:00.0     Off |                  N/A |\n",
      "| 38%   56C    P2    63W / 180W |    505MiB /  8114MiB |     64%      Default |\n",
      "+-------------------------------+----------------------+----------------------+\n",
      "|   7  GeForce GTX 1080    Off  | 0000:0E:00.0     Off |                  N/A |\n",
      "| 36%   54C    P2    55W / 180W |    816MiB /  8114MiB |     25%      Default |\n",
      "+-------------------------------+----------------------+----------------------+\n",
      "                                                                               \n",
      "+-----------------------------------------------------------------------------+\n",
      "| Processes:                                                       GPU Memory |\n",
      "|  GPU       PID  Type  Process name                               Usage      |\n",
      "|=============================================================================|\n",
      "+-----------------------------------------------------------------------------+\n"
     ]
    }
   ],
   "source": [
    "!nvidia-smi"
   ]
  },
  {
   "cell_type": "code",
   "execution_count": 2,
   "metadata": {},
   "outputs": [
    {
     "name": "stderr",
     "output_type": "stream",
     "text": [
      "Using Theano backend.\n",
      "Using cuDNN version 5110 on context None\n",
      "Mapped name None to device cuda: GeForce GTX 1080 (0000:0D:00.0)\n"
     ]
    }
   ],
   "source": [
    "import os\n",
    "os.environ[\"CUDA_VISIBLE_DEVICES\"] = \"6\"\n",
    "%matplotlib notebook\n",
    "import importlib\n",
    "import numpy as np\n",
    "import pandas as pd\n",
    "import keras\n",
    "import sys\n",
    "from keras.layers import TimeDistributed, Dense, Dropout, GRU, Bidirectional\n",
    "from keras.models import Sequential\n",
    "from tracker import extractor as ext, utils, metrics, visuals"
   ]
  },
  {
   "cell_type": "markdown",
   "metadata": {},
   "source": [
    "### Load in the data."
   ]
  },
  {
   "cell_type": "code",
   "execution_count": null,
   "metadata": {
    "collapsed": true
   },
   "outputs": [],
   "source": [
    "%%time\n",
    "# This is how the ACTS data was cleaned.\n",
    "# Don't run this cell unless you want to overwrite the current cleaned data.\n",
    "mapper = {}\n",
    "for key in range(  30,   35): mapper[key] = 32\n",
    "for key in range(  70,   75): mapper[key] = 72\n",
    "for key in range( 115,  120): mapper[key] = 117\n",
    "for key in range( 170,  175): mapper[key] = 172\n",
    "for key in range( 255,  270): mapper[key] = 260\n",
    "for key in range( 355,  370): mapper[key] = 360\n",
    "for key in range( 495,  510): mapper[key] = 500\n",
    "for key in range( 655,  670): mapper[key] = 660\n",
    "for key in range( 815,  830): mapper[key] = 820\n",
    "for key in range(1010, 1030): mapper[key] = 1020\n",
    "\n",
    "print(\"Loading in the frame.\")\n",
    "filepath   = \"data/sets/progenitors/ACTS.gz\"\n",
    "events     = utils.list_of_groups(pd.read_csv(filepath), \"event_id\")\n",
    "frame      = pd.concat([event for event in events if metrics.number_of_tracks(event) <= 50])\n",
    "frame[\"r\"] = frame[\"r\"].round().map(mapper)\n",
    "frame.drop_duplicates([\"event_id\", \"cluster_id\", \"r\"], keep=\"first\", inplace=True)\n",
    "print(\"Preparing the frame.\")\n",
    "frame = ext.prepare_frame(frame, n_tracks=50, n_rows=500, n_noise=0)\n",
    "frame = frame.sample(frac=1)  # Shuffle the set.\n",
    "print(frame[\"cluster_id\"].max())\n",
    "print(\"Saving the frame.\")\n",
    "frame.to_csv(\"data/sets/ACTS-50T-500R.gz\", compression=\"gzip\")"
   ]
  },
  {
   "cell_type": "code",
   "execution_count": 3,
   "metadata": {},
   "outputs": [
    {
     "name": "stdout",
     "output_type": "stream",
     "text": [
      "36713\n",
      "Train is list of 29370 events.\n",
      "Test is list of 7343 events.\n",
      "Train takes up 235024 bytes.\n",
      "Test takes up 58808 bytes.\n",
      "CPU times: user 24.9 s, sys: 15.6 s, total: 40.5 s\n",
      "Wall time: 40.5 s\n"
     ]
    }
   ],
   "source": [
    "%%time\n",
    "modelpath = \"data/models/ACTS-50T-500R.h5\"\n",
    "filepath  = \"data/sets/ACTS-50T-500R.gz\"\n",
    "frame     = pd.read_csv(filepath)\n",
    "events    = [event for (_, event) in frame.groupby(\"event_id\", sort=False)]\n",
    "print(len(events))\n",
    "percent   = 0.8\n",
    "cutoff    = int(percent * len(events))\n",
    "train, test = events[:cutoff], events[cutoff:]\n",
    "print(\"Train is list of {} events.\".format(len(train)))\n",
    "print(\"Test is list of {} events.\".format(len(test)))\n",
    "print(\"Train takes up {} bytes.\".format(sys.getsizeof(train)))\n",
    "print(\"Test takes up {} bytes.\".format(sys.getsizeof(test)))\n",
    "if (not utils.is_prepared(train[0])) or (not utils.is_prepared(test[0])):\n",
    "    print(\"Warning: frame is not prepared.\")\n",
    "    print(\"Look at the prepare_frame() function in tracker/extractor.py\")\n",
    "else:\n",
    "    del frame\n",
    "    del events"
   ]
  },
  {
   "cell_type": "code",
   "execution_count": 4,
   "metadata": {
    "collapsed": true
   },
   "outputs": [],
   "source": [
    "order = [\"phi\", \"r\", \"z\"]"
   ]
  },
  {
   "cell_type": "markdown",
   "metadata": {},
   "source": [
    "### Get an idea for how the tracks are distributed among the events."
   ]
  },
  {
   "cell_type": "code",
   "execution_count": 7,
   "metadata": {
    "scrolled": true
   },
   "outputs": [
    {
     "name": "stdout",
     "output_type": "stream",
     "text": [
      "There are 238 events with 1 tracks.\n",
      "There are 260 events with 2 tracks.\n",
      "There are 333 events with 3 tracks.\n",
      "There are 359 events with 4 tracks.\n",
      "There are 407 events with 5 tracks.\n",
      "There are 450 events with 6 tracks.\n",
      "There are 441 events with 7 tracks.\n",
      "There are 485 events with 8 tracks.\n",
      "There are 457 events with 9 tracks.\n",
      "There are 536 events with 10 tracks.\n",
      "There are 510 events with 11 tracks.\n",
      "There are 516 events with 12 tracks.\n",
      "There are 533 events with 13 tracks.\n",
      "There are 550 events with 14 tracks.\n",
      "There are 609 events with 15 tracks.\n",
      "There are 645 events with 16 tracks.\n",
      "There are 612 events with 17 tracks.\n",
      "There are 612 events with 18 tracks.\n",
      "There are 669 events with 19 tracks.\n",
      "There are 666 events with 20 tracks.\n",
      "There are 646 events with 21 tracks.\n",
      "There are 690 events with 22 tracks.\n",
      "There are 650 events with 23 tracks.\n",
      "There are 670 events with 24 tracks.\n",
      "There are 695 events with 25 tracks.\n",
      "There are 752 events with 26 tracks.\n",
      "There are 706 events with 27 tracks.\n",
      "There are 707 events with 28 tracks.\n",
      "There are 765 events with 29 tracks.\n",
      "There are 684 events with 30 tracks.\n",
      "There are 711 events with 31 tracks.\n",
      "There are 703 events with 32 tracks.\n",
      "There are 673 events with 33 tracks.\n",
      "There are 657 events with 34 tracks.\n",
      "There are 665 events with 35 tracks.\n",
      "There are 717 events with 36 tracks.\n",
      "There are 647 events with 37 tracks.\n",
      "There are 669 events with 38 tracks.\n",
      "There are 643 events with 39 tracks.\n",
      "There are 627 events with 40 tracks.\n",
      "There are 623 events with 41 tracks.\n",
      "There are 649 events with 42 tracks.\n",
      "There are 626 events with 43 tracks.\n",
      "There are 597 events with 44 tracks.\n",
      "There are 566 events with 45 tracks.\n",
      "There are 591 events with 46 tracks.\n",
      "There are 577 events with 47 tracks.\n",
      "There are 526 events with 48 tracks.\n",
      "There are 531 events with 49 tracks.\n",
      "There are 519 events with 50 tracks.\n"
     ]
    }
   ],
   "source": [
    "dist = metrics.distributions(pd.concat(train))\n",
    "for i in range(len(dist[0])):\n",
    "    print(\"There are {0} events with {1} tracks.\".format(dist[1][i], dist[0][i]))"
   ]
  },
  {
   "cell_type": "code",
   "execution_count": 8,
   "metadata": {
    "scrolled": true
   },
   "outputs": [
    {
     "name": "stdout",
     "output_type": "stream",
     "text": [
      "There are 58 events with 1 tracks.\n",
      "There are 66 events with 2 tracks.\n",
      "There are 97 events with 3 tracks.\n",
      "There are 86 events with 4 tracks.\n",
      "There are 89 events with 5 tracks.\n",
      "There are 98 events with 6 tracks.\n",
      "There are 104 events with 7 tracks.\n",
      "There are 127 events with 8 tracks.\n",
      "There are 114 events with 9 tracks.\n",
      "There are 121 events with 10 tracks.\n",
      "There are 115 events with 11 tracks.\n",
      "There are 130 events with 12 tracks.\n",
      "There are 133 events with 13 tracks.\n",
      "There are 167 events with 14 tracks.\n",
      "There are 157 events with 15 tracks.\n",
      "There are 145 events with 16 tracks.\n",
      "There are 154 events with 17 tracks.\n",
      "There are 157 events with 18 tracks.\n",
      "There are 161 events with 19 tracks.\n",
      "There are 163 events with 20 tracks.\n",
      "There are 142 events with 21 tracks.\n",
      "There are 190 events with 22 tracks.\n",
      "There are 189 events with 23 tracks.\n",
      "There are 166 events with 24 tracks.\n",
      "There are 172 events with 25 tracks.\n",
      "There are 172 events with 26 tracks.\n",
      "There are 150 events with 27 tracks.\n",
      "There are 200 events with 28 tracks.\n",
      "There are 185 events with 29 tracks.\n",
      "There are 167 events with 30 tracks.\n",
      "There are 188 events with 31 tracks.\n",
      "There are 179 events with 32 tracks.\n",
      "There are 160 events with 33 tracks.\n",
      "There are 189 events with 34 tracks.\n",
      "There are 170 events with 35 tracks.\n",
      "There are 154 events with 36 tracks.\n",
      "There are 175 events with 37 tracks.\n",
      "There are 135 events with 38 tracks.\n",
      "There are 179 events with 39 tracks.\n",
      "There are 160 events with 40 tracks.\n",
      "There are 163 events with 41 tracks.\n",
      "There are 152 events with 42 tracks.\n",
      "There are 168 events with 43 tracks.\n",
      "There are 176 events with 44 tracks.\n",
      "There are 143 events with 45 tracks.\n",
      "There are 160 events with 46 tracks.\n",
      "There are 144 events with 47 tracks.\n",
      "There are 114 events with 48 tracks.\n",
      "There are 139 events with 49 tracks.\n",
      "There are 120 events with 50 tracks.\n"
     ]
    }
   ],
   "source": [
    "dist = metrics.distributions(pd.concat(test))\n",
    "for i in range(len(dist[0])):\n",
    "    print(\"There are {0} events with {1} tracks.\".format(dist[1][i], dist[0][i]))"
   ]
  },
  {
   "cell_type": "markdown",
   "metadata": {},
   "source": [
    "### Show an example of the data."
   ]
  },
  {
   "cell_type": "code",
   "execution_count": null,
   "metadata": {
    "scrolled": true
   },
   "outputs": [],
   "source": [
    "n = np.random.randint(len(train))\n",
    "print(\"Train {}\".format(n))\n",
    "print(\"Number of Hits: {}\".format(metrics.number_of_hits(train[n])))\n",
    "print(\"Number of Tracks: {}\".format(metrics.number_of_tracks(train[n])))\n",
    "visuals.Plot2D(train[n], order).plot(mode=\"zr\", title=\"Train {}\".format(n))\n",
    "visuals.Plot2D(train[n], order).plot(mode=\"xy\", title=\"Train {}\".format(n))"
   ]
  },
  {
   "cell_type": "code",
   "execution_count": null,
   "metadata": {},
   "outputs": [],
   "source": [
    "visuals.display(train[n], order)"
   ]
  },
  {
   "cell_type": "markdown",
   "metadata": {},
   "source": [
    "### Create the model."
   ]
  },
  {
   "cell_type": "code",
   "execution_count": 9,
   "metadata": {
    "collapsed": true
   },
   "outputs": [],
   "source": [
    "input_shape  = (500, 3)\n",
    "n_categories = 50 + 2\n",
    "optimizer    = keras.optimizers.RMSprop(lr=0.001)\n",
    "histories    = []"
   ]
  },
  {
   "cell_type": "code",
   "execution_count": 10,
   "metadata": {},
   "outputs": [
    {
     "name": "stderr",
     "output_type": "stream",
     "text": [
      "WARNING (theano.configdefaults): install mkl with `conda install mkl-service`: No module named 'mkl'\n"
     ]
    }
   ],
   "source": [
    "model = keras.models.load_model(modelpath)"
   ]
  },
  {
   "cell_type": "code",
   "execution_count": null,
   "metadata": {},
   "outputs": [],
   "source": [
    "model = Sequential()\n",
    "model.add(Bidirectional(\n",
    "    GRU(units=256, return_sequences=True, recurrent_dropout=1/2, implementation=2),\n",
    "    merge_mode=\"mul\",\n",
    "    input_shape=input_shape))\n",
    "model.add(Dropout(rate=1/2))\n",
    "model.add(Bidirectional(\n",
    "    GRU(units=256, return_sequences=True, recurrent_dropout=1/2, implementation=2),\n",
    "    merge_mode=\"mul\"))\n",
    "model.add(Dropout(rate=1/2))\n",
    "model.add(Bidirectional(\n",
    "    GRU(units=256, return_sequences=True, recurrent_dropout=1/2, implementation=2),\n",
    "    merge_mode=\"mul\"))\n",
    "model.add(Dropout(rate=1/2))\n",
    "model.add(TimeDistributed(Dense(units=n_categories, kernel_initializer=\"uniform\", activation=\"softmax\")))\n",
    "model.compile(loss='categorical_crossentropy', optimizer=optimizer, metrics=['accuracy'])\n",
    "model.summary()"
   ]
  },
  {
   "cell_type": "markdown",
   "metadata": {},
   "source": [
    "### Fit the model."
   ]
  },
  {
   "cell_type": "code",
   "execution_count": 11,
   "metadata": {
    "scrolled": true
   },
   "outputs": [
    {
     "name": "stdout",
     "output_type": "stream",
     "text": [
      "Epoch 1/256\n",
      "293/293 [==============================] - 2045s - loss: 0.6333 - acc: 0.7685 - val_loss: 0.5087 - val_acc: 0.8262\n",
      "Epoch 2/256\n",
      "293/293 [==============================] - 2088s - loss: 0.5444 - acc: 0.8022 - val_loss: 0.4295 - val_acc: 0.8457\n",
      "Epoch 3/256\n",
      "293/293 [==============================] - 2263s - loss: 0.4779 - acc: 0.8298 - val_loss: 0.4132 - val_acc: 0.8559\n",
      "Epoch 4/256\n",
      "293/293 [==============================] - 2234s - loss: 0.4097 - acc: 0.8556 - val_loss: 0.3123 - val_acc: 0.8919\n",
      "Epoch 5/256\n",
      "293/293 [==============================] - 2251s - loss: 0.3309 - acc: 0.8878 - val_loss: 0.2145 - val_acc: 0.9366\n",
      "Epoch 6/256\n",
      "190/293 [==================>...........] - ETA: 770s - loss: 0.2807 - acc: 0.9092"
     ]
    },
    {
     "ename": "KeyboardInterrupt",
     "evalue": "",
     "output_type": "error",
     "traceback": [
      "\u001b[0;31m---------------------------------------------------------------------------\u001b[0m",
      "\u001b[0;31mKeyboardInterrupt\u001b[0m                         Traceback (most recent call last)",
      "\u001b[0;32m<ipython-input-11-db2ad1b82b99>\u001b[0m in \u001b[0;36m<module>\u001b[0;34m()\u001b[0m\n\u001b[0;32m----> 1\u001b[0;31m \u001b[0mget_ipython\u001b[0m\u001b[0;34m(\u001b[0m\u001b[0;34m)\u001b[0m\u001b[0;34m.\u001b[0m\u001b[0mrun_cell_magic\u001b[0m\u001b[0;34m(\u001b[0m\u001b[0;34m'time'\u001b[0m\u001b[0;34m,\u001b[0m \u001b[0;34m''\u001b[0m\u001b[0;34m,\u001b[0m \u001b[0;34m'# 128 + 32\\nepochs     = 256\\nbatch_size = 100\\nhistories.append(model.fit_generator(\\n    ext.input_output_generator(train, batch_size, order),\\n    steps_per_epoch=len(train) // batch_size,\\n    epochs=epochs,\\n    verbose=1,\\n    validation_data=ext.input_output_generator(test, batch_size, order),\\n    validation_steps=len(test) // batch_size,\\n    callbacks=[\\n        keras.callbacks.ModelCheckpoint(\\n            filepath=modelpath,\\n            save_best_only=True,\\n            verbose=0,),\\n        keras.callbacks.EarlyStopping(patience=10, verbose=1),\\n        keras.callbacks.ReduceLROnPlateau(patience=5, verbose=1)]))'\u001b[0m\u001b[0;34m)\u001b[0m\u001b[0;34m\u001b[0m\u001b[0m\n\u001b[0m",
      "\u001b[0;32m/opt/conda/lib/python3.5/site-packages/IPython/core/interactiveshell.py\u001b[0m in \u001b[0;36mrun_cell_magic\u001b[0;34m(self, magic_name, line, cell)\u001b[0m\n\u001b[1;32m   2113\u001b[0m             \u001b[0mmagic_arg_s\u001b[0m \u001b[0;34m=\u001b[0m \u001b[0mself\u001b[0m\u001b[0;34m.\u001b[0m\u001b[0mvar_expand\u001b[0m\u001b[0;34m(\u001b[0m\u001b[0mline\u001b[0m\u001b[0;34m,\u001b[0m \u001b[0mstack_depth\u001b[0m\u001b[0;34m)\u001b[0m\u001b[0;34m\u001b[0m\u001b[0m\n\u001b[1;32m   2114\u001b[0m             \u001b[0;32mwith\u001b[0m \u001b[0mself\u001b[0m\u001b[0;34m.\u001b[0m\u001b[0mbuiltin_trap\u001b[0m\u001b[0;34m:\u001b[0m\u001b[0;34m\u001b[0m\u001b[0m\n\u001b[0;32m-> 2115\u001b[0;31m                 \u001b[0mresult\u001b[0m \u001b[0;34m=\u001b[0m \u001b[0mfn\u001b[0m\u001b[0;34m(\u001b[0m\u001b[0mmagic_arg_s\u001b[0m\u001b[0;34m,\u001b[0m \u001b[0mcell\u001b[0m\u001b[0;34m)\u001b[0m\u001b[0;34m\u001b[0m\u001b[0m\n\u001b[0m\u001b[1;32m   2116\u001b[0m             \u001b[0;32mreturn\u001b[0m \u001b[0mresult\u001b[0m\u001b[0;34m\u001b[0m\u001b[0m\n\u001b[1;32m   2117\u001b[0m \u001b[0;34m\u001b[0m\u001b[0m\n",
      "\u001b[0;32m<decorator-gen-59>\u001b[0m in \u001b[0;36mtime\u001b[0;34m(self, line, cell, local_ns)\u001b[0m\n",
      "\u001b[0;32m/opt/conda/lib/python3.5/site-packages/IPython/core/magic.py\u001b[0m in \u001b[0;36m<lambda>\u001b[0;34m(f, *a, **k)\u001b[0m\n\u001b[1;32m    186\u001b[0m     \u001b[0;31m# but it's overkill for just that one bit of state.\u001b[0m\u001b[0;34m\u001b[0m\u001b[0;34m\u001b[0m\u001b[0m\n\u001b[1;32m    187\u001b[0m     \u001b[0;32mdef\u001b[0m \u001b[0mmagic_deco\u001b[0m\u001b[0;34m(\u001b[0m\u001b[0marg\u001b[0m\u001b[0;34m)\u001b[0m\u001b[0;34m:\u001b[0m\u001b[0;34m\u001b[0m\u001b[0m\n\u001b[0;32m--> 188\u001b[0;31m         \u001b[0mcall\u001b[0m \u001b[0;34m=\u001b[0m \u001b[0;32mlambda\u001b[0m \u001b[0mf\u001b[0m\u001b[0;34m,\u001b[0m \u001b[0;34m*\u001b[0m\u001b[0ma\u001b[0m\u001b[0;34m,\u001b[0m \u001b[0;34m**\u001b[0m\u001b[0mk\u001b[0m\u001b[0;34m:\u001b[0m \u001b[0mf\u001b[0m\u001b[0;34m(\u001b[0m\u001b[0;34m*\u001b[0m\u001b[0ma\u001b[0m\u001b[0;34m,\u001b[0m \u001b[0;34m**\u001b[0m\u001b[0mk\u001b[0m\u001b[0;34m)\u001b[0m\u001b[0;34m\u001b[0m\u001b[0m\n\u001b[0m\u001b[1;32m    189\u001b[0m \u001b[0;34m\u001b[0m\u001b[0m\n\u001b[1;32m    190\u001b[0m         \u001b[0;32mif\u001b[0m \u001b[0mcallable\u001b[0m\u001b[0;34m(\u001b[0m\u001b[0marg\u001b[0m\u001b[0;34m)\u001b[0m\u001b[0;34m:\u001b[0m\u001b[0;34m\u001b[0m\u001b[0m\n",
      "\u001b[0;32m/opt/conda/lib/python3.5/site-packages/IPython/core/magics/execution.py\u001b[0m in \u001b[0;36mtime\u001b[0;34m(self, line, cell, local_ns)\u001b[0m\n\u001b[1;32m   1183\u001b[0m         \u001b[0;32melse\u001b[0m\u001b[0;34m:\u001b[0m\u001b[0;34m\u001b[0m\u001b[0m\n\u001b[1;32m   1184\u001b[0m             \u001b[0mst\u001b[0m \u001b[0;34m=\u001b[0m \u001b[0mclock2\u001b[0m\u001b[0;34m(\u001b[0m\u001b[0;34m)\u001b[0m\u001b[0;34m\u001b[0m\u001b[0m\n\u001b[0;32m-> 1185\u001b[0;31m             \u001b[0mexec\u001b[0m\u001b[0;34m(\u001b[0m\u001b[0mcode\u001b[0m\u001b[0;34m,\u001b[0m \u001b[0mglob\u001b[0m\u001b[0;34m,\u001b[0m \u001b[0mlocal_ns\u001b[0m\u001b[0;34m)\u001b[0m\u001b[0;34m\u001b[0m\u001b[0m\n\u001b[0m\u001b[1;32m   1186\u001b[0m             \u001b[0mend\u001b[0m \u001b[0;34m=\u001b[0m \u001b[0mclock2\u001b[0m\u001b[0;34m(\u001b[0m\u001b[0;34m)\u001b[0m\u001b[0;34m\u001b[0m\u001b[0m\n\u001b[1;32m   1187\u001b[0m             \u001b[0mout\u001b[0m \u001b[0;34m=\u001b[0m \u001b[0;32mNone\u001b[0m\u001b[0;34m\u001b[0m\u001b[0m\n",
      "\u001b[0;32m<timed exec>\u001b[0m in \u001b[0;36m<module>\u001b[0;34m()\u001b[0m\n",
      "\u001b[0;32m/opt/conda/lib/python3.5/site-packages/keras/legacy/interfaces.py\u001b[0m in \u001b[0;36mwrapper\u001b[0;34m(*args, **kwargs)\u001b[0m\n\u001b[1;32m     85\u001b[0m                 warnings.warn('Update your `' + object_name +\n\u001b[1;32m     86\u001b[0m                               '` call to the Keras 2 API: ' + signature, stacklevel=2)\n\u001b[0;32m---> 87\u001b[0;31m             \u001b[0;32mreturn\u001b[0m \u001b[0mfunc\u001b[0m\u001b[0;34m(\u001b[0m\u001b[0;34m*\u001b[0m\u001b[0margs\u001b[0m\u001b[0;34m,\u001b[0m \u001b[0;34m**\u001b[0m\u001b[0mkwargs\u001b[0m\u001b[0;34m)\u001b[0m\u001b[0;34m\u001b[0m\u001b[0m\n\u001b[0m\u001b[1;32m     88\u001b[0m         \u001b[0mwrapper\u001b[0m\u001b[0;34m.\u001b[0m\u001b[0m_original_function\u001b[0m \u001b[0;34m=\u001b[0m \u001b[0mfunc\u001b[0m\u001b[0;34m\u001b[0m\u001b[0m\n\u001b[1;32m     89\u001b[0m         \u001b[0;32mreturn\u001b[0m \u001b[0mwrapper\u001b[0m\u001b[0;34m\u001b[0m\u001b[0m\n",
      "\u001b[0;32m/opt/conda/lib/python3.5/site-packages/keras/models.py\u001b[0m in \u001b[0;36mfit_generator\u001b[0;34m(self, generator, steps_per_epoch, epochs, verbose, callbacks, validation_data, validation_steps, class_weight, max_queue_size, workers, use_multiprocessing, initial_epoch)\u001b[0m\n\u001b[1;32m   1115\u001b[0m                                         \u001b[0mworkers\u001b[0m\u001b[0;34m=\u001b[0m\u001b[0mworkers\u001b[0m\u001b[0;34m,\u001b[0m\u001b[0;34m\u001b[0m\u001b[0m\n\u001b[1;32m   1116\u001b[0m                                         \u001b[0muse_multiprocessing\u001b[0m\u001b[0;34m=\u001b[0m\u001b[0muse_multiprocessing\u001b[0m\u001b[0;34m,\u001b[0m\u001b[0;34m\u001b[0m\u001b[0m\n\u001b[0;32m-> 1117\u001b[0;31m                                         initial_epoch=initial_epoch)\n\u001b[0m\u001b[1;32m   1118\u001b[0m \u001b[0;34m\u001b[0m\u001b[0m\n\u001b[1;32m   1119\u001b[0m     \u001b[0;34m@\u001b[0m\u001b[0minterfaces\u001b[0m\u001b[0;34m.\u001b[0m\u001b[0mlegacy_generator_methods_support\u001b[0m\u001b[0;34m\u001b[0m\u001b[0m\n",
      "\u001b[0;32m/opt/conda/lib/python3.5/site-packages/keras/legacy/interfaces.py\u001b[0m in \u001b[0;36mwrapper\u001b[0;34m(*args, **kwargs)\u001b[0m\n\u001b[1;32m     85\u001b[0m                 warnings.warn('Update your `' + object_name +\n\u001b[1;32m     86\u001b[0m                               '` call to the Keras 2 API: ' + signature, stacklevel=2)\n\u001b[0;32m---> 87\u001b[0;31m             \u001b[0;32mreturn\u001b[0m \u001b[0mfunc\u001b[0m\u001b[0;34m(\u001b[0m\u001b[0;34m*\u001b[0m\u001b[0margs\u001b[0m\u001b[0;34m,\u001b[0m \u001b[0;34m**\u001b[0m\u001b[0mkwargs\u001b[0m\u001b[0;34m)\u001b[0m\u001b[0;34m\u001b[0m\u001b[0m\n\u001b[0m\u001b[1;32m     88\u001b[0m         \u001b[0mwrapper\u001b[0m\u001b[0;34m.\u001b[0m\u001b[0m_original_function\u001b[0m \u001b[0;34m=\u001b[0m \u001b[0mfunc\u001b[0m\u001b[0;34m\u001b[0m\u001b[0m\n\u001b[1;32m     89\u001b[0m         \u001b[0;32mreturn\u001b[0m \u001b[0mwrapper\u001b[0m\u001b[0;34m\u001b[0m\u001b[0m\n",
      "\u001b[0;32m/opt/conda/lib/python3.5/site-packages/keras/engine/training.py\u001b[0m in \u001b[0;36mfit_generator\u001b[0;34m(self, generator, steps_per_epoch, epochs, verbose, callbacks, validation_data, validation_steps, class_weight, max_queue_size, workers, use_multiprocessing, initial_epoch)\u001b[0m\n\u001b[1;32m   1838\u001b[0m                     outs = self.train_on_batch(x, y,\n\u001b[1;32m   1839\u001b[0m                                                \u001b[0msample_weight\u001b[0m\u001b[0;34m=\u001b[0m\u001b[0msample_weight\u001b[0m\u001b[0;34m,\u001b[0m\u001b[0;34m\u001b[0m\u001b[0m\n\u001b[0;32m-> 1840\u001b[0;31m                                                class_weight=class_weight)\n\u001b[0m\u001b[1;32m   1841\u001b[0m \u001b[0;34m\u001b[0m\u001b[0m\n\u001b[1;32m   1842\u001b[0m                     \u001b[0;32mif\u001b[0m \u001b[0;32mnot\u001b[0m \u001b[0misinstance\u001b[0m\u001b[0;34m(\u001b[0m\u001b[0mouts\u001b[0m\u001b[0;34m,\u001b[0m \u001b[0mlist\u001b[0m\u001b[0;34m)\u001b[0m\u001b[0;34m:\u001b[0m\u001b[0;34m\u001b[0m\u001b[0m\n",
      "\u001b[0;32m/opt/conda/lib/python3.5/site-packages/keras/engine/training.py\u001b[0m in \u001b[0;36mtrain_on_batch\u001b[0;34m(self, x, y, sample_weight, class_weight)\u001b[0m\n\u001b[1;32m   1563\u001b[0m             \u001b[0mins\u001b[0m \u001b[0;34m=\u001b[0m \u001b[0mx\u001b[0m \u001b[0;34m+\u001b[0m \u001b[0my\u001b[0m \u001b[0;34m+\u001b[0m \u001b[0msample_weights\u001b[0m\u001b[0;34m\u001b[0m\u001b[0m\n\u001b[1;32m   1564\u001b[0m         \u001b[0mself\u001b[0m\u001b[0;34m.\u001b[0m\u001b[0m_make_train_function\u001b[0m\u001b[0;34m(\u001b[0m\u001b[0;34m)\u001b[0m\u001b[0;34m\u001b[0m\u001b[0m\n\u001b[0;32m-> 1565\u001b[0;31m         \u001b[0moutputs\u001b[0m \u001b[0;34m=\u001b[0m \u001b[0mself\u001b[0m\u001b[0;34m.\u001b[0m\u001b[0mtrain_function\u001b[0m\u001b[0;34m(\u001b[0m\u001b[0mins\u001b[0m\u001b[0;34m)\u001b[0m\u001b[0;34m\u001b[0m\u001b[0m\n\u001b[0m\u001b[1;32m   1566\u001b[0m         \u001b[0;32mif\u001b[0m \u001b[0mlen\u001b[0m\u001b[0;34m(\u001b[0m\u001b[0moutputs\u001b[0m\u001b[0;34m)\u001b[0m \u001b[0;34m==\u001b[0m \u001b[0;36m1\u001b[0m\u001b[0;34m:\u001b[0m\u001b[0;34m\u001b[0m\u001b[0m\n\u001b[1;32m   1567\u001b[0m             \u001b[0;32mreturn\u001b[0m \u001b[0moutputs\u001b[0m\u001b[0;34m[\u001b[0m\u001b[0;36m0\u001b[0m\u001b[0;34m]\u001b[0m\u001b[0;34m\u001b[0m\u001b[0m\n",
      "\u001b[0;32m/opt/conda/lib/python3.5/site-packages/keras/backend/theano_backend.py\u001b[0m in \u001b[0;36m__call__\u001b[0;34m(self, inputs)\u001b[0m\n\u001b[1;32m   1195\u001b[0m     \u001b[0;32mdef\u001b[0m \u001b[0m__call__\u001b[0m\u001b[0;34m(\u001b[0m\u001b[0mself\u001b[0m\u001b[0;34m,\u001b[0m \u001b[0minputs\u001b[0m\u001b[0;34m)\u001b[0m\u001b[0;34m:\u001b[0m\u001b[0;34m\u001b[0m\u001b[0m\n\u001b[1;32m   1196\u001b[0m         \u001b[0;32massert\u001b[0m \u001b[0misinstance\u001b[0m\u001b[0;34m(\u001b[0m\u001b[0minputs\u001b[0m\u001b[0;34m,\u001b[0m \u001b[0;34m(\u001b[0m\u001b[0mlist\u001b[0m\u001b[0;34m,\u001b[0m \u001b[0mtuple\u001b[0m\u001b[0;34m)\u001b[0m\u001b[0;34m)\u001b[0m\u001b[0;34m\u001b[0m\u001b[0m\n\u001b[0;32m-> 1197\u001b[0;31m         \u001b[0;32mreturn\u001b[0m \u001b[0mself\u001b[0m\u001b[0;34m.\u001b[0m\u001b[0mfunction\u001b[0m\u001b[0;34m(\u001b[0m\u001b[0;34m*\u001b[0m\u001b[0minputs\u001b[0m\u001b[0;34m)\u001b[0m\u001b[0;34m\u001b[0m\u001b[0m\n\u001b[0m\u001b[1;32m   1198\u001b[0m \u001b[0;34m\u001b[0m\u001b[0m\n\u001b[1;32m   1199\u001b[0m \u001b[0;34m\u001b[0m\u001b[0m\n",
      "\u001b[0;32m/opt/conda/lib/python3.5/site-packages/theano/compile/function_module.py\u001b[0m in \u001b[0;36m__call__\u001b[0;34m(self, *args, **kwargs)\u001b[0m\n\u001b[1;32m    882\u001b[0m         \u001b[0;32mtry\u001b[0m\u001b[0;34m:\u001b[0m\u001b[0;34m\u001b[0m\u001b[0m\n\u001b[1;32m    883\u001b[0m             \u001b[0moutputs\u001b[0m \u001b[0;34m=\u001b[0m\u001b[0;31m\\\u001b[0m\u001b[0;34m\u001b[0m\u001b[0m\n\u001b[0;32m--> 884\u001b[0;31m                 \u001b[0mself\u001b[0m\u001b[0;34m.\u001b[0m\u001b[0mfn\u001b[0m\u001b[0;34m(\u001b[0m\u001b[0;34m)\u001b[0m \u001b[0;32mif\u001b[0m \u001b[0moutput_subset\u001b[0m \u001b[0;32mis\u001b[0m \u001b[0;32mNone\u001b[0m \u001b[0;32melse\u001b[0m\u001b[0;31m\\\u001b[0m\u001b[0;34m\u001b[0m\u001b[0m\n\u001b[0m\u001b[1;32m    885\u001b[0m                 \u001b[0mself\u001b[0m\u001b[0;34m.\u001b[0m\u001b[0mfn\u001b[0m\u001b[0;34m(\u001b[0m\u001b[0moutput_subset\u001b[0m\u001b[0;34m=\u001b[0m\u001b[0moutput_subset\u001b[0m\u001b[0;34m)\u001b[0m\u001b[0;34m\u001b[0m\u001b[0m\n\u001b[1;32m    886\u001b[0m         \u001b[0;32mexcept\u001b[0m \u001b[0mException\u001b[0m\u001b[0;34m:\u001b[0m\u001b[0;34m\u001b[0m\u001b[0m\n",
      "\u001b[0;32m/opt/conda/lib/python3.5/site-packages/theano/scan_module/scan_op.py\u001b[0m in \u001b[0;36mrval\u001b[0;34m(p, i, o, n, allow_gc)\u001b[0m\n\u001b[1;32m    987\u001b[0m         def rval(p=p, i=node_input_storage, o=node_output_storage, n=node,\n\u001b[1;32m    988\u001b[0m                  allow_gc=allow_gc):\n\u001b[0;32m--> 989\u001b[0;31m             \u001b[0mr\u001b[0m \u001b[0;34m=\u001b[0m \u001b[0mp\u001b[0m\u001b[0;34m(\u001b[0m\u001b[0mn\u001b[0m\u001b[0;34m,\u001b[0m \u001b[0;34m[\u001b[0m\u001b[0mx\u001b[0m\u001b[0;34m[\u001b[0m\u001b[0;36m0\u001b[0m\u001b[0;34m]\u001b[0m \u001b[0;32mfor\u001b[0m \u001b[0mx\u001b[0m \u001b[0;32min\u001b[0m \u001b[0mi\u001b[0m\u001b[0;34m]\u001b[0m\u001b[0;34m,\u001b[0m \u001b[0mo\u001b[0m\u001b[0;34m)\u001b[0m\u001b[0;34m\u001b[0m\u001b[0m\n\u001b[0m\u001b[1;32m    990\u001b[0m             \u001b[0;32mfor\u001b[0m \u001b[0mo\u001b[0m \u001b[0;32min\u001b[0m \u001b[0mnode\u001b[0m\u001b[0;34m.\u001b[0m\u001b[0moutputs\u001b[0m\u001b[0;34m:\u001b[0m\u001b[0;34m\u001b[0m\u001b[0m\n\u001b[1;32m    991\u001b[0m                 \u001b[0mcompute_map\u001b[0m\u001b[0;34m[\u001b[0m\u001b[0mo\u001b[0m\u001b[0;34m]\u001b[0m\u001b[0;34m[\u001b[0m\u001b[0;36m0\u001b[0m\u001b[0;34m]\u001b[0m \u001b[0;34m=\u001b[0m \u001b[0;32mTrue\u001b[0m\u001b[0;34m\u001b[0m\u001b[0m\n",
      "\u001b[0;32m/opt/conda/lib/python3.5/site-packages/theano/scan_module/scan_op.py\u001b[0m in \u001b[0;36mp\u001b[0;34m(node, args, outs)\u001b[0m\n\u001b[1;32m    976\u001b[0m                                                 \u001b[0margs\u001b[0m\u001b[0;34m,\u001b[0m\u001b[0;34m\u001b[0m\u001b[0m\n\u001b[1;32m    977\u001b[0m                                                 \u001b[0mouts\u001b[0m\u001b[0;34m,\u001b[0m\u001b[0;34m\u001b[0m\u001b[0m\n\u001b[0;32m--> 978\u001b[0;31m                                                 self, node)\n\u001b[0m\u001b[1;32m    979\u001b[0m         \u001b[0;32mexcept\u001b[0m \u001b[0;34m(\u001b[0m\u001b[0mImportError\u001b[0m\u001b[0;34m,\u001b[0m \u001b[0mtheano\u001b[0m\u001b[0;34m.\u001b[0m\u001b[0mgof\u001b[0m\u001b[0;34m.\u001b[0m\u001b[0mcmodule\u001b[0m\u001b[0;34m.\u001b[0m\u001b[0mMissingGXX\u001b[0m\u001b[0;34m)\u001b[0m\u001b[0;34m:\u001b[0m\u001b[0;34m\u001b[0m\u001b[0m\n\u001b[1;32m    980\u001b[0m             \u001b[0mp\u001b[0m \u001b[0;34m=\u001b[0m \u001b[0mself\u001b[0m\u001b[0;34m.\u001b[0m\u001b[0mexecute\u001b[0m\u001b[0;34m\u001b[0m\u001b[0m\n",
      "\u001b[0;32mtheano/scan_module/scan_perform.pyx\u001b[0m in \u001b[0;36mtheano.scan_module.scan_perform.perform (/home/jovyan/.theano/compiledir_Linux-4.4--generic-x86_64-with-debian-8.7--3.5.2-64/scan_perform/mod.cpp:6946)\u001b[0;34m()\u001b[0m\n",
      "\u001b[0;32m/opt/conda/lib/python3.5/site-packages/theano/gpuarray/type.py\u001b[0m in \u001b[0;36mvalue_zeros\u001b[0;34m(self, shape)\u001b[0m\n\u001b[1;32m    366\u001b[0m         \u001b[0;32mreturn\u001b[0m \u001b[0mpygpu\u001b[0m\u001b[0;34m.\u001b[0m\u001b[0mgpuarray\u001b[0m\u001b[0;34m.\u001b[0m\u001b[0mmay_share_memory\u001b[0m\u001b[0;34m(\u001b[0m\u001b[0ma\u001b[0m\u001b[0;34m,\u001b[0m \u001b[0mb\u001b[0m\u001b[0;34m)\u001b[0m\u001b[0;34m\u001b[0m\u001b[0m\n\u001b[1;32m    367\u001b[0m \u001b[0;34m\u001b[0m\u001b[0m\n\u001b[0;32m--> 368\u001b[0;31m     \u001b[0;32mdef\u001b[0m \u001b[0mvalue_zeros\u001b[0m\u001b[0;34m(\u001b[0m\u001b[0mself\u001b[0m\u001b[0;34m,\u001b[0m \u001b[0mshape\u001b[0m\u001b[0;34m)\u001b[0m\u001b[0;34m:\u001b[0m\u001b[0;34m\u001b[0m\u001b[0m\n\u001b[0m\u001b[1;32m    369\u001b[0m         return pygpu.gpuarray.zeros(shape, dtype=self.typecode,\n\u001b[1;32m    370\u001b[0m                                     context=self.context)\n",
      "\u001b[0;31mKeyboardInterrupt\u001b[0m: "
     ]
    }
   ],
   "source": [
    "%%time\n",
    "# 128 + 32\n",
    "epochs     = 256\n",
    "batch_size = 100\n",
    "histories.append(model.fit_generator(\n",
    "    ext.input_output_generator(train, batch_size, order),\n",
    "    steps_per_epoch=len(train) // batch_size,\n",
    "    epochs=epochs,\n",
    "    verbose=1,\n",
    "    validation_data=ext.input_output_generator(test, batch_size, order),\n",
    "    validation_steps=len(test) // batch_size,\n",
    "    callbacks=[\n",
    "        keras.callbacks.ModelCheckpoint(\n",
    "            filepath=modelpath,\n",
    "            save_best_only=True,\n",
    "            verbose=0,),\n",
    "        keras.callbacks.EarlyStopping(patience=10, verbose=1),\n",
    "        keras.callbacks.ReduceLROnPlateau(patience=5, verbose=1)]))"
   ]
  },
  {
   "cell_type": "markdown",
   "metadata": {},
   "source": [
    "### Display information about the model after fitting it."
   ]
  },
  {
   "cell_type": "code",
   "execution_count": null,
   "metadata": {
    "collapsed": true
   },
   "outputs": [],
   "source": [
    "%%time\n",
    "guesses          = model.predict(ext.extract_input(test, order))\n",
    "hits_correct     = metrics.percent_of_hits_assigned_correctly(test, guesses=guesses, order=order)\n",
    "tracks_correct   = metrics.percent_of_tracks_assigned_correctly(test, guesses=guesses, order=order, percent=1.0)\n",
    "n_tracks_correct = metrics.percent_of_events_with_correct_number_of_tracks(test, guesses=guesses, order=order)\n",
    "print(\"Percent of hits assigned correctly: {}%\".format(hits_correct * 100))\n",
    "print(\"Percent of tracks assigned correctly: {}%\".format(tracks_correct * 100))\n",
    "print(\"Percent of events with the correct number of tracks: {}%\".format(n_tracks_correct * 100))"
   ]
  },
  {
   "cell_type": "markdown",
   "metadata": {},
   "source": [
    "### Display how one of the model's predictions looks."
   ]
  },
  {
   "cell_type": "code",
   "execution_count": null,
   "metadata": {
    "collapsed": true,
    "scrolled": true
   },
   "outputs": [],
   "source": [
    "n  = 3138  # np.random.randint(len(test))\n",
    "print(\"Percent of hits assigned correctly: {}%\".format(\n",
    "    metrics.percent_of_hits_assigned_correctly(test[n], guesses[n], order) * 100))\n",
    "print(\"Percent of tracks assigned correctly: {}%\".format(\n",
    "    metrics.percent_of_tracks_assigned_correctly(test[n], guesses[n], order) * 100))\n",
    "_ = visuals.Plot2D(test[n], order, guesses[n]).plot(mode=\"zr\", title=\"Prediction {}\".format(n))\n",
    "_ = visuals.Plot2D(test[n], order).plot(mode=\"zr\", title=\"Answer {}\".format(n))\n",
    "_ = visuals.Plot2D(test[n], order, guesses[n]).plot(mode=\"xy\", title=\"Prediction {}\".format(n))\n",
    "_ = visuals.Plot2D(test[n], order).plot(mode=\"xy\", title=\"Answer {}\".format(n))"
   ]
  },
  {
   "cell_type": "code",
   "execution_count": null,
   "metadata": {
    "collapsed": true
   },
   "outputs": [],
   "source": [
    "visuals.display(test[n], order, guesses[n], mode=\"discrete pairs\")"
   ]
  },
  {
   "cell_type": "code",
   "execution_count": null,
   "metadata": {
    "collapsed": true,
    "scrolled": true
   },
   "outputs": [],
   "source": [
    "%%time\n",
    "n_tracks, accuracy = metrics.accuracy_vs_tracks(test, guesses, order)\n",
    "r = range(n_tracks.min(), n_tracks.max() + 1)\n",
    "boxes = [[] for _ in r]\n",
    "for i in range(len(n_tracks)):\n",
    "    boxes[n_tracks[i] - n_tracks.min()].append(accuracy[i])\n",
    "visuals.boxplot(boxes, \"ACTS-0N-SPLIT-80-20\", \"Number of Tracks\", \"Discrete Accuracy\", xticks=list(r))"
   ]
  },
  {
   "cell_type": "code",
   "execution_count": null,
   "metadata": {
    "collapsed": true
   },
   "outputs": [],
   "source": [
    "%%time\n",
    "n_tracks, accuracy = metrics.accuracy_vs_tracks(test, guesses, order)\n",
    "r = range(n_tracks.min(), n_tracks.max() + 1)\n",
    "boxes = [[] for _ in r]\n",
    "for i in range(len(n_tracks)):\n",
    "    boxes[n_tracks[i] - n_tracks.min()].append(accuracy[i])\n",
    "visuals.boxplot(boxes, \"ACTS-0N-SPLIT-80-20\", \"Number of Tracks\", \"Discrete Accuracy\", xticks=list(r))"
   ]
  },
  {
   "cell_type": "code",
   "execution_count": null,
   "metadata": {
    "collapsed": true
   },
   "outputs": [],
   "source": [
    "%%time\n",
    "for percent in [0.3, 0.5, 0.75, 1.0]:\n",
    "    c_tracks = [metrics.percent_of_tracks_assigned_correctly(test[n], guesses[n], order, percent=percent)\n",
    "                for n in range(len(guesses))]\n",
    "    boxes = [[] for _ in r]\n",
    "    for i in range(len(c_tracks)):\n",
    "        index = metrics.number_of_tracks(test[i]) - 1\n",
    "        boxes[index].append(c_tracks[i])\n",
    "    visuals.boxplot(\n",
    "        boxes, \"ACTS-0N-SPLIT-80-20\", \"Number of Tracks\",\n",
    "        \"Percent of Tracks Correctly Assigned ({})\".format(percent), xticks=list(r))"
   ]
  },
  {
   "cell_type": "code",
   "execution_count": null,
   "metadata": {
    "collapsed": true
   },
   "outputs": [],
   "source": [
    "%%time\n",
    "thresholds = [i / 10 for i in range(11)]\n",
    "threshold_metrics = [[metrics.threshold_metrics(test[i], guesses[i], n, order)\n",
    "                      for i in range(len(guesses))] for n in thresholds]\n",
    "boxes_correct   = [[m[0] for m in metric] for metric in threshold_metrics]\n",
    "boxes_incorrect = [[m[1] for m in metric] for metric in threshold_metrics]\n",
    "boxes_multi     = [[m[2] for m in metric] for metric in threshold_metrics]\n",
    "boxes_none      = [[m[3] for m in metric] for metric in threshold_metrics]\n",
    "visuals.boxplot(\n",
    "    boxes_correct, \n",
    "    \"ACTS-0N-SPLIT-80-20\", \"Number of Tracks\", \"Prob[hit assigned to correct track]\", xticks=thresholds)\n",
    "visuals.boxplot(\n",
    "    boxes_incorrect, \n",
    "    \"ACTS-0N-SPLIT-80-20\", \"Number of Tracks\", \"Prob[hit assigned to an incorrect track]\", xticks=thresholds)\n",
    "visuals.boxplot(\n",
    "    boxes_multi, \n",
    "    \"ACTS-0N-SPLIT-80-20\", \"Number of Tracks\", \"Prob[hit assigned to multiple tracks]\", xticks=thresholds)\n",
    "visuals.boxplot(\n",
    "    boxes_none, \n",
    "    \"ACTS-0N-SPLIT-80-20\", \"Number of Tracks\", \"Prob[hit assigned to no tracks]\", xticks=thresholds)"
   ]
  },
  {
   "cell_type": "code",
   "execution_count": null,
   "metadata": {
    "collapsed": true
   },
   "outputs": [],
   "source": []
  }
 ],
 "metadata": {
  "kernelspec": {
   "display_name": "Python 3",
   "language": "python",
   "name": "python3"
  },
  "language_info": {
   "codemirror_mode": {
    "name": "ipython",
    "version": 3
   },
   "file_extension": ".py",
   "mimetype": "text/x-python",
   "name": "python",
   "nbconvert_exporter": "python",
   "pygments_lexer": "ipython3",
   "version": "3.5.2"
  }
 },
 "nbformat": 4,
 "nbformat_minor": 2
}
