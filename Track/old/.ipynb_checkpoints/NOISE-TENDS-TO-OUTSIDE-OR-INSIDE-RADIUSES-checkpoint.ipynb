{
 "cells": [
  {
   "cell_type": "code",
   "execution_count": 1,
   "metadata": {},
   "outputs": [
    {
     "name": "stderr",
     "output_type": "stream",
     "text": [
      "Using Theano backend.\n",
      "Using cuDNN version 5110 on context None\n",
      "Mapped name None to device cuda: GeForce GTX 1080 (0000:0E:00.0)\n"
     ]
    }
   ],
   "source": [
    "import os\n",
    "os.environ[\"CUDA_VISIBLE_DEVICES\"] = \"7\"\n",
    "%matplotlib notebook\n",
    "import importlib\n",
    "import numpy as np\n",
    "import pandas as pd\n",
    "import keras\n",
    "import sys\n",
    "from keras.layers import TimeDistributed, Dense, Dropout, GRU, Bidirectional\n",
    "from keras.models import Sequential\n",
    "from tracker import extractor as ext, utils, metrics, visuals"
   ]
  },
  {
   "cell_type": "code",
   "execution_count": 60,
   "metadata": {},
   "outputs": [
    {
     "name": "stdout",
     "output_type": "stream",
     "text": [
      "Train is list of 13232 events.\n",
      "Test is list of 3308 events.\n",
      "Train takes up 105920 bytes.\n",
      "Test takes up 26528 bytes.\n",
      "CPU times: user 6.45 s, sys: 10.3 s, total: 16.8 s\n",
      "Wall time: 16.8 s\n"
     ]
    }
   ],
   "source": [
    "%%time\n",
    "modelpath = \"data/models/ACTS-10N-25T-260R.h5\"\n",
    "filepath  = \"data/sets/ACTS-10N-25T-16539E-260R.gz\"\n",
    "frame     = pd.read_csv(filepath)\n",
    "events    = [event for (_, event) in frame.groupby(\"event_id\", sort=False)]\n",
    "percent   = 0.8\n",
    "cutoff    = int(percent * len(events))\n",
    "train, test = events[:cutoff], events[cutoff:]\n",
    "print(\"Train is list of {} events.\".format(len(train)))\n",
    "print(\"Test is list of {} events.\".format(len(test)))\n",
    "print(\"Train takes up {} bytes.\".format(sys.getsizeof(train)))\n",
    "print(\"Test takes up {} bytes.\".format(sys.getsizeof(test)))\n",
    "if (not utils.is_prepared(train[0])) or (not utils.is_prepared(test[0])):\n",
    "    print(\"Warning: frame is not prepared.\")\n",
    "    print(\"Look at the prepare_frame() function in tracker/extractor.py\")\n",
    "else:\n",
    "    rs = np.sort(pd.unique(frame[\"r\"]))\n",
    "    del frame  \n",
    "    del events  # To save on memory."
   ]
  },
  {
   "cell_type": "code",
   "execution_count": 3,
   "metadata": {
    "collapsed": true
   },
   "outputs": [],
   "source": [
    "order = [\"phi\", \"r\", \"z\"]"
   ]
  },
  {
   "cell_type": "code",
   "execution_count": 4,
   "metadata": {
    "collapsed": true
   },
   "outputs": [],
   "source": [
    "input_shape  = (260, 3)\n",
    "n_categories = 25 + 2\n",
    "optimizer    = keras.optimizers.RMSprop(lr=0.001)\n",
    "histories    = []"
   ]
  },
  {
   "cell_type": "code",
   "execution_count": 81,
   "metadata": {},
   "outputs": [
    {
     "name": "stderr",
     "output_type": "stream",
     "text": [
      "WARNING (theano.configdefaults): install mkl with `conda install mkl-service`: No module named 'mkl'\n"
     ]
    }
   ],
   "source": [
    "model = keras.models.load_model(modelpath)"
   ]
  },
  {
   "cell_type": "code",
   "execution_count": 78,
   "metadata": {},
   "outputs": [],
   "source": [
    "def round_noise_up(row):\n",
    "    if row[\"noise\"] and (row[\"r\"] <= rs[5] or row[\"r\"] == np.NaN):\n",
    "        row.loc[\"r\"] = np.random.choice(rs[6:])\n",
    "    return row\n",
    "test_high = []\n",
    "for event in test:\n",
    "    test_high.append(event.apply(round_noise_up, axis=1))"
   ]
  },
  {
   "cell_type": "code",
   "execution_count": 85,
   "metadata": {},
   "outputs": [
    {
     "name": "stdout",
     "output_type": "stream",
     "text": [
      "0.911286778278\n"
     ]
    }
   ],
   "source": [
    "# Noise tends to be far from origin of detector.\n",
    "guesses_up = model.predict(ext.extract_input(test_high, order))\n",
    "print(metrics.percent_of_hits_assigned_correctly(test_high, guesses=guesses_up, order=order))"
   ]
  },
  {
   "cell_type": "code",
   "execution_count": 87,
   "metadata": {},
   "outputs": [
    {
     "name": "stdout",
     "output_type": "stream",
     "text": [
      "CPU times: user 2min 1s, sys: 52 ms, total: 2min 1s\n",
      "Wall time: 2min 1s\n"
     ]
    }
   ],
   "source": [
    "%%time\n",
    "def round_noise_down(row):\n",
    "    if row[\"noise\"] and (row[\"r\"] > rs[5] or row[\"r\"] == np.NaN):\n",
    "        row.loc[\"r\"] = np.random.choice(rs[:5])\n",
    "    return row\n",
    "test_down = []\n",
    "for event in test:\n",
    "    test_down.append(event.apply(round_noise_down, axis=1))"
   ]
  },
  {
   "cell_type": "code",
   "execution_count": 88,
   "metadata": {},
   "outputs": [
    {
     "name": "stdout",
     "output_type": "stream",
     "text": [
      "0.752941601967\n"
     ]
    }
   ],
   "source": [
    "# Noise tends to be close to origin of detector.\n",
    "guesses_down = model.predict(ext.extract_input(test_down, order))\n",
    "print(metrics.percent_of_hits_assigned_correctly(test_down, guesses=guesses_down, order=order))"
   ]
  },
  {
   "cell_type": "code",
   "execution_count": 89,
   "metadata": {},
   "outputs": [
    {
     "name": "stdout",
     "output_type": "stream",
     "text": [
      "0.821605101992\n"
     ]
    }
   ],
   "source": [
    "# Noise is uniformly randomly distributed.\n",
    "guesses = model.predict(ext.extract_input(test, order))\n",
    "print(metrics.percent_of_hits_assigned_correctly(test, guesses=guesses, order=order))"
   ]
  }
 ],
 "metadata": {
  "kernelspec": {
   "display_name": "Python 3",
   "language": "python",
   "name": "python3"
  },
  "language_info": {
   "codemirror_mode": {
    "name": "ipython",
    "version": 3
   },
   "file_extension": ".py",
   "mimetype": "text/x-python",
   "name": "python",
   "nbconvert_exporter": "python",
   "pygments_lexer": "ipython3",
   "version": "3.5.2"
  }
 },
 "nbformat": 4,
 "nbformat_minor": 2
}
