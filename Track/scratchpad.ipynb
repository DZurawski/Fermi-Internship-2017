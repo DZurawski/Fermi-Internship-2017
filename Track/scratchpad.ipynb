{
 "cells": [
  {
   "cell_type": "code",
   "execution_count": 1,
   "metadata": {
    "collapsed": true
   },
   "outputs": [],
   "source": [
    "%matplotlib notebook\n",
    "import numpy as np\n",
    "import pandas as pd\n",
    "import networkx as nx\n",
    "import collections\n",
    "from typing import Sequence, Tuple, List\n",
    "from tracker import extractor, utils, metrics, visuals"
   ]
  },
  {
   "cell_type": "code",
   "execution_count": 2,
   "metadata": {
    "collapsed": true
   },
   "outputs": [],
   "source": [
    "def cartesian(position: np.ndarray, order: List[str]) -> np.ndarray:\n",
    "    phi, r, z = [position[order.index(s)] for s in [\"phi\", \"r\", \"z\"]]\n",
    "    return np.array([(np.cos(phi) * r), (np.sin(phi) * r), z])\n",
    "\n",
    "def groupby(array: np.ndarray) -> List[List[float]]:\n",
    "    D = dict((value, index) for (index, value) in enumerate(np.unique(array)))\n",
    "    L = [[] for _ in range(len(D))]\n",
    "    for index, value in enumerate(array):\n",
    "        L[D[value]].append(index)\n",
    "    return L\n",
    "\n",
    "def intersection(\n",
    "        p0 : np.ndarray,  # The center of the first circle.\n",
    "        r0 : float,       # The radius of the first circle.\n",
    "        p1 : np.ndarray,  # The center of the second circle.\n",
    "        r1 : float,       # The radius of the second circle.\n",
    "        ) -> Tuple[np.ndarray, np.ndarray]:  # Two points of intersection.\n",
    "    d  = np.linalg.norm(p0 - p1)\n",
    "    a  = (r0 * r0 - r1 * r1 + d * d) / (2 * d)\n",
    "    h  = np.sqrt(r0 * r0 - a * a)\n",
    "    p2 = (p1 - p0) * (a / d) + p0\n",
    "    x3 = p2[0] + h * (p1[1] - p0[1]) / d\n",
    "    y3 = p2[1] - h * (p1[0] - p0[0]) / d\n",
    "    x4 = p2[0] - h * (p1[1] - p0[1]) / d\n",
    "    y4 = p2[1] + h * (p1[0] - p0[0]) / d\n",
    "    return np.array([x3, y3]), np.array([x4, y4])\n",
    "\n",
    "def phi_bounds_from_circle(xyz: np.ndarray, radius: float) -> Tuple[float, float]:\n",
    "    center = xyz[:2] / 2\n",
    "    b0, b1 = intersection(center, np.linalg.norm(center), np.array([0, 0]), radius)\n",
    "    return  np.arctan2(b1[1], b1[0]), np.arctan2(b0[1], b0[0])\n",
    "\n",
    "def phi_bounds_from_lines(super_xyz: np.ndarray, sub_xyz: np.ndarray, radius: float) -> Tuple[float, float]:\n",
    "    x0, y0 = super_xyz[:2]\n",
    "    x1, y1 = sub_xyz[:2]\n",
    "    b0 = np.arctan2(y1, x1)\n",
    "    return None\n",
    "\n",
    "def phi_lies_within_bounds(phi: float, bounds: Tuple[float, float]) -> bool:\n",
    "    phi = phi % (2 * np.pi)\n",
    "    b1  = bounds[0] % (2 * np.pi)\n",
    "    b2  = bounds[1] % (2 * np.pi)\n",
    "    return (b1 <= phi or phi <= b2) if (b1 > b2) else (b1 <= phi and phi <= b2)\n",
    "\n",
    "def tighten_bounds(bounds1: Tuple[float, float], bounds2: Tuple[float, float]) -> Tuple[float, float]:\n",
    "    b1 = bounds1[0] if phi_lies_within_bounds(bounds2[0], bounds1) else bounds2[0]\n",
    "    b2 = bounds1[1] if phi_lies_within_bounds(bounds2[1], bounds1) else bounds2[1]\n",
    "    return b1, b2"
   ]
  },
  {
   "cell_type": "code",
   "execution_count": 3,
   "metadata": {},
   "outputs": [
    {
     "name": "stdout",
     "output_type": "stream",
     "text": [
      "Wall time: 4.87 s\n"
     ]
    }
   ],
   "source": [
    "%%time\n",
    "frame  = pd.read_csv(\"data/sets/RAMP-10N-25T-3600E-235R.gz\")\n",
    "frame  = utils.remove_padding(utils.remove_noise(frame))\n",
    "frame  = frame.groupby([\"event_id\", \"cluster_id\"]).filter(lambda group: len(group) == 9)\n",
    "events = utils.list_of_groups(frame, \"event_id\")\n",
    "events = sorted(events, key=(lambda event: len(event)))"
   ]
  },
  {
   "cell_type": "code",
   "execution_count": null,
   "metadata": {},
   "outputs": [],
   "source": [
    "order     = [\"phi\", \"r\", \"z\"]\n",
    "number    = 400\n",
    "print(\"Hits:   {}\".format(metrics.number_of_hits(events[number])))\n",
    "print(\"Tracks: {}\".format(metrics.number_of_tracks(events[number])))\n",
    "positions = extractor.extract_input(events[number], order)\n",
    "tracks    = extractor.extract_output(events[number], order, categorical=False)"
   ]
  },
  {
   "cell_type": "code",
   "execution_count": null,
   "metadata": {},
   "outputs": [],
   "source": [
    "G = nx.DiGraph()\n",
    "for idx, position in enumerate(positions):\n",
    "    G.add_node(\n",
    "        n=idx,\n",
    "        cartesian=cartesian(position, order)[:2],\n",
    "        phi=position[order.index(\"phi\")],\n",
    "        r=position[order.index(\"r\")],\n",
    "        z=position[order.index(\"z\")]\n",
    "    )\n",
    "nodes    = G.nodes(data=True)\n",
    "radiuses = groupby(positions[:, order.index(\"r\")])\n",
    "print(radiuses)"
   ]
  },
  {
   "cell_type": "code",
   "execution_count": null,
   "metadata": {
    "scrolled": true
   },
   "outputs": [],
   "source": [
    "def connect(\n",
    "        nodes_index    : int, \n",
    "        radiuses_index : int, \n",
    "        bounds         : Tuple[float, float]\n",
    "        ) -> List[int]:\n",
    "    cartesian  = nodes[nodes_index][1][\"cartesian\"]  # 1D array\n",
    "    candidates = radiuses[radiuses_index]  # List[int]\n",
    "    radius     = nodes[candidates[0]][1][\"r\"]\n",
    "    \n",
    "    circle_bounds = phi_bounds_from_circle(cartesian, radius)\n",
    "    line_bounds   = phi_bounds_from_line()\n",
    "    bounds = circle_bounds if bounds is None else bounds\n",
    "    bounds = tighten_bounds(bounds, circle_bounds)\n",
    "    bounds = tighten_bounds(bounds, line_bounds)\n",
    "    \n",
    "    accepted   = []\n",
    "    for i in candidates:\n",
    "        node = nodes[i][1]\n",
    "        phi  = node[\"phi\"]\n",
    "        if phi_lies_within_bounds(phi, bounds):\n",
    "            if radiuses_index <= 0:\n",
    "                accepted.append((nodes_index, i))\n",
    "            else:\n",
    "                next_branches = connect(i, radiuses_index - 1, bounds)\n",
    "                if next_branches:\n",
    "                    accepted += next_branches\n",
    "                    accepted.append((nodes_index, i))\n",
    "    return accepted\n",
    "\n",
    "for i in radiuses[-1]:\n",
    "    print(i)\n",
    "    G.add_edges_from(connect(i, len(radiuses) - 2, None))"
   ]
  },
  {
   "cell_type": "code",
   "execution_count": null,
   "metadata": {},
   "outputs": [],
   "source": [
    "nx.draw_networkx(G, pos=nx.get_node_attributes(G, \"cartesian\"), node_size=20)"
   ]
  }
 ],
 "metadata": {
  "kernelspec": {
   "display_name": "Python 3",
   "language": "python",
   "name": "python3"
  },
  "language_info": {
   "codemirror_mode": {
    "name": "ipython",
    "version": 3
   },
   "file_extension": ".py",
   "mimetype": "text/x-python",
   "name": "python",
   "nbconvert_exporter": "python",
   "pygments_lexer": "ipython3",
   "version": "3.6.1"
  }
 },
 "nbformat": 4,
 "nbformat_minor": 2
}
