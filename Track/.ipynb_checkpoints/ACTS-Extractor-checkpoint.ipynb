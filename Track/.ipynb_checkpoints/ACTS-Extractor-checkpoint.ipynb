{
 "cells": [
  {
   "cell_type": "code",
   "execution_count": null,
   "metadata": {},
   "outputs": [],
   "source": [
    "!nvidia-smi"
   ]
  },
  {
   "cell_type": "code",
   "execution_count": null,
   "metadata": {
    "collapsed": true
   },
   "outputs": [],
   "source": [
    "import os\n",
    "os.environ[\"CUDA_VISIBLE_DEVICES\"] = \"3\"\n",
    "%matplotlib notebook\n",
    "import importlib\n",
    "import numpy as np\n",
    "import pandas as pd\n",
    "from tracker import extractor as ext, utils, metrics, visuals"
   ]
  },
  {
   "cell_type": "code",
   "execution_count": null,
   "metadata": {},
   "outputs": [],
   "source": [
    "importlib.reload(ext)"
   ]
  },
  {
   "cell_type": "code",
   "execution_count": null,
   "metadata": {},
   "outputs": [],
   "source": [
    "%%time\n",
    "mapper = {}\n",
    "for key in range(  30,   35): mapper[key] = 32\n",
    "for key in range(  70,   75): mapper[key] = 72\n",
    "for key in range( 115,  120): mapper[key] = 117\n",
    "for key in range( 170,  175): mapper[key] = 172\n",
    "for key in range( 255,  270): mapper[key] = 260\n",
    "for key in range( 355,  370): mapper[key] = 360\n",
    "for key in range( 495,  510): mapper[key] = 500\n",
    "for key in range( 655,  670): mapper[key] = 660\n",
    "for key in range( 815,  830): mapper[key] = 820\n",
    "for key in range(1010, 1030): mapper[key] = 1020\n",
    "\n",
    "frame_initial  = pd.read_csv(\"data/test_ramp.csv\")\n",
    "frame_25tracks = pd.concat([F for F in utils.list_of_groups(frame_initial, \"event_id\")\n",
    "                            if len(utils.list_of_groups(F, \"cluster_id\")) <= 25])\n",
    "frame_round_r  = frame_25tracks.copy()\n",
    "frame_round_r[\"r\"] = frame_round_r[\"r\"].round().map(mapper)"
   ]
  },
  {
   "cell_type": "code",
   "execution_count": null,
   "metadata": {},
   "outputs": [],
   "source": [
    "print(sorted(pd.unique(frame_round_r[\"r\"])))"
   ]
  },
  {
   "cell_type": "code",
   "execution_count": null,
   "metadata": {},
   "outputs": [],
   "source": [
    "mapper = {}\n",
    "for key in range(  30,   35): mapper[key] = 32\n",
    "for key in range(  70,   75): mapper[key] = 72\n",
    "for key in range( 115,  120): mapper[key] = 117\n",
    "for key in range( 170,  175): mapper[key] = 172\n",
    "for key in range( 255,  270): mapper[key] = 260\n",
    "for key in range( 355,  370): mapper[key] = 360\n",
    "for key in range( 495,  510): mapper[key] = 500\n",
    "for key in range( 655,  670): mapper[key] = 660\n",
    "for key in range( 815,  830): mapper[key] = 820\n",
    "for key in range(1010, 1030): mapper[key] = 1020"
   ]
  },
  {
   "cell_type": "code",
   "execution_count": null,
   "metadata": {},
   "outputs": [],
   "source": [
    "frame = pd.concat([f for f in utils.list_of_groups(frame, \"event_id\") if metrics.number_of_tracks(f) < 25])"
   ]
  },
  {
   "cell_type": "code",
   "execution_count": null,
   "metadata": {
    "scrolled": true
   },
   "outputs": [],
   "source": [
    "frame = ext.prepare_frame(frame_round_r, n_tracks=25, n_rows=260, n_noise=10)"
   ]
  },
  {
   "cell_type": "code",
   "execution_count": null,
   "metadata": {
    "collapsed": true
   },
   "outputs": [],
   "source": [
    "frame.to_csv(\"data/sets/ACTS-10N-25T.gz\", compression=\"gzip\")"
   ]
  },
  {
   "cell_type": "code",
   "execution_count": null,
   "metadata": {},
   "outputs": [],
   "source": [
    "L = utils.list_of_groups(frame, \"event_id\")\n"
   ]
  },
  {
   "cell_type": "code",
   "execution_count": null,
   "metadata": {},
   "outputs": [],
   "source": [
    "L[3]"
   ]
  },
  {
   "cell_type": "code",
   "execution_count": null,
   "metadata": {},
   "outputs": [],
   "source": [
    "ext.extract_output(L[3], [\"phi\", \"r\", \"z\"], categorical=False)"
   ]
  },
  {
   "cell_type": "code",
   "execution_count": null,
   "metadata": {},
   "outputs": [],
   "source": [
    "visuals.Plot2D(L[3], [\"phi\", \"r\", \"z\"]).plot(mode=\"xy\")"
   ]
  },
  {
   "cell_type": "code",
   "execution_count": null,
   "metadata": {},
   "outputs": [],
   "source": [
    "visuals.display(L[3], [\"phi\", \"r\", \"z\"])"
   ]
  }
 ],
 "metadata": {
  "kernelspec": {
   "display_name": "Python 3",
   "language": "python",
   "name": "python3"
  },
  "language_info": {
   "codemirror_mode": {
    "name": "ipython",
    "version": 3
   },
   "file_extension": ".py",
   "mimetype": "text/x-python",
   "name": "python",
   "nbconvert_exporter": "python",
   "pygments_lexer": "ipython3",
   "version": "3.5.2"
  }
 },
 "nbformat": 4,
 "nbformat_minor": 2
}
