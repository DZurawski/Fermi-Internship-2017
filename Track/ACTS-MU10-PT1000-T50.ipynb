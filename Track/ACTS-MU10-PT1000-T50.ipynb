{
 "cells": [
  {
   "cell_type": "markdown",
   "metadata": {},
   "source": [
    "# ACTS-MU10-PT1000-T50"
   ]
  },
  {
   "cell_type": "code",
   "execution_count": null,
   "metadata": {
    "scrolled": true
   },
   "outputs": [],
   "source": [
    "!nvidia-smi"
   ]
  },
  {
   "cell_type": "code",
   "execution_count": 1,
   "metadata": {},
   "outputs": [
    {
     "name": "stderr",
     "output_type": "stream",
     "text": [
      "Using Theano backend.\n",
      "Using cuDNN version 5110 on context None\n",
      "Mapped name None to device cuda: GeForce GTX 1080 (0000:0E:00.0)\n"
     ]
    }
   ],
   "source": [
    "import os\n",
    "import random\n",
    "os.environ[\"CUDA_VISIBLE_DEVICES\"] = \"7\"\n",
    "%matplotlib notebook\n",
    "import importlib\n",
    "import numpy as np\n",
    "import pandas as pd\n",
    "import keras\n",
    "import sys\n",
    "from keras.layers import TimeDistributed, Dense, Dropout, GRU, Bidirectional\n",
    "from keras.models import Sequential\n",
    "from tracker import extractor as ext, utils, metrics, visuals"
   ]
  },
  {
   "cell_type": "markdown",
   "metadata": {},
   "source": [
    "### Load in the data."
   ]
  },
  {
   "cell_type": "code",
   "execution_count": null,
   "metadata": {},
   "outputs": [],
   "source": [
    "filepath  = \"data/sets/ACTS/ACTS-MU10-PT1000-COMPLETE.gz\"\n",
    "frame = pd.read_csv(filepath)\n",
    "frame.head(5)"
   ]
  },
  {
   "cell_type": "code",
   "execution_count": null,
   "metadata": {
    "scrolled": true
   },
   "outputs": [],
   "source": [
    "%%time\n",
    "max_tracks = 50\n",
    "filt   = lambda a: len(a[\"cluster_id\"].unique()) <= max_tracks\n",
    "events = frame.groupby(\"event_id\").filter(filt)\n"
   ]
  },
  {
   "cell_type": "code",
   "execution_count": null,
   "metadata": {},
   "outputs": [],
   "source": [
    "a = events.groupby(\"event_id\")\n",
    "#print(len(events))\n",
    "#print(len(events[\"event_id\"].unique()))\n",
    "print(max([len(e[\"cluster_id\"].unique()) for (_, e) in a]))"
   ]
  },
  {
   "cell_type": "code",
   "execution_count": null,
   "metadata": {
    "scrolled": true
   },
   "outputs": [],
   "source": [
    "%%time\n",
    "savepath = \"data/sets/ACTS/ACTS-MU10-PT1000-T50-PREPARED.gz\"\n",
    "prepared = ext.prepare_frame(events, n_tracks=50, n_rows=200)"
   ]
  },
  {
   "cell_type": "code",
   "execution_count": 5,
   "metadata": {},
   "outputs": [
    {
     "name": "stdout",
     "output_type": "stream",
     "text": [
      "Train is list of 52325 events.\n",
      "Test is list of 13082 events.\n",
      "Train takes up 418664 bytes.\n",
      "Test takes up 104720 bytes.\n",
      "CPU times: user 49.1 s, sys: 2.13 s, total: 51.2 s\n",
      "Wall time: 51.2 s\n"
     ]
    }
   ],
   "source": [
    "%%time\n",
    "modelpath = \"data/models/ACTS-MU10-PT1000-T50.h5\"\n",
    "filepath  = \"data/sets/ACTS/ACTS-MU10-PT1000-T50-PREPARED.gz\"\n",
    "frame     = pd.read_csv(filepath)\n",
    "events    = [event for (_, event) in frame.groupby(\"event_id\", sort=False)]\n",
    "percent   = 0.8\n",
    "cutoff    = int(percent * len(events))\n",
    "train, test = events[:cutoff], events[cutoff:]\n",
    "print(\"Train is list of {} events.\".format(len(train)))\n",
    "print(\"Test is list of {} events.\".format(len(test)))\n",
    "print(\"Train takes up {} bytes.\".format(sys.getsizeof(train)))\n",
    "print(\"Test takes up {} bytes.\".format(sys.getsizeof(test)))\n",
    "if (not utils.is_prepared(train[0])) or (not utils.is_prepared(test[0])):\n",
    "    print(\"Warning: frame is not prepared.\")\n",
    "    print(\"Look at the prepare_frame() function in tracker/extractor.py\")\n",
    "else:\n",
    "    del events"
   ]
  },
  {
   "cell_type": "code",
   "execution_count": 3,
   "metadata": {
    "collapsed": true
   },
   "outputs": [],
   "source": [
    "order = [\"phi\", \"r\", \"z\"]"
   ]
  },
  {
   "cell_type": "markdown",
   "metadata": {},
   "source": [
    "### Get an idea for how the tracks are distributed among the events."
   ]
  },
  {
   "cell_type": "code",
   "execution_count": null,
   "metadata": {
    "collapsed": true,
    "scrolled": true
   },
   "outputs": [],
   "source": [
    "dist = metrics.distributions(pd.concat(train))\n",
    "for i in range(len(dist[0])):\n",
    "    print(\"There are {0} events with {1} tracks.\".format(dist[1][i], dist[0][i]))"
   ]
  },
  {
   "cell_type": "code",
   "execution_count": 4,
   "metadata": {
    "scrolled": true
   },
   "outputs": [
    {
     "ename": "NameError",
     "evalue": "name 'test' is not defined",
     "output_type": "error",
     "traceback": [
      "\u001b[0;31m---------------------------------------------------------------------------\u001b[0m",
      "\u001b[0;31mNameError\u001b[0m                                 Traceback (most recent call last)",
      "\u001b[0;32m<ipython-input-4-8105ea397467>\u001b[0m in \u001b[0;36m<module>\u001b[0;34m()\u001b[0m\n\u001b[0;32m----> 1\u001b[0;31m \u001b[0mdist\u001b[0m \u001b[0;34m=\u001b[0m \u001b[0mmetrics\u001b[0m\u001b[0;34m.\u001b[0m\u001b[0mdistributions\u001b[0m\u001b[0;34m(\u001b[0m\u001b[0mpd\u001b[0m\u001b[0;34m.\u001b[0m\u001b[0mconcat\u001b[0m\u001b[0;34m(\u001b[0m\u001b[0mtest\u001b[0m\u001b[0;34m)\u001b[0m\u001b[0;34m)\u001b[0m\u001b[0;34m\u001b[0m\u001b[0m\n\u001b[0m\u001b[1;32m      2\u001b[0m \u001b[0;32mfor\u001b[0m \u001b[0mi\u001b[0m \u001b[0;32min\u001b[0m \u001b[0mrange\u001b[0m\u001b[0;34m(\u001b[0m\u001b[0mlen\u001b[0m\u001b[0;34m(\u001b[0m\u001b[0mdist\u001b[0m\u001b[0;34m[\u001b[0m\u001b[0;36m0\u001b[0m\u001b[0;34m]\u001b[0m\u001b[0;34m)\u001b[0m\u001b[0;34m)\u001b[0m\u001b[0;34m:\u001b[0m\u001b[0;34m\u001b[0m\u001b[0m\n\u001b[1;32m      3\u001b[0m     \u001b[0mprint\u001b[0m\u001b[0;34m(\u001b[0m\u001b[0;34m\"There are {0} events with {1} tracks.\"\u001b[0m\u001b[0;34m.\u001b[0m\u001b[0mformat\u001b[0m\u001b[0;34m(\u001b[0m\u001b[0mdist\u001b[0m\u001b[0;34m[\u001b[0m\u001b[0;36m1\u001b[0m\u001b[0;34m]\u001b[0m\u001b[0;34m[\u001b[0m\u001b[0mi\u001b[0m\u001b[0;34m]\u001b[0m\u001b[0;34m,\u001b[0m \u001b[0mdist\u001b[0m\u001b[0;34m[\u001b[0m\u001b[0;36m0\u001b[0m\u001b[0;34m]\u001b[0m\u001b[0;34m[\u001b[0m\u001b[0mi\u001b[0m\u001b[0;34m]\u001b[0m\u001b[0;34m)\u001b[0m\u001b[0;34m)\u001b[0m\u001b[0;34m\u001b[0m\u001b[0m\n",
      "\u001b[0;31mNameError\u001b[0m: name 'test' is not defined"
     ]
    }
   ],
   "source": [
    "dist = metrics.distributions(pd.concat(test))\n",
    "for i in range(len(dist[0])):\n",
    "    print(\"There are {0} events with {1} tracks.\".format(dist[1][i], dist[0][i]))"
   ]
  },
  {
   "cell_type": "markdown",
   "metadata": {},
   "source": [
    "### Show an example of the data."
   ]
  },
  {
   "cell_type": "code",
   "execution_count": null,
   "metadata": {
    "scrolled": true
   },
   "outputs": [],
   "source": [
    "n = np.random.randint(len(train))\n",
    "print(\"Train {}\".format(n))\n",
    "print(\"Number of Hits: {}\".format(metrics.number_of_hits(train[n])))\n",
    "print(\"Number of Tracks: {}\".format(metrics.number_of_tracks(train[n])))\n",
    "visuals.Plot2D(train[n], order).plot(mode=\"zr\", title=\"Train {}\".format(n))\n",
    "visuals.Plot2D(train[n], order).plot(mode=\"xy\", title=\"Train {}\".format(n))"
   ]
  },
  {
   "cell_type": "code",
   "execution_count": null,
   "metadata": {},
   "outputs": [],
   "source": [
    "visuals.display(train[n], order)"
   ]
  },
  {
   "cell_type": "markdown",
   "metadata": {},
   "source": [
    "### Create the model."
   ]
  },
  {
   "cell_type": "code",
   "execution_count": 6,
   "metadata": {
    "collapsed": true
   },
   "outputs": [],
   "source": [
    "input_shape  = (200, 3)\n",
    "n_categories = 50 + 2\n",
    "optimizer    = keras.optimizers.RMSprop(lr=0.001)\n",
    "histories    = []"
   ]
  },
  {
   "cell_type": "code",
   "execution_count": null,
   "metadata": {},
   "outputs": [],
   "source": [
    "model = keras.models.load_model(modelpath)"
   ]
  },
  {
   "cell_type": "code",
   "execution_count": 8,
   "metadata": {},
   "outputs": [
    {
     "name": "stdout",
     "output_type": "stream",
     "text": [
      "_________________________________________________________________\n",
      "Layer (type)                 Output Shape              Param #   \n",
      "=================================================================\n",
      "bidirectional_1 (Bidirection (None, 200, 256)          399360    \n",
      "_________________________________________________________________\n",
      "dropout_1 (Dropout)          (None, 200, 256)          0         \n",
      "_________________________________________________________________\n",
      "bidirectional_2 (Bidirection (None, 200, 256)          787968    \n",
      "_________________________________________________________________\n",
      "dropout_2 (Dropout)          (None, 200, 256)          0         \n",
      "_________________________________________________________________\n",
      "bidirectional_3 (Bidirection (None, 200, 256)          787968    \n",
      "_________________________________________________________________\n",
      "dropout_3 (Dropout)          (None, 200, 256)          0         \n",
      "_________________________________________________________________\n",
      "time_distributed_1 (TimeDist (None, 200, 52)           13364     \n",
      "=================================================================\n",
      "Total params: 1,988,660\n",
      "Trainable params: 1,988,660\n",
      "Non-trainable params: 0\n",
      "_________________________________________________________________\n"
     ]
    }
   ],
   "source": [
    "model = Sequential()\n",
    "model.add(Bidirectional(\n",
    "    GRU(units=256, return_sequences=True, recurrent_dropout=1/2, implementation=2),\n",
    "    merge_mode=\"mul\",\n",
    "    input_shape=input_shape))\n",
    "model.add(Dropout(rate=1/2))\n",
    "model.add(Bidirectional(\n",
    "    GRU(units=256, return_sequences=True, recurrent_dropout=1/2, implementation=2),\n",
    "    merge_mode=\"mul\"))\n",
    "model.add(Dropout(rate=1/2))\n",
    "model.add(Bidirectional(\n",
    "    GRU(units=256, return_sequences=True, recurrent_dropout=1/2, implementation=2),\n",
    "    merge_mode=\"mul\"))\n",
    "model.add(Dropout(rate=1/2))\n",
    "model.add(TimeDistributed(Dense(units=n_categories, kernel_initializer=\"uniform\", activation=\"softmax\")))\n",
    "model.compile(loss='categorical_crossentropy', optimizer=optimizer, metrics=['accuracy'])\n",
    "model.summary()"
   ]
  },
  {
   "cell_type": "markdown",
   "metadata": {},
   "source": [
    "### Fit the model."
   ]
  },
  {
   "cell_type": "code",
   "execution_count": null,
   "metadata": {
    "scrolled": true
   },
   "outputs": [
    {
     "name": "stderr",
     "output_type": "stream",
     "text": [
      "WARNING (theano.configdefaults): install mkl with `conda install mkl-service`: No module named 'mkl'\n"
     ]
    },
    {
     "name": "stdout",
     "output_type": "stream",
     "text": [
      "Epoch 1/128\n",
      "1046/1046 [==============================] - 1116s - loss: 1.2599 - acc: 0.6502 - val_loss: 0.9899 - val_acc: 0.7079\n",
      "Epoch 2/128\n",
      "1046/1046 [==============================] - 1096s - loss: 1.0032 - acc: 0.7098 - val_loss: 0.8602 - val_acc: 0.7622\n",
      "Epoch 3/128\n",
      "1046/1046 [==============================] - 1085s - loss: 0.9124 - acc: 0.7448 - val_loss: 0.7989 - val_acc: 0.7803\n",
      "Epoch 4/128\n",
      "1046/1046 [==============================] - 1086s - loss: 0.8695 - acc: 0.7611 - val_loss: 0.7792 - val_acc: 0.7854\n",
      "Epoch 5/128\n",
      "1046/1046 [==============================] - 1104s - loss: 0.8468 - acc: 0.7681 - val_loss: 0.7653 - val_acc: 0.7889\n",
      "Epoch 6/128\n",
      "1046/1046 [==============================] - 1078s - loss: 0.8323 - acc: 0.7723 - val_loss: 0.7545 - val_acc: 0.7926\n",
      "Epoch 7/128\n",
      " 877/1046 [========================>.....] - ETA: 156s - loss: 0.8221 - acc: 0.7752"
     ]
    }
   ],
   "source": [
    "%%time\n",
    "epochs     = 128\n",
    "batch_size = 50\n",
    "histories.append(model.fit_generator(\n",
    "    ext.input_output_generator(train, batch_size, order),\n",
    "    steps_per_epoch=len(train) // batch_size,\n",
    "    epochs=epochs,\n",
    "    verbose=1,\n",
    "    validation_data=ext.input_output_generator(test, batch_size, order),\n",
    "    validation_steps=len(test) // batch_size,\n",
    "    callbacks=[\n",
    "        keras.callbacks.ModelCheckpoint(\n",
    "            filepath=modelpath,\n",
    "            save_best_only=True,\n",
    "            verbose=0,),\n",
    "        keras.callbacks.EarlyStopping(patience=10, verbose=1),\n",
    "        keras.callbacks.ReduceLROnPlateau(patience=5, verbose=1)]))"
   ]
  },
  {
   "cell_type": "markdown",
   "metadata": {},
   "source": [
    "### Display information about the model after fitting it."
   ]
  },
  {
   "cell_type": "code",
   "execution_count": null,
   "metadata": {},
   "outputs": [],
   "source": [
    "%%time\n",
    "test.sort(key=lambda x: x.iloc[0][\"event_id\"])\n",
    "guesses          = model.predict(ext.extract_input(test, order))\n",
    "hits_correct     = metrics.percent_of_hits_assigned_correctly(test, guesses=guesses, order=order)\n",
    "tracks_correct   = metrics.percent_of_tracks_assigned_correctly(test, guesses=guesses, order=order, percent=1.0)\n",
    "n_tracks_correct = metrics.percent_of_events_with_correct_number_of_tracks(test, guesses=guesses, order=order)\n",
    "print(\"Percent of hits assigned correctly: {}%\".format(hits_correct * 100))\n",
    "print(\"Percent of tracks assigned correctly: {}%\".format(tracks_correct * 100))\n",
    "print(\"Percent of events with the correct number of tracks: {}%\".format(n_tracks_correct * 100))"
   ]
  },
  {
   "cell_type": "markdown",
   "metadata": {},
   "source": [
    "### Display how one of the model's predictions looks."
   ]
  },
  {
   "cell_type": "code",
   "execution_count": null,
   "metadata": {
    "collapsed": true
   },
   "outputs": [],
   "source": [
    "%matplotlib notebook"
   ]
  },
  {
   "cell_type": "code",
   "execution_count": null,
   "metadata": {
    "scrolled": false
   },
   "outputs": [],
   "source": [
    "n  = np.random.randint(len(test))\n",
    "print(\"Percent of hits assigned correctly: {}%\".format(\n",
    "    metrics.percent_of_hits_assigned_correctly(test[n], guesses[n], order) * 100))\n",
    "print(\"Percent of tracks assigned correctly: {}%\".format(\n",
    "    metrics.percent_of_tracks_assigned_correctly(test[n], guesses[n], order) * 100))\n",
    "#_ = visuals.Plot2D(test[n], order, guesses[n]).plot(mode=\"zr\", title=\"Prediction {}\".format(n))\n",
    "#_ = visuals.Plot2D(test[n], order).plot(mode=\"zr\", title=\"Answer {}\".format(n))\n",
    "_ = visuals.Plot2D(test[n], order, guesses[n]).plot(mode=\"xy\", title=\"Prediction {}\".format(n))\n",
    "#_ = visuals.Plot2D(test[n], order).plot(mode=\"xy\", title=\"Answer {}\".format(n))"
   ]
  },
  {
   "cell_type": "code",
   "execution_count": null,
   "metadata": {
    "collapsed": true
   },
   "outputs": [],
   "source": [
    "visuals.display(test[n], order, guesses[n], mode=\"discrete pairs\")"
   ]
  },
  {
   "cell_type": "code",
   "execution_count": null,
   "metadata": {
    "scrolled": false
   },
   "outputs": [],
   "source": [
    "%%time\n",
    "n_tracks, accuracy = metrics.accuracy_vs_tracks(test, guesses, order)\n",
    "r = range(n_tracks.min(), n_tracks.max() + 1)\n",
    "boxes = [[] for _ in r]\n",
    "for i in range(len(n_tracks)):\n",
    "    boxes[n_tracks[i] - n_tracks.min()].append(accuracy[i])\n",
    "visuals.boxplot(boxes, \"ACTS-0N-SPLIT-80-20\", \"Number of Tracks\", \"Discrete Accuracy\", xticks=list(r))"
   ]
  },
  {
   "cell_type": "code",
   "execution_count": null,
   "metadata": {},
   "outputs": [],
   "source": [
    "%%time\n",
    "for percent in [0.3, 0.5, 0.75, 1.0]:\n",
    "    c_tracks = [metrics.percent_of_tracks_assigned_correctly(test[n], guesses[n], order, percent=percent)\n",
    "                for n in range(len(guesses))]\n",
    "    boxes = [[] for _ in r]\n",
    "    for i in range(len(c_tracks)):\n",
    "        index = metrics.number_of_tracks(test[i]) - 1\n",
    "        boxes[index].append(c_tracks[i])\n",
    "    visuals.boxplot(\n",
    "        boxes, \"ACTS-0N-SPLIT-80-20\", \"Number of Tracks\",\n",
    "        \"Percent of Tracks Correctly Assigned ({})\".format(percent), xticks=list(r))"
   ]
  },
  {
   "cell_type": "code",
   "execution_count": null,
   "metadata": {
    "collapsed": true
   },
   "outputs": [],
   "source": [
    "%%time\n",
    "thresholds = [i / 10 for i in range(11)]\n",
    "threshold_metrics = [[metrics.threshold_metrics(test[i], guesses[i], n, order)\n",
    "                      for i in range(len(guesses))] for n in thresholds]\n",
    "boxes_correct   = [[m[0] for m in metric] for metric in threshold_metrics]\n",
    "boxes_incorrect = [[m[1] for m in metric] for metric in threshold_metrics]\n",
    "boxes_multi     = [[m[2] for m in metric] for metric in threshold_metrics]\n",
    "boxes_none      = [[m[3] for m in metric] for metric in threshold_metrics]\n",
    "visuals.boxplot(\n",
    "    boxes_correct, \n",
    "    \"ACTS-0N-SPLIT-80-20\", \"Number of Tracks\", \"Prob[hit assigned to correct track]\", xticks=thresholds)\n",
    "visuals.boxplot(\n",
    "    boxes_incorrect, \n",
    "    \"ACTS-0N-SPLIT-80-20\", \"Number of Tracks\", \"Prob[hit assigned to an incorrect track]\", xticks=thresholds)\n",
    "visuals.boxplot(\n",
    "    boxes_multi, \n",
    "    \"ACTS-0N-SPLIT-80-20\", \"Number of Tracks\", \"Prob[hit assigned to multiple tracks]\", xticks=thresholds)\n",
    "visuals.boxplot(\n",
    "    boxes_none, \n",
    "    \"ACTS-0N-SPLIT-80-20\", \"Number of Tracks\", \"Prob[hit assigned to no tracks]\", xticks=thresholds)"
   ]
  },
  {
   "cell_type": "code",
   "execution_count": null,
   "metadata": {
    "collapsed": true
   },
   "outputs": [],
   "source": [
    "bad_tracks = []\n",
    "for i in range(len(test)):\n",
    "    if ext.extract_output(test[i], order)[0, 0] == 1:\n",
    "        bad_tracks.append(test[i])\n",
    "bad_guesses = model.predict(ext.extract_input(bad_tracks, order))\n",
    "print(metrics.percent_of_hits_assigned_correctly(bad_tracks, bad_guesses, order))"
   ]
  },
  {
   "cell_type": "code",
   "execution_count": null,
   "metadata": {},
   "outputs": [],
   "source": [
    "importlib.reload(metrics)"
   ]
  },
  {
   "cell_type": "code",
   "execution_count": null,
   "metadata": {},
   "outputs": [],
   "source": [
    "print(min([event[\"momentum\"].min() for event in test]))\n",
    "print(max([event[\"momentum\"].max() for event in test]))"
   ]
  },
  {
   "cell_type": "code",
   "execution_count": null,
   "metadata": {},
   "outputs": [],
   "source": [
    "%%time\n",
    "momentums = [1 + 1/8, 1 + 1/4, 1 + 1/2, 2, 4, 8, 16, 32, 64, 128]\n",
    "momentums, momentum_acc = metrics.accuracy_vs_momentum(test, guesses, order, momentums)"
   ]
  },
  {
   "cell_type": "code",
   "execution_count": null,
   "metadata": {
    "collapsed": true
   },
   "outputs": [],
   "source": [
    "%matplotlib inline\n",
    "import matplotlib.pyplot as plt\n",
    "import matplotlib"
   ]
  },
  {
   "cell_type": "code",
   "execution_count": null,
   "metadata": {},
   "outputs": [],
   "source": [
    "for acc in momentum_acc:\n",
    "    print(len([b for b in acc if b == 1]) / len(acc))"
   ]
  },
  {
   "cell_type": "code",
   "execution_count": null,
   "metadata": {},
   "outputs": [],
   "source": [
    "for i, momentum in enumerate(momentums):\n",
    "    accuracy = momentum_acc[i]\n",
    "    if accuracy:\n",
    "        plt.hist(accuracy, bins=5, range=(0, 1), align=\"mid\", edgecolor='black', linewidth=2, color='green')\n",
    "        plt.title(\"Momentum: {0} - {1}\".format(momentums[i-1] if i > 0 else 1, momentum))\n",
    "        plt.xlabel(\"Probability that hit within track was correctly classified\")\n",
    "        plt.ylabel(\"Tracks with this momentum\")\n",
    "        plt.grid(True)\n",
    "        plt.show()"
   ]
  },
  {
   "cell_type": "code",
   "execution_count": null,
   "metadata": {},
   "outputs": [],
   "source": [
    "%matplotlib notebook\n",
    "visuals.boxplot(\n",
    "    data   = momentum_acc.tolist(),\n",
    "    fliers = True,\n",
    "    ylabel = \"Probability\",\n",
    "    xlabel = \"Momentum\",\n",
    "    title  = \"Prob[Hit within track belongs to track] vs Momentum\",\n",
    "    xticks = momentums\n",
    ")"
   ]
  },
  {
   "cell_type": "code",
   "execution_count": null,
   "metadata": {
    "scrolled": true
   },
   "outputs": [],
   "source": [
    "%%time\n",
    "bend_amounts = [i for i in range(0, 500, 25)]\n",
    "bends, acc = metrics.accuracy_vs_bend(test, guesses, order, bend_amounts)\n",
    "visuals.boxplot(\n",
    "    data   = acc.tolist(),\n",
    "    fliers = False,\n",
    "    ylabel = \"Probability\",\n",
    "    xlabel = \"Bending\",\n",
    "    title  = \"Prob[Hit within track belongs to track] vs Track Bend\",\n",
    "    xticks = bends\n",
    ")"
   ]
  },
  {
   "cell_type": "code",
   "execution_count": null,
   "metadata": {},
   "outputs": [],
   "source": [
    "print(len(test))"
   ]
  },
  {
   "cell_type": "code",
   "execution_count": null,
   "metadata": {
    "scrolled": true
   },
   "outputs": [],
   "source": [
    "%%time\n",
    "boxes = [[] for _ in range(30)]\n",
    "for i, event in enumerate(test):\n",
    "    crossings    = metrics.number_of_crossings(event)\n",
    "    hits_correct = metrics.percent_of_hits_assigned_correctly(event, guesses[i], order) \n",
    "    boxes[crossings].append(hits_correct)\n",
    "visuals.boxplot(\n",
    "    data   = boxes,\n",
    "    fliers =False,\n",
    "    ylabel = \"Probability\",\n",
    "    xlabel = \"Crosses\",\n",
    "    title  = \"Prob[Hit belongs to right track in event] vs Number of Crossings\",\n",
    "    xticks = [i for i in range(len(boxes))]\n",
    ")"
   ]
  }
 ],
 "metadata": {
  "kernelspec": {
   "display_name": "Python 3",
   "language": "python",
   "name": "python3"
  },
  "language_info": {
   "codemirror_mode": {
    "name": "ipython",
    "version": 3
   },
   "file_extension": ".py",
   "mimetype": "text/x-python",
   "name": "python",
   "nbconvert_exporter": "python",
   "pygments_lexer": "ipython3",
   "version": "3.5.2"
  }
 },
 "nbformat": 4,
 "nbformat_minor": 2
}
