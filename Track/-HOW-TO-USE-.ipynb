{
 "cells": [
  {
   "cell_type": "markdown",
   "metadata": {},
   "source": [
    "### 1.) Import the necessary modules."
   ]
  },
  {
   "cell_type": "code",
   "execution_count": 2,
   "metadata": {},
   "outputs": [],
   "source": [
    "import os\n",
    "os.environ[\"CUDA_VISIBLE_DEVICES\"] = \"6\"\n",
    "%matplotlib notebook\n",
    "import numpy as np\n",
    "import pandas as pd\n",
    "import keras\n",
    "from keras.layers import Dense\n",
    "from keras.models import Sequential\n",
    "from tracker import extractor, utils, metrics, visuals"
   ]
  },
  {
   "cell_type": "markdown",
   "metadata": {},
   "source": [
    "### 2.) Load in and prepare a frame of data."
   ]
  },
  {
   "cell_type": "code",
   "execution_count": null,
   "metadata": {
    "collapsed": true
   },
   "outputs": [],
   "source": [
    "your_frame_filepath = \"this_is_where_my_data_is.csv\"\n",
    "your_frame = pd.read_csv(your_frame_filepath)\n",
    "\n",
    "print(\"Preparing the frame. This may take a little while.\")\n",
    "prepared_frame = extractor.prepare_frame(\n",
    "    frame   = your_frame,\n",
    "    n_track = 25,   # Maximum number of regular tracks per event.\n",
    "    n_rows  = 260,  # Maximum number of regular hits plus number of noisy hits per event.\n",
    "    n_noise = 10,   # Number of noisy hits to add to each event.\n",
    ")\n",
    "\n",
    "print(\"Saving the frame. This may take a little while.\")\n",
    "save_filepath = \"i_will_save_my_new_frame_here.gz\"\n",
    "prepared_frame.to_csv(save_filepath, compression=\"gzip\")\n",
    "\n",
    "print(\"All done.\")"
   ]
  },
  {
   "cell_type": "markdown",
   "metadata": {},
   "source": [
    "### 3.) Load in prepared training and testing data and get a list of events"
   ]
  },
  {
   "cell_type": "code",
   "execution_count": null,
   "metadata": {
    "collapsed": true
   },
   "outputs": [],
   "source": [
    "filepath_to_prepared_train_frame = \"here_is_my_prepared_training_frame.gz\"\n",
    "filepath_to_prepared_test_frame  = \"here_is_my_prepared_testing_frame.gz\"\n",
    "\n",
    "print(\"Loading in the frame. This may take a little while.\")\n",
    "train_frame = pd.read_csv(filepath_to_prepared_train_frame)\n",
    "test_frame  = pd.read_csv(filepath_to_prepared_test_frame)\n",
    "train = utils.list_of_groups(train_frame, group=\"event_id\")\n",
    "test  = utils.list_of_groups(test_Frame,  group=\"event_id\")\n",
    "\n",
    "print(\"Train is list of {0} events ({1} bytes).\".format(len(train), sys.getsizeof(train)))\n",
    "print(\"Test  is list of {0} events ({1} bytes).\".format(len(test),  sys.getsizeof(test)))\n",
    "\n",
    "if (not utils.is_prepared(train_frame)) or (not utils.is_prepared(test_frame)):\n",
    "    print(\"Warning: frame is not prepared.\")\n",
    "    print(\"Look at the prepare_frame() function in tracker/extractor.py\")\n",
    "else:\n",
    "    del train_frame # To save on memory space.\n",
    "    del test_frame  # To save on memory space."
   ]
  },
  {
   "cell_type": "markdown",
   "metadata": {},
   "source": [
    "### 4.) Specify how input is sorted before being put into the model."
   ]
  },
  {
   "cell_type": "code",
   "execution_count": null,
   "metadata": {
    "collapsed": true
   },
   "outputs": [],
   "source": [
    "# Sort by order[0] first. Then by order[1]. Finally, by order[2].\n",
    "order = [\"phi\", \"r\", \"z\"]"
   ]
  },
  {
   "cell_type": "markdown",
   "metadata": {},
   "source": [
    "### 5.) Show an example of the data that was loaded in."
   ]
  },
  {
   "cell_type": "code",
   "execution_count": null,
   "metadata": {
    "collapsed": true
   },
   "outputs": [],
   "source": [
    "n = np.random.randint(len(train))\n",
    "print(\"Train {}\".format(n))\n",
    "print(\"Number of Hits: {}\".format(metrics.number_of_hits(train[n])))\n",
    "print(\"Number of Tracks: {}\".format(metrics.number_of_tracks(train[n])))\n",
    "visuals.Plot2D(train[n], order).plot(mode=\"zr\", title=\"Train {}\".format(n))\n",
    "visuals.Plot2D(train[n], order).plot(mode=\"xy\", title=\"Train {}\".format(n))"
   ]
  },
  {
   "cell_type": "code",
   "execution_count": null,
   "metadata": {
    "collapsed": true
   },
   "outputs": [],
   "source": [
    "visuals.display(train[n], order)"
   ]
  },
  {
   "cell_type": "markdown",
   "metadata": {},
   "source": [
    "### 6.) Create a model."
   ]
  },
  {
   "cell_type": "code",
   "execution_count": null,
   "metadata": {
    "collapsed": true
   },
   "outputs": [],
   "source": [
    "modelpath    = \"where_my_model_will_be_stored.h5\"\n",
    "input_shape  = (260, 3)  # Shape is (Max number of rows, 3).\n",
    "n_categories = 25 + 2  # Number of categories. Includes noise & padding categories.\n",
    "optimizer    = keras.optimizers.RMSprop(lr=0.001)\n",
    "histories    = []  # Where training history is stored."
   ]
  },
  {
   "cell_type": "code",
   "execution_count": null,
   "metadata": {
    "collapsed": true
   },
   "outputs": [],
   "source": [
    "# If you want to load a model, run this cell.\n",
    "# Otherwise, do not run this cell.\n",
    "model = keras.models.load_model(modelpath)"
   ]
  },
  {
   "cell_type": "code",
   "execution_count": null,
   "metadata": {
    "collapsed": true
   },
   "outputs": [],
   "source": [
    "# This model is very simple. It is not complex enough to assign hits to tracks well.\n",
    "model = Sequential()\n",
    "\n",
    "model.add(Dense(units=256, input_shape=input_shape))\n",
    "model.add(Dense(units=n_categories, kernel_initializer=\"uniform\", activation=\"softmax\"))\n",
    "\n",
    "model.compile(loss='categorical_crossentropy', optimizer=optimizer, metrics=['accuracy'])\n",
    "model.summary()"
   ]
  },
  {
   "cell_type": "markdown",
   "metadata": {},
   "source": [
    "### 7.) Fit the model with the training data."
   ]
  },
  {
   "cell_type": "code",
   "execution_count": null,
   "metadata": {
    "collapsed": true
   },
   "outputs": [],
   "source": [
    "epochs     = 30\n",
    "batch_size = 100\n",
    "histories.append(model.fit_generator(\n",
    "    extractor.input_output_generator(train, batch_size, order),\n",
    "    steps_per_epoch=len(train) // batch_size,\n",
    "    epochs=epochs,\n",
    "    verbose=1,\n",
    "    validation_data=extractor.input_output_generator(test, batch_size, order),\n",
    "    validation_steps=len(test) // batch_size,\n",
    "    callbacks=[\n",
    "        keras.callbacks.ModelCheckpoint(\n",
    "            filepath=modelpath,\n",
    "            save_best_only=True,\n",
    "            verbose=0,),\n",
    "        keras.callbacks.EarlyStopping(patience=10, verbose=1),\n",
    "        keras.callbacks.ReduceLROnPlateau(patience=5, verbose=1)]))"
   ]
  },
  {
   "cell_type": "markdown",
   "metadata": {},
   "source": [
    "### 8.) Use some metrics to get general information about the trained model."
   ]
  },
  {
   "cell_type": "code",
   "execution_count": null,
   "metadata": {
    "collapsed": true
   },
   "outputs": [],
   "source": [
    "test.sort(key=lambda x: x.iloc[0][\"event_id\"])\n",
    "guesses = model.predict(ext.extract_input(test, order))"
   ]
  },
  {
   "cell_type": "code",
   "execution_count": null,
   "metadata": {
    "collapsed": true
   },
   "outputs": [],
   "source": [
    "hits_correct     = metrics.percent_of_hits_assigned_correctly(test, guesses=guesses, order=order)\n",
    "tracks_correct   = metrics.percent_of_tracks_assigned_correctly(test, guesses=guesses, order=order, percent=1.0)\n",
    "n_tracks_correct = metrics.percent_of_events_with_correct_number_of_tracks(test, guesses=guesses, order=order)\n",
    "print(\"Percent of hits assigned correctly: {}%\".format(hits_correct * 100))\n",
    "print(\"Percent of tracks assigned correctly: {}%\".format(tracks_correct * 100))\n",
    "print(\"Percent of events with the correct number of tracks: {}%\".format(n_tracks_correct * 100))"
   ]
  },
  {
   "cell_type": "markdown",
   "metadata": {},
   "source": [
    "### 9.) Graph a model's prediction."
   ]
  },
  {
   "cell_type": "code",
   "execution_count": null,
   "metadata": {
    "collapsed": true
   },
   "outputs": [],
   "source": [
    "n  = 3138  # The event number.\n",
    "print(\"Percent of hits assigned correctly: {}%\".format(\n",
    "    metrics.percent_of_hits_assigned_correctly(test[n], guesses[n], order) * 100))\n",
    "print(\"Percent of tracks assigned correctly: {}%\".format(\n",
    "    metrics.percent_of_tracks_assigned_correctly(test[n], guesses[n], order) * 100))\n",
    "_ = visuals.Plot2D(test[n], order, guesses[n]).plot(mode=\"zr\", title=\"Prediction {}\".format(n))\n",
    "_ = visuals.Plot2D(test[n], order).plot(mode=\"zr\", title=\"Answer {}\".format(n))\n",
    "_ = visuals.Plot2D(test[n], order, guesses[n]).plot(mode=\"xy\", title=\"Prediction {}\".format(n))\n",
    "_ = visuals.Plot2D(test[n], order).plot(mode=\"xy\", title=\"Answer {}\".format(n))"
   ]
  },
  {
   "cell_type": "markdown",
   "metadata": {},
   "source": [
    "### 10.) Display Number of Tracks vs. Discrete Accuracy."
   ]
  },
  {
   "cell_type": "code",
   "execution_count": null,
   "metadata": {
    "collapsed": true
   },
   "outputs": [],
   "source": [
    "%%time\n",
    "n_tracks, accuracy = metrics.accuracy_vs_tracks(test, guesses, order)\n",
    "r = range(n_tracks.min(), n_tracks.max() + 1)\n",
    "boxes = [[] for _ in r]\n",
    "for i in range(len(n_tracks)):\n",
    "    boxes[n_tracks[i] - n_tracks.min()].append(accuracy[i])\n",
    "visuals.boxplot(boxes, \"UNIF-10N-25T-25000E\", \"Number of Tracks\", \"Discrete Accuracy\", xticks=list(r))"
   ]
  }
 ],
 "metadata": {
  "kernelspec": {
   "display_name": "Python 3",
   "language": "python",
   "name": "python3"
  },
  "language_info": {
   "codemirror_mode": {
    "name": "ipython",
    "version": 3
   },
   "file_extension": ".py",
   "mimetype": "text/x-python",
   "name": "python",
   "nbconvert_exporter": "python",
   "pygments_lexer": "ipython3",
   "version": "3.5.2"
  }
 },
 "nbformat": 4,
 "nbformat_minor": 2
}
