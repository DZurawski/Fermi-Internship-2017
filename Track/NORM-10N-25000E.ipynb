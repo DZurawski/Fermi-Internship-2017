{
 "cells": [
  {
   "cell_type": "markdown",
   "metadata": {},
   "source": [
    "# Training on 25,000 events. Testing on the RAMP set."
   ]
  },
  {
   "cell_type": "code",
   "execution_count": 1,
   "metadata": {
    "scrolled": true
   },
   "outputs": [
    {
     "name": "stdout",
     "output_type": "stream",
     "text": [
      "Wed Aug 30 03:49:27 2017       \n",
      "+-----------------------------------------------------------------------------+\n",
      "| NVIDIA-SMI 375.66                 Driver Version: 375.66                    |\n",
      "|-------------------------------+----------------------+----------------------+\n",
      "| GPU  Name        Persistence-M| Bus-Id        Disp.A | Volatile Uncorr. ECC |\n",
      "| Fan  Temp  Perf  Pwr:Usage/Cap|         Memory-Usage | GPU-Util  Compute M. |\n",
      "|===============================+======================+======================|\n",
      "|   0  GeForce GTX 1080    Off  | 0000:04:00.0     Off |                  N/A |\n",
      "| 27%   35C    P2    37W / 180W |    617MiB /  8114MiB |      0%      Default |\n",
      "+-------------------------------+----------------------+----------------------+\n",
      "|   1  GeForce GTX 1080    Off  | 0000:05:00.0     Off |                  N/A |\n",
      "| 27%   34C    P8     9W / 180W |   5637MiB /  8114MiB |      0%      Default |\n",
      "+-------------------------------+----------------------+----------------------+\n",
      "|   2  GeForce GTX 1080    Off  | 0000:06:00.0     Off |                  N/A |\n",
      "| 27%   32C    P8     9W / 180W |    557MiB /  8114MiB |      0%      Default |\n",
      "+-------------------------------+----------------------+----------------------+\n",
      "|   3  GeForce GTX 1080    Off  | 0000:07:00.0     Off |                  N/A |\n",
      "| 27%   32C    P8     9W / 180W |    557MiB /  8114MiB |      0%      Default |\n",
      "+-------------------------------+----------------------+----------------------+\n",
      "|   4  GeForce GTX 1080    Off  | 0000:0B:00.0     Off |                  N/A |\n",
      "| 27%   33C    P8    10W / 180W |      2MiB /  8114MiB |      0%      Default |\n",
      "+-------------------------------+----------------------+----------------------+\n",
      "|   5  GeForce GTX 1080    Off  | 0000:0C:00.0     Off |                  N/A |\n",
      "| 27%   36C    P8     9W / 180W |   7822MiB /  8114MiB |      0%      Default |\n",
      "+-------------------------------+----------------------+----------------------+\n",
      "|   6  GeForce GTX 1080    Off  | 0000:0D:00.0     Off |                  N/A |\n",
      "| 27%   35C    P8    10W / 180W |      2MiB /  8114MiB |      0%      Default |\n",
      "+-------------------------------+----------------------+----------------------+\n",
      "|   7  GeForce GTX 1080    Off  | 0000:0E:00.0     Off |                  N/A |\n",
      "| 27%   33C    P8    10W / 180W |    313MiB /  8114MiB |      0%      Default |\n",
      "+-------------------------------+----------------------+----------------------+\n",
      "                                                                               \n",
      "+-----------------------------------------------------------------------------+\n",
      "| Processes:                                                       GPU Memory |\n",
      "|  GPU       PID  Type  Process name                               Usage      |\n",
      "|=============================================================================|\n",
      "+-----------------------------------------------------------------------------+\n"
     ]
    }
   ],
   "source": [
    "!nvidia-smi"
   ]
  },
  {
   "cell_type": "code",
   "execution_count": 2,
   "metadata": {},
   "outputs": [
    {
     "name": "stderr",
     "output_type": "stream",
     "text": [
      "Using Theano backend.\n",
      "Using cuDNN version 5110 on context None\n",
      "Mapped name None to device cuda: GeForce GTX 1080 (0000:0E:00.0)\n"
     ]
    }
   ],
   "source": [
    "import os\n",
    "os.environ[\"CUDA_VISIBLE_DEVICES\"] = \"7\"\n",
    "%matplotlib notebook\n",
    "import importlib\n",
    "import numpy as np\n",
    "import pandas as pd\n",
    "import keras\n",
    "from keras.layers import TimeDistributed, Dense, Dropout, GRU, Bidirectional\n",
    "from keras.models import Sequential\n",
    "from tracker import extractor as ext, utils, metrics, visuals"
   ]
  },
  {
   "cell_type": "markdown",
   "metadata": {},
   "source": [
    "### Load in the data."
   ]
  },
  {
   "cell_type": "code",
   "execution_count": 3,
   "metadata": {},
   "outputs": [
    {
     "name": "stdout",
     "output_type": "stream",
     "text": [
      "Train is list of 25000 events.\n",
      "Test is list of 3600 events.\n",
      "CPU times: user 10.4 s, sys: 2.31 s, total: 12.7 s\n",
      "Wall time: 12.7 s\n"
     ]
    }
   ],
   "source": [
    "%%time\n",
    "modelpath   = \"data/models/NORM-10N-25T-235R.h5\"\n",
    "trainpath   = \"data/sets/NORM-10N-25T-25000E-235R.gz\"\n",
    "testpath    = \"data/sets/RAMP-10N-25T-3600E-235R.gz\"\n",
    "train_frame = pd.read_csv(trainpath)\n",
    "test_frame  = pd.read_csv(testpath)\n",
    "train       = utils.list_of_groups(train_frame, group=\"event_id\")\n",
    "test        = utils.list_of_groups(test_frame,  group=\"event_id\")\n",
    "print(\"Train is list of {} events.\".format(len(train)))\n",
    "print(\"Test is list of {} events.\".format(len(test)))\n",
    "if (not utils.is_prepared(train_frame)) or (not utils.is_prepared(test_frame)):\n",
    "    print(\"Warning: frame is not prepared.\")\n",
    "    print(\"Look at the prepare_frame() function in tracker/extractor.py\")\n",
    "else:\n",
    "    del train_frame\n",
    "    del test_frame # To save on memory space."
   ]
  },
  {
   "cell_type": "code",
   "execution_count": 4,
   "metadata": {
    "collapsed": true
   },
   "outputs": [],
   "source": [
    "order = [\"phi\", \"r\", \"z\"]"
   ]
  },
  {
   "cell_type": "markdown",
   "metadata": {},
   "source": [
    "### Show an example of the data."
   ]
  },
  {
   "cell_type": "code",
   "execution_count": null,
   "metadata": {
    "scrolled": true
   },
   "outputs": [],
   "source": [
    "n = 8881 #np.random.randint(len(train))\n",
    "print(\"Train {}\".format(n))\n",
    "print(\"Number of Hits: {}\".format(metrics.number_of_hits(train[n])))\n",
    "print(\"Number of Tracks: {}\".format(metrics.number_of_tracks(train[n])))\n",
    "visuals.Plot2D(train[n], order).plot(mode=\"xy\", title=\"Train {}\".format(n))"
   ]
  },
  {
   "cell_type": "code",
   "execution_count": null,
   "metadata": {
    "scrolled": true
   },
   "outputs": [],
   "source": [
    "print(n)\n",
    "visuals.display(train[n], order)"
   ]
  },
  {
   "cell_type": "markdown",
   "metadata": {},
   "source": [
    "### Create the model."
   ]
  },
  {
   "cell_type": "code",
   "execution_count": 8,
   "metadata": {
    "collapsed": true
   },
   "outputs": [],
   "source": [
    "input_shape  = (235, 3)\n",
    "n_categories = 25 + 2\n",
    "optimizer    = keras.optimizers.RMSprop(lr=0.001)\n",
    "histories    = []"
   ]
  },
  {
   "cell_type": "code",
   "execution_count": 5,
   "metadata": {},
   "outputs": [
    {
     "name": "stderr",
     "output_type": "stream",
     "text": [
      "WARNING (theano.configdefaults): install mkl with `conda install mkl-service`: No module named 'mkl'\n"
     ]
    }
   ],
   "source": [
    "# If you have already created a model, run this cell to load the model.\n",
    "# Else, just run the cell below this cell.\n",
    "model = keras.models.load_model(modelpath)"
   ]
  },
  {
   "cell_type": "code",
   "execution_count": null,
   "metadata": {},
   "outputs": [],
   "source": [
    "model = Sequential()\n",
    "model.add(Bidirectional(\n",
    "    GRU(units=256, return_sequences=True, recurrent_dropout=1/2, implementation=2),\n",
    "    merge_mode=\"mul\",\n",
    "    input_shape=input_shape))\n",
    "model.add(Dropout(rate=1/2))\n",
    "model.add(Bidirectional(\n",
    "    GRU(units=256, return_sequences=True, recurrent_dropout=1/2, implementation=2),\n",
    "    merge_mode=\"mul\"))\n",
    "model.add(Dropout(rate=1/2))\n",
    "model.add(Bidirectional(\n",
    "    GRU(units=256, return_sequences=True, recurrent_dropout=1/2, implementation=2),\n",
    "    merge_mode=\"mul\"))\n",
    "model.add(Dropout(rate=1/2))\n",
    "model.add(TimeDistributed(Dense(units=n_categories, kernel_initializer=\"uniform\", activation=\"softmax\")))\n",
    "model.compile(loss='categorical_crossentropy', optimizer=optimizer, metrics=['accuracy'])\n",
    "model.summary()"
   ]
  },
  {
   "cell_type": "markdown",
   "metadata": {},
   "source": [
    "### Fit the model."
   ]
  },
  {
   "cell_type": "code",
   "execution_count": 9,
   "metadata": {
    "scrolled": true
   },
   "outputs": [
    {
     "name": "stdout",
     "output_type": "stream",
     "text": [
      "Epoch 1/128\n",
      "250/250 [==============================] - 371s - loss: 0.6141 - acc: 0.7739 - val_loss: 0.2840 - val_acc: 0.9046\n",
      "Epoch 2/128\n",
      "250/250 [==============================] - 355s - loss: 0.5941 - acc: 0.7833 - val_loss: 0.2721 - val_acc: 0.9106\n",
      "Epoch 3/128\n",
      "250/250 [==============================] - 354s - loss: 0.5733 - acc: 0.7943 - val_loss: 0.2689 - val_acc: 0.9124\n",
      "Epoch 4/128\n",
      "250/250 [==============================] - 354s - loss: 0.5534 - acc: 0.8041 - val_loss: 0.2619 - val_acc: 0.9157\n",
      "Epoch 5/128\n",
      "250/250 [==============================] - 354s - loss: 0.5444 - acc: 0.8083 - val_loss: 0.2558 - val_acc: 0.9186\n",
      "Epoch 6/128\n",
      "250/250 [==============================] - 354s - loss: 0.5318 - acc: 0.8148 - val_loss: 0.2523 - val_acc: 0.9205\n",
      "Epoch 7/128\n",
      "250/250 [==============================] - 355s - loss: 0.5204 - acc: 0.8202 - val_loss: 0.2566 - val_acc: 0.9178\n",
      "Epoch 8/128\n",
      "250/250 [==============================] - 354s - loss: 0.5116 - acc: 0.8246 - val_loss: 0.2518 - val_acc: 0.9211\n",
      "Epoch 9/128\n",
      "250/250 [==============================] - 354s - loss: 0.5030 - acc: 0.8287 - val_loss: 0.2442 - val_acc: 0.9238\n",
      "Epoch 10/128\n",
      "250/250 [==============================] - 353s - loss: 0.5001 - acc: 0.8302 - val_loss: 0.2463 - val_acc: 0.9223\n",
      "Epoch 11/128\n",
      "250/250 [==============================] - 354s - loss: 0.4883 - acc: 0.8350 - val_loss: 0.2462 - val_acc: 0.9227\n",
      "Epoch 12/128\n",
      "250/250 [==============================] - 353s - loss: 0.4792 - acc: 0.8397 - val_loss: 0.2368 - val_acc: 0.9254\n",
      "Epoch 13/128\n",
      "250/250 [==============================] - 353s - loss: 0.4717 - acc: 0.8430 - val_loss: 0.2342 - val_acc: 0.9269\n",
      "Epoch 14/128\n",
      "250/250 [==============================] - 354s - loss: 0.4661 - acc: 0.8454 - val_loss: 0.2376 - val_acc: 0.9270\n",
      "Epoch 15/128\n",
      "250/250 [==============================] - 354s - loss: 0.4610 - acc: 0.8474 - val_loss: 0.2280 - val_acc: 0.9303\n",
      "Epoch 16/128\n",
      "250/250 [==============================] - 353s - loss: 0.4577 - acc: 0.8493 - val_loss: 0.2308 - val_acc: 0.9302\n",
      "Epoch 17/128\n",
      "250/250 [==============================] - 354s - loss: 0.4506 - acc: 0.8527 - val_loss: 0.2342 - val_acc: 0.9297\n",
      "Epoch 18/128\n",
      "250/250 [==============================] - 354s - loss: 0.4487 - acc: 0.8537 - val_loss: 0.2240 - val_acc: 0.9313\n",
      "Epoch 19/128\n",
      "250/250 [==============================] - 354s - loss: 0.4443 - acc: 0.8554 - val_loss: 0.2236 - val_acc: 0.9315\n",
      "Epoch 20/128\n",
      "250/250 [==============================] - 353s - loss: 0.4394 - acc: 0.8581 - val_loss: 0.2323 - val_acc: 0.9302\n",
      "Epoch 21/128\n",
      "250/250 [==============================] - 353s - loss: 0.4312 - acc: 0.8613 - val_loss: 0.2189 - val_acc: 0.9348\n",
      "Epoch 22/128\n",
      "250/250 [==============================] - 353s - loss: 0.4319 - acc: 0.8611 - val_loss: 0.2138 - val_acc: 0.9357\n",
      "Epoch 23/128\n",
      "250/250 [==============================] - 352s - loss: 0.4248 - acc: 0.8639 - val_loss: 0.2161 - val_acc: 0.9350\n",
      "Epoch 24/128\n",
      "250/250 [==============================] - 352s - loss: 0.4210 - acc: 0.8654 - val_loss: 0.2238 - val_acc: 0.9341\n",
      "Epoch 25/128\n",
      "250/250 [==============================] - 352s - loss: 0.4194 - acc: 0.8666 - val_loss: 0.2168 - val_acc: 0.9351\n",
      "Epoch 26/128\n",
      "249/250 [============================>.] - ETA: 1s - loss: 0.4200 - acc: 0.8663\n",
      "Epoch 00025: reducing learning rate to 0.00010000000474974513.\n",
      "250/250 [==============================] - 352s - loss: 0.4199 - acc: 0.8663 - val_loss: 0.2264 - val_acc: 0.9338\n",
      "Epoch 27/128\n",
      "250/250 [==============================] - 353s - loss: 0.3995 - acc: 0.8740 - val_loss: 0.2120 - val_acc: 0.9374\n",
      "Epoch 28/128\n",
      "250/250 [==============================] - 355s - loss: 0.3939 - acc: 0.8759 - val_loss: 0.2039 - val_acc: 0.9402\n",
      "Epoch 29/128\n",
      "250/250 [==============================] - 353s - loss: 0.3888 - acc: 0.8774 - val_loss: 0.2057 - val_acc: 0.9396\n",
      "Epoch 30/128\n",
      "250/250 [==============================] - 354s - loss: 0.3860 - acc: 0.8783 - val_loss: 0.2112 - val_acc: 0.9383\n",
      "Epoch 31/128\n",
      "250/250 [==============================] - 353s - loss: 0.3847 - acc: 0.8786 - val_loss: 0.2073 - val_acc: 0.9394\n",
      "Epoch 32/128\n",
      "249/250 [============================>.] - ETA: 1s - loss: 0.3838 - acc: 0.8791\n",
      "Epoch 00031: reducing learning rate to 1.0000000474974514e-05.\n",
      "250/250 [==============================] - 354s - loss: 0.3839 - acc: 0.8791 - val_loss: 0.2090 - val_acc: 0.9392\n",
      "Epoch 33/128\n",
      "250/250 [==============================] - 353s - loss: 0.3832 - acc: 0.8794 - val_loss: 0.2042 - val_acc: 0.9404\n",
      "Epoch 34/128\n",
      "250/250 [==============================] - 353s - loss: 0.3824 - acc: 0.8799 - val_loss: 0.2063 - val_acc: 0.9397\n",
      "Epoch 00033: early stopping\n",
      "CPU times: user 3h 23min 30s, sys: 2min 58s, total: 3h 26min 28s\n",
      "Wall time: 3h 21min 12s\n"
     ]
    }
   ],
   "source": [
    "%%time\n",
    "# Current model has been trained on 68 epochs before early stopping.\n",
    "epochs     = 128\n",
    "batch_size = 100\n",
    "histories.append(model.fit_generator(\n",
    "    ext.input_output_generator(train, batch_size, order),\n",
    "    steps_per_epoch=len(train) // batch_size,\n",
    "    epochs=epochs,\n",
    "    verbose=1,\n",
    "    validation_data=ext.input_output_generator(test, batch_size, order),\n",
    "    validation_steps=len(test) // batch_size,\n",
    "    callbacks=[\n",
    "        keras.callbacks.ModelCheckpoint(\n",
    "            filepath=modelpath,\n",
    "            save_best_only=True,\n",
    "            verbose=0,),\n",
    "        keras.callbacks.EarlyStopping(patience=5, verbose=1),\n",
    "        keras.callbacks.ReduceLROnPlateau(patience=3, verbose=1)]))"
   ]
  },
  {
   "cell_type": "markdown",
   "metadata": {},
   "source": [
    "### Display information about the model after fitting it."
   ]
  },
  {
   "cell_type": "code",
   "execution_count": null,
   "metadata": {
    "collapsed": true
   },
   "outputs": [],
   "source": [
    "%%time\n",
    "test.sort(key=lambda x: x.iloc[0][\"event_id\"])\n",
    "guesses          = model.predict(ext.extract_input(test, order))\n",
    "hits_correct     = metrics.percent_of_hits_assigned_correctly(test, guesses=guesses, order=order)\n",
    "tracks_correct   = metrics.percent_of_tracks_assigned_correctly(test, guesses=guesses, order=order, percent=1.0)\n",
    "n_tracks_correct = metrics.percent_of_events_with_correct_number_of_tracks(test, guesses=guesses, order=order)\n",
    "print(\"Percent of hits assigned correctly: {}%\".format(hits_correct * 100))\n",
    "print(\"Percent of tracks assigned correctly: {}%\".format(tracks_correct * 100))\n",
    "print(\"Percent of events with the correct number of tracks: {}%\".format(n_tracks_correct * 100))"
   ]
  },
  {
   "cell_type": "markdown",
   "metadata": {},
   "source": [
    "### Display how one of the model's predictions looks."
   ]
  },
  {
   "cell_type": "code",
   "execution_count": null,
   "metadata": {
    "collapsed": true
   },
   "outputs": [],
   "source": [
    "n = 10\n",
    "print(\"Percent of hits assigned correctly: {}%\".format(\n",
    "    metrics.percent_of_hits_assigned_correctly(test[n], guesses[n], order) * 100))\n",
    "print(\"Percent of tracks assigned correctly: {}%\".format(\n",
    "    metrics.percent_of_tracks_assigned_correctly(test[n], guesses[n], order) * 100))\n",
    "_ = visuals.Plot2D(test[n], order, guesses[n]).plot(mode=\"zr\")\n",
    "_ = visuals.Plot2D(test[n], order).plot(mode=\"xy\")"
   ]
  },
  {
   "cell_type": "code",
   "execution_count": null,
   "metadata": {
    "collapsed": true
   },
   "outputs": [],
   "source": [
    "d = visuals.Plot3D(test[n], order, guesses[n]).plot(title=\"Best Guess\")\n",
    "d = visuals.Plot3D(test[n], order).plot(title=\"Answer\")"
   ]
  },
  {
   "cell_type": "code",
   "execution_count": null,
   "metadata": {
    "collapsed": true
   },
   "outputs": [],
   "source": [
    "visuals.display(test[n], order, guesses[n], mode=\"discrete pairs\")"
   ]
  },
  {
   "cell_type": "markdown",
   "metadata": {},
   "source": [
    "### Display the graphs."
   ]
  },
  {
   "cell_type": "code",
   "execution_count": null,
   "metadata": {
    "collapsed": true
   },
   "outputs": [],
   "source": [
    "%%time\n",
    "n_tracks, accuracy = metrics.accuracy_vs_tracks(test, guesses, order)\n",
    "r = range(n_tracks.min(), n_tracks.max() + 1)\n",
    "boxes = [[] for _ in r]\n",
    "for i in range(len(n_tracks)):\n",
    "    boxes[n_tracks[i] - n_tracks.min()].append(accuracy[i])\n",
    "visuals.boxplot(boxes, \"Number of Tracks VS. Discrete Accuracy\", \"Number of Tracks\", \"Discrete Accuracy\", xticks=list(r))"
   ]
  }
 ],
 "metadata": {
  "kernelspec": {
   "display_name": "Python 3",
   "language": "python",
   "name": "python3"
  },
  "language_info": {
   "codemirror_mode": {
    "name": "ipython",
    "version": 3
   },
   "file_extension": ".py",
   "mimetype": "text/x-python",
   "name": "python",
   "nbconvert_exporter": "python",
   "pygments_lexer": "ipython3",
   "version": "3.5.2"
  }
 },
 "nbformat": 4,
 "nbformat_minor": 2
}
