{
 "cells": [
  {
   "cell_type": "code",
   "execution_count": 1,
   "metadata": {},
   "outputs": [
    {
     "name": "stdout",
     "output_type": "stream",
     "text": [
      "Tue Aug 15 23:14:46 2017       \n",
      "+-----------------------------------------------------------------------------+\n",
      "| NVIDIA-SMI 375.66                 Driver Version: 375.66                    |\n",
      "|-------------------------------+----------------------+----------------------+\n",
      "| GPU  Name        Persistence-M| Bus-Id        Disp.A | Volatile Uncorr. ECC |\n",
      "| Fan  Temp  Perf  Pwr:Usage/Cap|         Memory-Usage | GPU-Util  Compute M. |\n",
      "|===============================+======================+======================|\n",
      "|   0  GeForce GTX 1080    Off  | 0000:04:00.0     Off |                  N/A |\n",
      "| 27%   29C    P8     9W / 180W |   1355MiB /  8114MiB |      0%      Default |\n",
      "+-------------------------------+----------------------+----------------------+\n",
      "|   1  GeForce GTX 1080    Off  | 0000:05:00.0     Off |                  N/A |\n",
      "| 36%   53C    P2    51W / 180W |   7163MiB /  8114MiB |    100%      Default |\n",
      "+-------------------------------+----------------------+----------------------+\n",
      "|   2  GeForce GTX 1080    Off  | 0000:06:00.0     Off |                  N/A |\n",
      "| 27%   29C    P8     9W / 180W |      2MiB /  8114MiB |      0%      Default |\n",
      "+-------------------------------+----------------------+----------------------+\n",
      "|   3  GeForce GTX 1080    Off  | 0000:07:00.0     Off |                  N/A |\n",
      "| 27%   28C    P8     9W / 180W |    201MiB /  8114MiB |      0%      Default |\n",
      "+-------------------------------+----------------------+----------------------+\n",
      "|   4  GeForce GTX 1080    Off  | 0000:0B:00.0     Off |                  N/A |\n",
      "| 27%   30C    P8     9W / 180W |      2MiB /  8114MiB |      0%      Default |\n",
      "+-------------------------------+----------------------+----------------------+\n",
      "|   5  GeForce GTX 1080    Off  | 0000:0C:00.0     Off |                  N/A |\n",
      "| 27%   33C    P8     9W / 180W |    201MiB /  8114MiB |      0%      Default |\n",
      "+-------------------------------+----------------------+----------------------+\n",
      "|   6  GeForce GTX 1080    Off  | 0000:0D:00.0     Off |                  N/A |\n",
      "| 27%   31C    P8    10W / 180W |   7779MiB /  8114MiB |      0%      Default |\n",
      "+-------------------------------+----------------------+----------------------+\n",
      "|   7  GeForce GTX 1080    Off  | 0000:0E:00.0     Off |                  N/A |\n",
      "| 27%   30C    P8    10W / 180W |    313MiB /  8114MiB |      0%      Default |\n",
      "+-------------------------------+----------------------+----------------------+\n",
      "                                                                               \n",
      "+-----------------------------------------------------------------------------+\n",
      "| Processes:                                                       GPU Memory |\n",
      "|  GPU       PID  Type  Process name                               Usage      |\n",
      "|=============================================================================|\n",
      "+-----------------------------------------------------------------------------+\n"
     ]
    }
   ],
   "source": [
    "!nvidia-smi"
   ]
  },
  {
   "cell_type": "code",
   "execution_count": 2,
   "metadata": {},
   "outputs": [
    {
     "name": "stderr",
     "output_type": "stream",
     "text": [
      "Using Theano backend.\n",
      "Using cuDNN version 5110 on context None\n",
      "Mapped name None to device cuda: GeForce GTX 1080 (0000:0E:00.0)\n"
     ]
    }
   ],
   "source": [
    "import os\n",
    "os.environ[\"CUDA_VISIBLE_DEVICES\"] = \"7\"\n",
    "%matplotlib notebook\n",
    "import keras\n",
    "import pandas as pd\n",
    "import numpy as np\n",
    "from keras.preprocessing.sequence import pad_sequences\n",
    "from keras.layers import TimeDistributed, Dense, LSTM, Activation\n",
    "from keras.layers import Dropout, GRU, Bidirectional, Conv2D, Conv1D\n",
    "from keras.layers import MaxPooling1D\n",
    "from keras.layers.normalization import BatchNormalization\n",
    "from keras.regularizers import l2, l1\n",
    "from keras.models import Sequential\n",
    "from tracker3d import loader, utils, metrics"
   ]
  },
  {
   "cell_type": "code",
   "execution_count": 3,
   "metadata": {
    "collapsed": true
   },
   "outputs": [],
   "source": [
    "%%time\n",
    "order        = (\"r\", \"phi\", \"z\")\n",
    "code         = (order[0][0] + order[1][0] + order[2][0]).upper()\n",
    "n_noise      = 0\n",
    "num_classes  = (25 + 2)\n",
    "input_shape  = ((25 * 9), 3)\n",
    "load_file    = np.load(\"datasets/npz/UNIF-25T-1000E-{0}-{1}N.npz\".format(code, n_noise))\n",
    "train_data   = pad_sequences(load_file[\"arr_0\"], maxlen=input_shape[0], padding=\"post\", dtype=float)\n",
    "train_target = [utils.to_categorical(seq, num_classes) for seq in load_file[\"arr_1\"]]\n",
    "train_target = pad_sequences(train_target, maxlen=(9 * 25), padding=\"post\")\n",
    "opt          = \"rmsprop\"\n",
    "\n",
    "for matrix in train_target:\n",
    "    for row in matrix:\n",
    "        if row.sum() == 0:\n",
    "            row[-1] = 1"
   ]
  },
  {
   "cell_type": "code",
   "execution_count": null,
   "metadata": {
    "collapsed": true,
    "scrolled": true
   },
   "outputs": [],
   "source": [
    "utils.display_side_by_side(train_data[3], train_target[3], order=order)"
   ]
  },
  {
   "cell_type": "code",
   "execution_count": 5,
   "metadata": {},
   "outputs": [
    {
     "name": "stdout",
     "output_type": "stream",
     "text": [
      "_________________________________________________________________\n",
      "Layer (type)                 Output Shape              Param #   \n",
      "=================================================================\n",
      "bidirectional_3 (Bidirection (None, 225, 256)          399360    \n",
      "_________________________________________________________________\n",
      "dropout_3 (Dropout)          (None, 225, 256)          0         \n",
      "_________________________________________________________________\n",
      "bidirectional_4 (Bidirection (None, 225, 256)          787968    \n",
      "_________________________________________________________________\n",
      "dropout_4 (Dropout)          (None, 225, 256)          0         \n",
      "_________________________________________________________________\n",
      "time_distributed_1 (TimeDist (None, 225, 27)           6939      \n",
      "=================================================================\n",
      "Total params: 1,194,267\n",
      "Trainable params: 1,194,267\n",
      "Non-trainable params: 0\n",
      "_________________________________________________________________\n",
      "CPU times: user 4.2 s, sys: 15.5 s, total: 19.7 s\n",
      "Wall time: 2.54 s\n"
     ]
    }
   ],
   "source": [
    "%%time\n",
    "model = Sequential()\n",
    "model.add(Bidirectional(GRU(256, return_sequences=True, recurrent_dropout=0.4, implementation=2, activity_regularizer=l1(0.01)), input_shape=input_shape, merge_mode=\"mul\"))\n",
    "model.add(Dropout(0.4))\n",
    "model.add(Bidirectional(GRU(256, return_sequences=True, recurrent_dropout=0.4, implementation=2, activity_regularizer=l1(0.01)), merge_mode=\"mul\"))\n",
    "model.add(Dropout(0.4))\n",
    "model.add(TimeDistributed(Dense(num_classes, activation='softmax')))\n",
    "\n",
    "model.compile(loss='categorical_crossentropy', optimizer=opt, metrics=[\"accuracy\"])\n",
    "model.summary()"
   ]
  },
  {
   "cell_type": "code",
   "execution_count": 7,
   "metadata": {
    "scrolled": true
   },
   "outputs": [
    {
     "name": "stderr",
     "output_type": "stream",
     "text": [
      "WARNING (theano.configdefaults): install mkl with `conda install mkl-service`: No module named 'mkl'\n"
     ]
    },
    {
     "name": "stdout",
     "output_type": "stream",
     "text": [
      "Train on 22500 samples, validate on 2500 samples\n",
      "Epoch 1/50\n",
      "22500/22500 [==============================] - 137s - loss: 788.5050 - acc: 0.5133 - val_loss: 27.2606 - val_acc: 0.5085\n",
      "Epoch 2/50\n",
      "22500/22500 [==============================] - 137s - loss: 20.5923 - acc: 0.5154 - val_loss: 16.3079 - val_acc: 0.5085\n",
      "Epoch 3/50\n",
      "22500/22500 [==============================] - 136s - loss: 13.0212 - acc: 0.5154 - val_loss: 20.8069 - val_acc: 0.5085\n",
      "Epoch 4/50\n",
      "22500/22500 [==============================] - 136s - loss: 10.3397 - acc: 0.5154 - val_loss: 5.5149 - val_acc: 0.5085\n",
      "Epoch 5/50\n",
      "22500/22500 [==============================] - 136s - loss: 6.7829 - acc: 0.5154 - val_loss: 7.0614 - val_acc: 0.5085\n",
      "Epoch 6/50\n",
      "22500/22500 [==============================] - 135s - loss: 6.4272 - acc: 0.5154 - val_loss: 9.0126 - val_acc: 0.5085\n",
      "Epoch 7/50\n",
      "22500/22500 [==============================] - 135s - loss: 6.3117 - acc: 0.5154 - val_loss: 2.5953 - val_acc: 0.5085\n",
      "Epoch 8/50\n",
      "22500/22500 [==============================] - 135s - loss: 3.4090 - acc: 0.5154 - val_loss: 2.3833 - val_acc: 0.5085\n",
      "Epoch 9/50\n",
      "22500/22500 [==============================] - 135s - loss: 2.3454 - acc: 0.5154 - val_loss: 2.3278 - val_acc: 0.5085\n",
      "Epoch 10/50\n",
      "22500/22500 [==============================] - 135s - loss: 2.3187 - acc: 0.5154 - val_loss: 2.3435 - val_acc: 0.5085\n",
      "Epoch 11/50\n",
      "22500/22500 [==============================] - 135s - loss: 2.3063 - acc: 0.5154 - val_loss: 2.2674 - val_acc: 0.5085\n",
      "Epoch 12/50\n",
      "22500/22500 [==============================] - 135s - loss: 2.2954 - acc: 0.5154 - val_loss: 2.2361 - val_acc: 0.5085\n",
      "Epoch 13/50\n",
      "22500/22500 [==============================] - 136s - loss: 2.2886 - acc: 0.5154 - val_loss: 2.3171 - val_acc: 0.5085\n",
      "Epoch 14/50\n",
      "22500/22500 [==============================] - 137s - loss: 2.2839 - acc: 0.5154 - val_loss: 2.2768 - val_acc: 0.5085\n",
      "Epoch 15/50\n",
      "22500/22500 [==============================] - 137s - loss: 2.2805 - acc: 0.5154 - val_loss: 2.2783 - val_acc: 0.5085\n",
      "Epoch 16/50\n",
      "22500/22500 [==============================] - 137s - loss: 2.2771 - acc: 0.5154 - val_loss: 2.3092 - val_acc: 0.5085\n",
      "Epoch 17/50\n",
      "22500/22500 [==============================] - 136s - loss: 2.2748 - acc: 0.5154 - val_loss: 2.2577 - val_acc: 0.5085\n",
      "Epoch 18/50\n",
      "22500/22500 [==============================] - 136s - loss: 2.2721 - acc: 0.5154 - val_loss: 2.2782 - val_acc: 0.5085\n",
      "Epoch 19/50\n",
      "22500/22500 [==============================] - 136s - loss: 2.2688 - acc: 0.5154 - val_loss: 2.2668 - val_acc: 0.5085\n",
      "Epoch 20/50\n",
      "22500/22500 [==============================] - 137s - loss: 2.2662 - acc: 0.5154 - val_loss: 2.2459 - val_acc: 0.5085\n",
      "Epoch 21/50\n",
      "22500/22500 [==============================] - 137s - loss: 2.2620 - acc: 0.5154 - val_loss: 2.2413 - val_acc: 0.5085\n",
      "Epoch 22/50\n",
      "22500/22500 [==============================] - 136s - loss: 2.2590 - acc: 0.5154 - val_loss: 2.2165 - val_acc: 0.5085\n",
      "Epoch 23/50\n",
      "22500/22500 [==============================] - 136s - loss: 2.2536 - acc: 0.5154 - val_loss: 2.2417 - val_acc: 0.5085\n",
      "Epoch 24/50\n",
      "22500/22500 [==============================] - 136s - loss: 2.2517 - acc: 0.5154 - val_loss: 2.2062 - val_acc: 0.5085\n",
      "Epoch 25/50\n",
      "22500/22500 [==============================] - 138s - loss: 2.2419 - acc: 0.5154 - val_loss: 2.2110 - val_acc: 0.5085\n",
      "Epoch 26/50\n",
      "22500/22500 [==============================] - 137s - loss: 2.2089 - acc: 0.5154 - val_loss: 2.1998 - val_acc: 0.5085\n",
      "Epoch 27/50\n",
      "22500/22500 [==============================] - 136s - loss: 2.1706 - acc: 0.5154 - val_loss: 2.1933 - val_acc: 0.5085\n",
      "Epoch 28/50\n",
      "22500/22500 [==============================] - 136s - loss: 2.1684 - acc: 0.5154 - val_loss: 2.1913 - val_acc: 0.5085\n",
      "Epoch 29/50\n",
      "22500/22500 [==============================] - 137s - loss: 2.1679 - acc: 0.5154 - val_loss: 2.1915 - val_acc: 0.5085\n",
      "Epoch 30/50\n",
      "22500/22500 [==============================] - 137s - loss: 2.1677 - acc: 0.5154 - val_loss: 2.1913 - val_acc: 0.5085\n",
      "Epoch 31/50\n",
      "22500/22500 [==============================] - 137s - loss: 2.1676 - acc: 0.5154 - val_loss: 2.1913 - val_acc: 0.5085\n",
      "Epoch 32/50\n",
      "22500/22500 [==============================] - 135s - loss: 2.1676 - acc: 0.5154 - val_loss: 2.1912 - val_acc: 0.5085\n",
      "Epoch 33/50\n",
      "22500/22500 [==============================] - 136s - loss: 2.1676 - acc: 0.5154 - val_loss: 2.1912 - val_acc: 0.5085\n",
      "Epoch 34/50\n",
      "22500/22500 [==============================] - 136s - loss: 2.1676 - acc: 0.5154 - val_loss: 2.1912 - val_acc: 0.5085\n",
      "Epoch 35/50\n",
      "22500/22500 [==============================] - 137s - loss: 2.1676 - acc: 0.5154 - val_loss: 2.1911 - val_acc: 0.5085\n",
      "Epoch 36/50\n",
      "22500/22500 [==============================] - 136s - loss: 2.1676 - acc: 0.5154 - val_loss: 2.1912 - val_acc: 0.5085\n",
      "Epoch 37/50\n",
      "22500/22500 [==============================] - 136s - loss: 2.1676 - acc: 0.5154 - val_loss: 2.1912 - val_acc: 0.5085\n",
      "Epoch 38/50\n",
      "22500/22500 [==============================] - 136s - loss: 2.1676 - acc: 0.5154 - val_loss: 2.1912 - val_acc: 0.5085\n",
      "Epoch 39/50\n",
      "22500/22500 [==============================] - 136s - loss: 2.1676 - acc: 0.5154 - val_loss: 2.1912 - val_acc: 0.5085\n",
      "Epoch 40/50\n",
      "22500/22500 [==============================] - 137s - loss: 2.1676 - acc: 0.5154 - val_loss: 2.1913 - val_acc: 0.5085\n",
      "Epoch 41/50\n",
      "22500/22500 [==============================] - 137s - loss: 2.1676 - acc: 0.5154 - val_loss: 2.1911 - val_acc: 0.5085\n",
      "Epoch 42/50\n",
      "22500/22500 [==============================] - 137s - loss: 2.1676 - acc: 0.5154 - val_loss: 2.1912 - val_acc: 0.5085\n",
      "Epoch 43/50\n",
      "22500/22500 [==============================] - 136s - loss: 2.1676 - acc: 0.5154 - val_loss: 2.1912 - val_acc: 0.5085\n",
      "Epoch 44/50\n",
      "22500/22500 [==============================] - 135s - loss: 2.1676 - acc: 0.5154 - val_loss: 2.1912 - val_acc: 0.5085\n",
      "Epoch 45/50\n",
      "22500/22500 [==============================] - 135s - loss: 2.1676 - acc: 0.5154 - val_loss: 2.1912 - val_acc: 0.5085\n",
      "Epoch 46/50\n",
      "22500/22500 [==============================] - 136s - loss: 2.1676 - acc: 0.5154 - val_loss: 2.1912 - val_acc: 0.5085\n",
      "Epoch 47/50\n",
      "22500/22500 [==============================] - 137s - loss: 2.1676 - acc: 0.5154 - val_loss: 2.1912 - val_acc: 0.5085\n",
      "Epoch 48/50\n",
      "22500/22500 [==============================] - 137s - loss: 2.1676 - acc: 0.5154 - val_loss: 2.1912 - val_acc: 0.5085\n",
      "Epoch 49/50\n",
      "22500/22500 [==============================] - 137s - loss: 2.1676 - acc: 0.5154 - val_loss: 2.1913 - val_acc: 0.5085\n",
      "Epoch 50/50\n",
      "22500/22500 [==============================] - 137s - loss: 2.1676 - acc: 0.5154 - val_loss: 2.1911 - val_acc: 0.5085\n",
      "CPU times: user 1h 52min 31s, sys: 3min 17s, total: 1h 55min 49s\n",
      "Wall time: 1h 55min 44s\n"
     ]
    }
   ],
   "source": [
    "%%time\n",
    "epochs = 50\n",
    "batch_size = 100\n",
    "valsplit = 0.1\n",
    "modelpath = \"models/BIG-1000E-SLIDES-{0}-{1}N.h5\".format(code, n_noise)\n",
    "hist = model.fit (\n",
    "    train_data,\n",
    "    train_target,\n",
    "    epochs=epochs,\n",
    "    batch_size=batch_size,\n",
    "    verbose=1,\n",
    "    validation_split=valsplit,\n",
    "    callbacks=[keras.callbacks.ModelCheckpoint(\n",
    "        filepath=modelpath,\n",
    "        save_best_only=True\n",
    "    )]\n",
    ")"
   ]
  }
 ],
 "metadata": {
  "kernelspec": {
   "display_name": "Python 3",
   "language": "python",
   "name": "python3"
  },
  "language_info": {
   "codemirror_mode": {
    "name": "ipython",
    "version": 3
   },
   "file_extension": ".py",
   "mimetype": "text/x-python",
   "name": "python",
   "nbconvert_exporter": "python",
   "pygments_lexer": "ipython3",
   "version": "3.5.2"
  }
 },
 "nbformat": 4,
 "nbformat_minor": 2
}
